{
 "cells": [
  {
   "cell_type": "markdown",
   "metadata": {},
   "source": [
    "# US Election 2020 Election Forecasting Using Polling Data for Simulations\n",
    "\n",
    "![](https://i.imgur.com/XxjbFK6.jpg?1)\n",
    "\n",
    "We'll be using the Latest Polls dataset from [FiveThirtyEight](https://data.fivethirtyeight.com/)\n",
    "\n",
    "![](https://i.imgur.com/2ROon41.png?2\n",
    ")\n",
    "- The file we'll be using is called *presidential_poll.csv*\n",
    "\n",
    "## Steps\n",
    "\n",
    "1. Understanding our dataset from [FiveThirtyEight](https://data.fivethirtyeight.com/)\n",
    "2. Cleaning and Exploring our Data\n",
    "3. Changing our Data Layout\n",
    "4. Understanind the US Electoral Process\n",
    "5. Visualizations\n",
    "6. Statistical Interpretation and Averaging of Polls\n",
    "7. Simulating Elections Statistically \n",
    "8. Result Analysis\n",
    "9. Visualizng Results on a Map"
   ]
  },
  {
   "cell_type": "code",
   "execution_count": 97,
   "metadata": {},
   "outputs": [
    {
     "data": {
      "text/html": [
       "<div>\n",
       "<style scoped>\n",
       "    .dataframe tbody tr th:only-of-type {\n",
       "        vertical-align: middle;\n",
       "    }\n",
       "\n",
       "    .dataframe tbody tr th {\n",
       "        vertical-align: top;\n",
       "    }\n",
       "\n",
       "    .dataframe thead th {\n",
       "        text-align: right;\n",
       "    }\n",
       "</style>\n",
       "<table border=\"1\" class=\"dataframe\">\n",
       "  <thead>\n",
       "    <tr style=\"text-align: right;\">\n",
       "      <th></th>\n",
       "      <th>question_id</th>\n",
       "      <th>poll_id</th>\n",
       "      <th>cycle</th>\n",
       "      <th>state</th>\n",
       "      <th>pollster_id</th>\n",
       "      <th>pollster</th>\n",
       "      <th>sponsor_ids</th>\n",
       "      <th>sponsors</th>\n",
       "      <th>display_name</th>\n",
       "      <th>pollster_rating_id</th>\n",
       "      <th>...</th>\n",
       "      <th>created_at</th>\n",
       "      <th>notes</th>\n",
       "      <th>url</th>\n",
       "      <th>stage</th>\n",
       "      <th>race_id</th>\n",
       "      <th>answer</th>\n",
       "      <th>candidate_id</th>\n",
       "      <th>candidate_name</th>\n",
       "      <th>candidate_party</th>\n",
       "      <th>pct</th>\n",
       "    </tr>\n",
       "  </thead>\n",
       "  <tbody>\n",
       "    <tr>\n",
       "      <th>0</th>\n",
       "      <td>133816</td>\n",
       "      <td>71450</td>\n",
       "      <td>2020</td>\n",
       "      <td>Ohio</td>\n",
       "      <td>399</td>\n",
       "      <td>Rasmussen Reports/Pulse Opinion Research</td>\n",
       "      <td>NaN</td>\n",
       "      <td>NaN</td>\n",
       "      <td>Rasmussen Reports/Pulse Opinion Research</td>\n",
       "      <td>277.0</td>\n",
       "      <td>...</td>\n",
       "      <td>10/20/20 10:30</td>\n",
       "      <td>NaN</td>\n",
       "      <td>https://www.rasmussenreports.com/public_conten...</td>\n",
       "      <td>general</td>\n",
       "      <td>6246</td>\n",
       "      <td>Biden</td>\n",
       "      <td>13256</td>\n",
       "      <td>Joseph R. Biden Jr.</td>\n",
       "      <td>DEM</td>\n",
       "      <td>48.0</td>\n",
       "    </tr>\n",
       "    <tr>\n",
       "      <th>1</th>\n",
       "      <td>133816</td>\n",
       "      <td>71450</td>\n",
       "      <td>2020</td>\n",
       "      <td>Ohio</td>\n",
       "      <td>399</td>\n",
       "      <td>Rasmussen Reports/Pulse Opinion Research</td>\n",
       "      <td>NaN</td>\n",
       "      <td>NaN</td>\n",
       "      <td>Rasmussen Reports/Pulse Opinion Research</td>\n",
       "      <td>277.0</td>\n",
       "      <td>...</td>\n",
       "      <td>10/20/20 10:30</td>\n",
       "      <td>NaN</td>\n",
       "      <td>https://www.rasmussenreports.com/public_conten...</td>\n",
       "      <td>general</td>\n",
       "      <td>6246</td>\n",
       "      <td>Trump</td>\n",
       "      <td>13254</td>\n",
       "      <td>Donald Trump</td>\n",
       "      <td>REP</td>\n",
       "      <td>47.0</td>\n",
       "    </tr>\n",
       "    <tr>\n",
       "      <th>2</th>\n",
       "      <td>133838</td>\n",
       "      <td>71457</td>\n",
       "      <td>2020</td>\n",
       "      <td>Pennsylvania</td>\n",
       "      <td>399</td>\n",
       "      <td>Rasmussen Reports/Pulse Opinion Research</td>\n",
       "      <td>NaN</td>\n",
       "      <td>NaN</td>\n",
       "      <td>Rasmussen Reports/Pulse Opinion Research</td>\n",
       "      <td>277.0</td>\n",
       "      <td>...</td>\n",
       "      <td>10/20/20 13:21</td>\n",
       "      <td>NaN</td>\n",
       "      <td>https://www.rasmussenreports.com/public_conten...</td>\n",
       "      <td>general</td>\n",
       "      <td>6249</td>\n",
       "      <td>Biden</td>\n",
       "      <td>13256</td>\n",
       "      <td>Joseph R. Biden Jr.</td>\n",
       "      <td>DEM</td>\n",
       "      <td>50.0</td>\n",
       "    </tr>\n",
       "    <tr>\n",
       "      <th>3</th>\n",
       "      <td>133838</td>\n",
       "      <td>71457</td>\n",
       "      <td>2020</td>\n",
       "      <td>Pennsylvania</td>\n",
       "      <td>399</td>\n",
       "      <td>Rasmussen Reports/Pulse Opinion Research</td>\n",
       "      <td>NaN</td>\n",
       "      <td>NaN</td>\n",
       "      <td>Rasmussen Reports/Pulse Opinion Research</td>\n",
       "      <td>277.0</td>\n",
       "      <td>...</td>\n",
       "      <td>10/20/20 13:21</td>\n",
       "      <td>NaN</td>\n",
       "      <td>https://www.rasmussenreports.com/public_conten...</td>\n",
       "      <td>general</td>\n",
       "      <td>6249</td>\n",
       "      <td>Trump</td>\n",
       "      <td>13254</td>\n",
       "      <td>Donald Trump</td>\n",
       "      <td>REP</td>\n",
       "      <td>47.0</td>\n",
       "    </tr>\n",
       "    <tr>\n",
       "      <th>4</th>\n",
       "      <td>133777</td>\n",
       "      <td>71435</td>\n",
       "      <td>2020</td>\n",
       "      <td>Georgia</td>\n",
       "      <td>1102</td>\n",
       "      <td>Emerson College</td>\n",
       "      <td>1446</td>\n",
       "      <td>NewsNation</td>\n",
       "      <td>Emerson College</td>\n",
       "      <td>88.0</td>\n",
       "      <td>...</td>\n",
       "      <td>10/19/20 20:06</td>\n",
       "      <td>NaN</td>\n",
       "      <td>https://emersonpolling.reportablenews.com/pr/g...</td>\n",
       "      <td>general</td>\n",
       "      <td>6221</td>\n",
       "      <td>Biden</td>\n",
       "      <td>13256</td>\n",
       "      <td>Joseph R. Biden Jr.</td>\n",
       "      <td>DEM</td>\n",
       "      <td>47.0</td>\n",
       "    </tr>\n",
       "  </tbody>\n",
       "</table>\n",
       "<p>5 rows × 38 columns</p>\n",
       "</div>"
      ],
      "text/plain": [
       "   question_id  poll_id  cycle         state  pollster_id  \\\n",
       "0       133816    71450   2020          Ohio          399   \n",
       "1       133816    71450   2020          Ohio          399   \n",
       "2       133838    71457   2020  Pennsylvania          399   \n",
       "3       133838    71457   2020  Pennsylvania          399   \n",
       "4       133777    71435   2020       Georgia         1102   \n",
       "\n",
       "                                   pollster sponsor_ids    sponsors  \\\n",
       "0  Rasmussen Reports/Pulse Opinion Research         NaN         NaN   \n",
       "1  Rasmussen Reports/Pulse Opinion Research         NaN         NaN   \n",
       "2  Rasmussen Reports/Pulse Opinion Research         NaN         NaN   \n",
       "3  Rasmussen Reports/Pulse Opinion Research         NaN         NaN   \n",
       "4                           Emerson College        1446  NewsNation   \n",
       "\n",
       "                               display_name  pollster_rating_id  ...  \\\n",
       "0  Rasmussen Reports/Pulse Opinion Research               277.0  ...   \n",
       "1  Rasmussen Reports/Pulse Opinion Research               277.0  ...   \n",
       "2  Rasmussen Reports/Pulse Opinion Research               277.0  ...   \n",
       "3  Rasmussen Reports/Pulse Opinion Research               277.0  ...   \n",
       "4                           Emerson College                88.0  ...   \n",
       "\n",
       "       created_at notes                                                url  \\\n",
       "0  10/20/20 10:30   NaN  https://www.rasmussenreports.com/public_conten...   \n",
       "1  10/20/20 10:30   NaN  https://www.rasmussenreports.com/public_conten...   \n",
       "2  10/20/20 13:21   NaN  https://www.rasmussenreports.com/public_conten...   \n",
       "3  10/20/20 13:21   NaN  https://www.rasmussenreports.com/public_conten...   \n",
       "4  10/19/20 20:06   NaN  https://emersonpolling.reportablenews.com/pr/g...   \n",
       "\n",
       "     stage race_id answer candidate_id       candidate_name  candidate_party  \\\n",
       "0  general    6246  Biden        13256  Joseph R. Biden Jr.              DEM   \n",
       "1  general    6246  Trump        13254         Donald Trump              REP   \n",
       "2  general    6249  Biden        13256  Joseph R. Biden Jr.              DEM   \n",
       "3  general    6249  Trump        13254         Donald Trump              REP   \n",
       "4  general    6221  Biden        13256  Joseph R. Biden Jr.              DEM   \n",
       "\n",
       "    pct  \n",
       "0  48.0  \n",
       "1  47.0  \n",
       "2  50.0  \n",
       "3  47.0  \n",
       "4  47.0  \n",
       "\n",
       "[5 rows x 38 columns]"
      ]
     },
     "execution_count": 97,
     "metadata": {},
     "output_type": "execute_result"
    }
   ],
   "source": [
    "import pandas as pd\n",
    "import numpy as np\n",
    "\n",
    "# I've already downloaded it here but feel free to download and upload a more recent poll\n",
    "url='https://github.com/rajeevratan84/datascienceforbusiness/blob/master/president_polls.csv?raw=true'\n",
    "df = pd.read_csv(url)\n",
    "df.head()"
   ]
  },
  {
   "cell_type": "code",
   "execution_count": 98,
   "metadata": {},
   "outputs": [
    {
     "data": {
      "text/plain": [
       "Index(['question_id', 'poll_id', 'cycle', 'state', 'pollster_id', 'pollster',\n",
       "       'sponsor_ids', 'sponsors', 'display_name', 'pollster_rating_id',\n",
       "       'pollster_rating_name', 'fte_grade', 'sample_size', 'population',\n",
       "       'population_full', 'methodology', 'office_type', 'seat_number',\n",
       "       'seat_name', 'start_date', 'end_date', 'election_date',\n",
       "       'sponsor_candidate', 'internal', 'partisan', 'tracking',\n",
       "       'nationwide_batch', 'ranked_choice_reallocated', 'created_at', 'notes',\n",
       "       'url', 'stage', 'race_id', 'answer', 'candidate_id', 'candidate_name',\n",
       "       'candidate_party', 'pct'],\n",
       "      dtype='object')"
      ]
     },
     "execution_count": 98,
     "metadata": {},
     "output_type": "execute_result"
    }
   ],
   "source": [
    "df.columns"
   ]
  },
  {
   "cell_type": "code",
   "execution_count": 99,
   "metadata": {},
   "outputs": [
    {
     "data": {
      "text/plain": [
       "count    11909.000000\n",
       "mean      6246.252918\n",
       "std        208.292746\n",
       "min       6210.000000\n",
       "25%       6210.000000\n",
       "50%       6220.000000\n",
       "75%       6244.000000\n",
       "max       8718.000000\n",
       "Name: race_id, dtype: float64"
      ]
     },
     "execution_count": 99,
     "metadata": {},
     "output_type": "execute_result"
    }
   ],
   "source": [
    "df['race_id'].describe()"
   ]
  },
  {
   "cell_type": "code",
   "execution_count": 100,
   "metadata": {},
   "outputs": [
    {
     "data": {
      "text/html": [
       "<div>\n",
       "<style scoped>\n",
       "    .dataframe tbody tr th:only-of-type {\n",
       "        vertical-align: middle;\n",
       "    }\n",
       "\n",
       "    .dataframe tbody tr th {\n",
       "        vertical-align: top;\n",
       "    }\n",
       "\n",
       "    .dataframe thead th {\n",
       "        text-align: right;\n",
       "    }\n",
       "</style>\n",
       "<table border=\"1\" class=\"dataframe\">\n",
       "  <thead>\n",
       "    <tr style=\"text-align: right;\">\n",
       "      <th></th>\n",
       "      <th>question_id</th>\n",
       "      <th>poll_id</th>\n",
       "      <th>state</th>\n",
       "      <th>pollster</th>\n",
       "      <th>start_date</th>\n",
       "      <th>end_date</th>\n",
       "      <th>answer</th>\n",
       "      <th>pct</th>\n",
       "    </tr>\n",
       "  </thead>\n",
       "  <tbody>\n",
       "    <tr>\n",
       "      <th>0</th>\n",
       "      <td>133816</td>\n",
       "      <td>71450</td>\n",
       "      <td>Ohio</td>\n",
       "      <td>Rasmussen Reports/Pulse Opinion Research</td>\n",
       "      <td>10/18/20</td>\n",
       "      <td>10/19/20</td>\n",
       "      <td>Biden</td>\n",
       "      <td>48.0</td>\n",
       "    </tr>\n",
       "    <tr>\n",
       "      <th>1</th>\n",
       "      <td>133816</td>\n",
       "      <td>71450</td>\n",
       "      <td>Ohio</td>\n",
       "      <td>Rasmussen Reports/Pulse Opinion Research</td>\n",
       "      <td>10/18/20</td>\n",
       "      <td>10/19/20</td>\n",
       "      <td>Trump</td>\n",
       "      <td>47.0</td>\n",
       "    </tr>\n",
       "    <tr>\n",
       "      <th>2</th>\n",
       "      <td>133838</td>\n",
       "      <td>71457</td>\n",
       "      <td>Pennsylvania</td>\n",
       "      <td>Rasmussen Reports/Pulse Opinion Research</td>\n",
       "      <td>10/18/20</td>\n",
       "      <td>10/19/20</td>\n",
       "      <td>Biden</td>\n",
       "      <td>50.0</td>\n",
       "    </tr>\n",
       "    <tr>\n",
       "      <th>3</th>\n",
       "      <td>133838</td>\n",
       "      <td>71457</td>\n",
       "      <td>Pennsylvania</td>\n",
       "      <td>Rasmussen Reports/Pulse Opinion Research</td>\n",
       "      <td>10/18/20</td>\n",
       "      <td>10/19/20</td>\n",
       "      <td>Trump</td>\n",
       "      <td>47.0</td>\n",
       "    </tr>\n",
       "    <tr>\n",
       "      <th>4</th>\n",
       "      <td>133777</td>\n",
       "      <td>71435</td>\n",
       "      <td>Georgia</td>\n",
       "      <td>Emerson College</td>\n",
       "      <td>10/17/20</td>\n",
       "      <td>10/19/20</td>\n",
       "      <td>Biden</td>\n",
       "      <td>47.0</td>\n",
       "    </tr>\n",
       "    <tr>\n",
       "      <th>...</th>\n",
       "      <td>...</td>\n",
       "      <td>...</td>\n",
       "      <td>...</td>\n",
       "      <td>...</td>\n",
       "      <td>...</td>\n",
       "      <td>...</td>\n",
       "      <td>...</td>\n",
       "      <td>...</td>\n",
       "    </tr>\n",
       "    <tr>\n",
       "      <th>11904</th>\n",
       "      <td>92081</td>\n",
       "      <td>57026</td>\n",
       "      <td>Ohio</td>\n",
       "      <td>Public Policy Polling</td>\n",
       "      <td>11/27/18</td>\n",
       "      <td>11/28/18</td>\n",
       "      <td>Trump</td>\n",
       "      <td>46.0</td>\n",
       "    </tr>\n",
       "    <tr>\n",
       "      <th>11905</th>\n",
       "      <td>92082</td>\n",
       "      <td>57026</td>\n",
       "      <td>Ohio</td>\n",
       "      <td>Public Policy Polling</td>\n",
       "      <td>11/27/18</td>\n",
       "      <td>11/28/18</td>\n",
       "      <td>Warren</td>\n",
       "      <td>43.0</td>\n",
       "    </tr>\n",
       "    <tr>\n",
       "      <th>11906</th>\n",
       "      <td>92082</td>\n",
       "      <td>57026</td>\n",
       "      <td>Ohio</td>\n",
       "      <td>Public Policy Polling</td>\n",
       "      <td>11/27/18</td>\n",
       "      <td>11/28/18</td>\n",
       "      <td>Trump</td>\n",
       "      <td>49.0</td>\n",
       "    </tr>\n",
       "    <tr>\n",
       "      <th>11907</th>\n",
       "      <td>92078</td>\n",
       "      <td>57025</td>\n",
       "      <td>NaN</td>\n",
       "      <td>Rasmussen Reports/Pulse Opinion Research</td>\n",
       "      <td>11/12/18</td>\n",
       "      <td>11/13/18</td>\n",
       "      <td>Obama</td>\n",
       "      <td>50.0</td>\n",
       "    </tr>\n",
       "    <tr>\n",
       "      <th>11908</th>\n",
       "      <td>92078</td>\n",
       "      <td>57025</td>\n",
       "      <td>NaN</td>\n",
       "      <td>Rasmussen Reports/Pulse Opinion Research</td>\n",
       "      <td>11/12/18</td>\n",
       "      <td>11/13/18</td>\n",
       "      <td>Trump</td>\n",
       "      <td>43.0</td>\n",
       "    </tr>\n",
       "  </tbody>\n",
       "</table>\n",
       "<p>11909 rows × 8 columns</p>\n",
       "</div>"
      ],
      "text/plain": [
       "       question_id  poll_id         state  \\\n",
       "0           133816    71450          Ohio   \n",
       "1           133816    71450          Ohio   \n",
       "2           133838    71457  Pennsylvania   \n",
       "3           133838    71457  Pennsylvania   \n",
       "4           133777    71435       Georgia   \n",
       "...            ...      ...           ...   \n",
       "11904        92081    57026          Ohio   \n",
       "11905        92082    57026          Ohio   \n",
       "11906        92082    57026          Ohio   \n",
       "11907        92078    57025           NaN   \n",
       "11908        92078    57025           NaN   \n",
       "\n",
       "                                       pollster start_date  end_date  answer  \\\n",
       "0      Rasmussen Reports/Pulse Opinion Research   10/18/20  10/19/20   Biden   \n",
       "1      Rasmussen Reports/Pulse Opinion Research   10/18/20  10/19/20   Trump   \n",
       "2      Rasmussen Reports/Pulse Opinion Research   10/18/20  10/19/20   Biden   \n",
       "3      Rasmussen Reports/Pulse Opinion Research   10/18/20  10/19/20   Trump   \n",
       "4                               Emerson College   10/17/20  10/19/20   Biden   \n",
       "...                                         ...        ...       ...     ...   \n",
       "11904                     Public Policy Polling   11/27/18  11/28/18   Trump   \n",
       "11905                     Public Policy Polling   11/27/18  11/28/18  Warren   \n",
       "11906                     Public Policy Polling   11/27/18  11/28/18   Trump   \n",
       "11907  Rasmussen Reports/Pulse Opinion Research   11/12/18  11/13/18   Obama   \n",
       "11908  Rasmussen Reports/Pulse Opinion Research   11/12/18  11/13/18   Trump   \n",
       "\n",
       "        pct  \n",
       "0      48.0  \n",
       "1      47.0  \n",
       "2      50.0  \n",
       "3      47.0  \n",
       "4      47.0  \n",
       "...     ...  \n",
       "11904  46.0  \n",
       "11905  43.0  \n",
       "11906  49.0  \n",
       "11907  50.0  \n",
       "11908  43.0  \n",
       "\n",
       "[11909 rows x 8 columns]"
      ]
     },
     "execution_count": 100,
     "metadata": {},
     "output_type": "execute_result"
    }
   ],
   "source": [
    "df = df [['question_id','poll_id','state', 'pollster','start_date','end_date','answer','pct']]\n",
    "df"
   ]
  },
  {
   "cell_type": "code",
   "execution_count": 101,
   "metadata": {},
   "outputs": [
    {
     "name": "stdout",
     "output_type": "stream",
     "text": [
      "196\n"
     ]
    }
   ],
   "source": [
    "print(len(df['pollster'].unique()))"
   ]
  },
  {
   "cell_type": "code",
   "execution_count": 102,
   "metadata": {},
   "outputs": [
    {
     "data": {
      "text/plain": [
       "array(['10/18/20', '10/17/20', '10/15/20', '10/13/20', '10/6/20',\n",
       "       '10/16/20', '10/14/20', '10/5/20', '9/21/20', '9/20/20',\n",
       "       '10/12/20', '10/4/20', '9/19/20', '10/3/20', '9/18/20', '10/11/20',\n",
       "       '10/9/20', '10/2/20', '9/17/20', '10/10/20', '10/7/20', '10/1/20',\n",
       "       '9/16/20', '10/8/20', '9/30/20', '9/15/20', '9/29/20', '9/14/20',\n",
       "       '9/28/20', '9/27/20', '9/26/20', '9/25/20', '9/22/20', '9/24/20',\n",
       "       '9/23/20', '9/1/20', '9/13/20', '9/12/20', '9/10/20', '9/11/20',\n",
       "       '9/9/20', '9/8/20', '9/7/20', '9/6/20', '9/5/20', '9/4/20',\n",
       "       '9/3/20', '9/2/20', '8/31/20', '8/29/20', '8/30/20', '8/28/20',\n",
       "       '8/27/20', '8/26/20', '8/25/20', '8/24/20', '8/23/20', '8/22/20',\n",
       "       '8/21/20', '8/20/20', '8/19/20', '8/18/20', '8/1/20', '8/17/20',\n",
       "       '8/16/20', '8/15/20', '8/14/20', '8/13/20', '8/12/20', '8/11/20',\n",
       "       '8/9/20', '8/10/20', '8/8/20', '8/7/20', '8/6/20', '8/5/20',\n",
       "       '8/4/20', '8/3/20', '8/2/20', '7/31/20', '7/30/20', '7/28/20',\n",
       "       '7/29/20', '7/27/20', '7/26/20', '7/25/20', '7/24/20', '7/23/20',\n",
       "       '7/22/20', '7/1/20', '7/21/20', '7/20/20', '7/19/20', '7/16/20',\n",
       "       '7/6/20', '7/18/20', '7/17/20', '7/15/20', '7/14/20', '7/13/20',\n",
       "       '7/12/20', '7/11/20', '7/10/20', '7/9/20', '7/8/20', '7/7/20',\n",
       "       '6/24/20', '7/5/20', '7/4/20', '7/3/20', '7/2/20', '6/30/20',\n",
       "       '6/29/20', '6/28/20', '6/23/20', '6/27/20', '6/26/20', '6/25/20',\n",
       "       '6/22/20', '6/21/20', '6/8/20', '6/20/20', '6/19/20', '6/12/20',\n",
       "       '6/18/20', '6/17/20', '6/16/20', '6/15/20', '6/14/20', '6/13/20',\n",
       "       '6/11/20', '6/10/20', '6/9/20', '6/7/20', '6/6/20', '6/5/20',\n",
       "       '6/4/20', '6/3/20', '6/2/20', '6/1/20', '5/28/20', '5/31/20',\n",
       "       '5/30/20', '5/29/20', '5/27/20', '5/21/20', '5/26/20', '5/25/20',\n",
       "       '5/24/20', '5/23/20', '5/22/20', '5/16/20', '5/18/20', '5/20/20',\n",
       "       '5/19/20', '5/17/20', '5/15/20', '5/14/20', '5/13/20', '5/5/20',\n",
       "       '5/12/20', '5/11/20', '5/10/20', '5/9/20', '5/8/20', '5/7/20',\n",
       "       '5/3/20', '5/6/20', '5/2/20', '5/4/20', '5/1/20', '4/30/20',\n",
       "       '4/29/20', '4/28/20', '4/27/20', '4/26/20', '4/25/20', '4/22/20',\n",
       "       '4/16/20', '4/21/20', '4/23/20', '4/18/20', '4/10/20', '4/20/20',\n",
       "       '4/19/20', '4/15/20', '4/14/20', '4/13/20', '4/17/20', '4/11/20',\n",
       "       '4/9/20', '4/12/20', '4/7/20', '4/8/20', '4/6/20', '4/4/20',\n",
       "       '3/25/20', '4/5/20', '4/3/20', '4/2/20', '3/31/20', '3/30/20',\n",
       "       '3/28/20', '3/24/20', '3/29/20', '3/27/20', '3/21/20', '3/23/20',\n",
       "       '3/26/20', '3/22/20', '3/17/20', '3/20/20', '3/18/20', '3/10/20',\n",
       "       '3/16/20', '3/19/20', '3/15/20', '3/14/20', '3/13/20', '3/12/20',\n",
       "       '3/11/20', '3/6/20', '3/5/20', '2/24/20', '3/8/20', '3/7/20',\n",
       "       '3/4/20', '3/3/20', '3/2/20', '2/20/20', '2/27/20', '2/26/20',\n",
       "       '2/25/20', '2/23/20', '2/22/20', '2/21/20', '2/17/20', '2/19/20',\n",
       "       '2/12/20', '2/16/20', '2/11/20', '2/15/20', '2/13/20', '2/10/20',\n",
       "       '2/9/20', '2/6/20', '2/14/20', '2/1/20', '2/8/20', '2/7/20',\n",
       "       '2/5/20', '2/4/20', '1/31/20', '1/30/20', '1/27/20', '1/28/20',\n",
       "       '1/23/20', '1/21/20', '1/26/20', '1/15/20', '1/20/20', '1/22/20',\n",
       "       '1/19/20', '1/16/20', '1/10/20', '1/9/20', '1/14/20', '1/11/20',\n",
       "       '1/8/20', '1/6/20', '1/3/20', '1/7/20', '1/5/20', '12/30/19',\n",
       "       '1/2/20', '12/16/19', '12/29/19', '12/28/19', '12/19/19',\n",
       "       '12/18/19', '12/15/19', '12/14/19', '12/12/19', '12/11/19',\n",
       "       '12/10/19', '12/5/19', '12/2/19', '12/8/19', '12/7/19', '12/4/19',\n",
       "       '12/3/19', '11/22/19', '11/20/19', '11/15/19', '11/9/19',\n",
       "       '11/17/19', '11/13/19', '11/5/19', '11/10/19', '11/4/19',\n",
       "       '11/8/19', '10/30/19', '11/3/19', '10/31/19', '10/25/19',\n",
       "       '10/24/19', '10/28/19', '10/27/19', '10/18/19', '10/13/19',\n",
       "       '10/22/19', '10/20/19', '10/19/19', '10/17/19', '10/14/19',\n",
       "       '10/15/19', '10/1/19', '10/11/19', '10/10/19', '10/2/19',\n",
       "       '10/6/19', '10/4/19', '9/29/19', '10/3/19', '9/23/19', '9/26/19',\n",
       "       '9/17/19', '9/25/19', '9/21/19', '9/18/19', '9/16/19', '9/15/19',\n",
       "       '9/14/19', '9/13/19', '9/12/19', '9/3/19', '9/9/19', '9/7/19',\n",
       "       '9/6/19', '8/31/19', '9/2/19', '8/22/19', '8/25/19', '8/24/19',\n",
       "       '8/21/19', '8/20/19', '8/23/19', '8/17/19', '8/16/19', '8/14/19',\n",
       "       '8/13/19', '8/11/19', '8/9/19', '7/22/19', '8/2/19', '7/31/19',\n",
       "       '8/1/19', '7/25/19', '7/21/19', '7/29/19', '7/27/19', '7/18/19',\n",
       "       '7/26/19', '7/24/19', '7/17/19', '7/7/19', '7/15/19', '7/14/19',\n",
       "       '7/6/19', '7/3/19', '6/23/19', '6/28/19', '6/24/19', '6/21/19',\n",
       "       '6/22/19', '6/9/19', '6/17/19', '6/12/19', '6/15/19', '6/11/19',\n",
       "       '6/8/19', '6/10/19', '6/6/19', '6/7/19', '6/3/19', '6/2/19',\n",
       "       '5/26/19', '5/29/19', '5/31/19', '5/25/19', '5/28/19', '5/12/19',\n",
       "       '5/18/19', '5/16/19', '5/14/19', '5/11/19', '5/9/19', '5/10/19',\n",
       "       '5/2/19', '4/28/19', '5/1/19', '4/30/19', '4/27/19', '4/25/19',\n",
       "       '4/14/19', '4/19/19', '4/15/19', '4/11/19', '4/10/19', '3/31/19',\n",
       "       '4/6/19', '4/4/19', '4/3/19', '3/28/19', '3/27/19', '3/26/19',\n",
       "       '3/17/19', '3/21/19', '3/19/19', '3/15/19', '3/9/19', '3/8/19',\n",
       "       '3/7/19', '2/26/19', '2/28/19', '2/20/19', '2/22/19', '2/21/19',\n",
       "       '2/14/19', '2/13/19', '2/12/19', '2/11/19', '1/30/19', '1/31/19',\n",
       "       '1/24/19', '1/19/19', '1/16/19', '1/10/19', '1/5/19', '1/4/19',\n",
       "       '12/16/18', '11/27/18', '11/12/18'], dtype=object)"
      ]
     },
     "execution_count": 102,
     "metadata": {},
     "output_type": "execute_result"
    }
   ],
   "source": [
    "df['start_date'].unique()"
   ]
  },
  {
   "cell_type": "code",
   "execution_count": 103,
   "metadata": {},
   "outputs": [
    {
     "name": "stdout",
     "output_type": "stream",
     "text": [
      "<class 'pandas.core.frame.DataFrame'>\n",
      "RangeIndex: 11909 entries, 0 to 11908\n",
      "Data columns (total 8 columns):\n",
      " #   Column       Non-Null Count  Dtype  \n",
      "---  ------       --------------  -----  \n",
      " 0   question_id  11909 non-null  int64  \n",
      " 1   poll_id      11909 non-null  int64  \n",
      " 2   state        7363 non-null   object \n",
      " 3   pollster     11909 non-null  object \n",
      " 4   start_date   11909 non-null  object \n",
      " 5   end_date     11909 non-null  object \n",
      " 6   answer       11909 non-null  object \n",
      " 7   pct          11909 non-null  float64\n",
      "dtypes: float64(1), int64(2), object(5)\n",
      "memory usage: 744.4+ KB\n"
     ]
    }
   ],
   "source": [
    "df.info()"
   ]
  },
  {
   "cell_type": "code",
   "execution_count": 104,
   "metadata": {},
   "outputs": [
    {
     "name": "stdout",
     "output_type": "stream",
     "text": [
      "<class 'pandas.core.frame.DataFrame'>\n",
      "RangeIndex: 11909 entries, 0 to 11908\n",
      "Data columns (total 8 columns):\n",
      " #   Column       Non-Null Count  Dtype         \n",
      "---  ------       --------------  -----         \n",
      " 0   question_id  11909 non-null  int64         \n",
      " 1   poll_id      11909 non-null  int64         \n",
      " 2   state        7363 non-null   object        \n",
      " 3   pollster     11909 non-null  object        \n",
      " 4   start_date   11909 non-null  datetime64[ns]\n",
      " 5   end_date     11909 non-null  datetime64[ns]\n",
      " 6   answer       11909 non-null  object        \n",
      " 7   pct          11909 non-null  float64       \n",
      "dtypes: datetime64[ns](2), float64(1), int64(2), object(3)\n",
      "memory usage: 744.4+ KB\n"
     ]
    }
   ],
   "source": [
    "# DataTime in object type. We have to change it to date time format\n",
    "df['start_date'] = pd.to_datetime(df['start_date'])\n",
    "df['end_date'] = pd.to_datetime(df['end_date'])\n",
    "df.info()"
   ]
  },
  {
   "cell_type": "code",
   "execution_count": 105,
   "metadata": {},
   "outputs": [
    {
     "data": {
      "text/html": [
       "<div>\n",
       "<style scoped>\n",
       "    .dataframe tbody tr th:only-of-type {\n",
       "        vertical-align: middle;\n",
       "    }\n",
       "\n",
       "    .dataframe tbody tr th {\n",
       "        vertical-align: top;\n",
       "    }\n",
       "\n",
       "    .dataframe thead th {\n",
       "        text-align: right;\n",
       "    }\n",
       "</style>\n",
       "<table border=\"1\" class=\"dataframe\">\n",
       "  <thead>\n",
       "    <tr style=\"text-align: right;\">\n",
       "      <th></th>\n",
       "      <th>question_id</th>\n",
       "      <th>poll_id</th>\n",
       "      <th>state</th>\n",
       "      <th>pollster</th>\n",
       "      <th>start_date</th>\n",
       "      <th>end_date</th>\n",
       "      <th>answer</th>\n",
       "      <th>pct</th>\n",
       "    </tr>\n",
       "  </thead>\n",
       "  <tbody>\n",
       "    <tr>\n",
       "      <th>0</th>\n",
       "      <td>133816</td>\n",
       "      <td>71450</td>\n",
       "      <td>Ohio</td>\n",
       "      <td>Rasmussen Reports/Pulse Opinion Research</td>\n",
       "      <td>2020-10-18</td>\n",
       "      <td>2020-10-19</td>\n",
       "      <td>Biden</td>\n",
       "      <td>48.0</td>\n",
       "    </tr>\n",
       "    <tr>\n",
       "      <th>1</th>\n",
       "      <td>133816</td>\n",
       "      <td>71450</td>\n",
       "      <td>Ohio</td>\n",
       "      <td>Rasmussen Reports/Pulse Opinion Research</td>\n",
       "      <td>2020-10-18</td>\n",
       "      <td>2020-10-19</td>\n",
       "      <td>Trump</td>\n",
       "      <td>47.0</td>\n",
       "    </tr>\n",
       "    <tr>\n",
       "      <th>2</th>\n",
       "      <td>133838</td>\n",
       "      <td>71457</td>\n",
       "      <td>Pennsylvania</td>\n",
       "      <td>Rasmussen Reports/Pulse Opinion Research</td>\n",
       "      <td>2020-10-18</td>\n",
       "      <td>2020-10-19</td>\n",
       "      <td>Biden</td>\n",
       "      <td>50.0</td>\n",
       "    </tr>\n",
       "    <tr>\n",
       "      <th>3</th>\n",
       "      <td>133838</td>\n",
       "      <td>71457</td>\n",
       "      <td>Pennsylvania</td>\n",
       "      <td>Rasmussen Reports/Pulse Opinion Research</td>\n",
       "      <td>2020-10-18</td>\n",
       "      <td>2020-10-19</td>\n",
       "      <td>Trump</td>\n",
       "      <td>47.0</td>\n",
       "    </tr>\n",
       "    <tr>\n",
       "      <th>4</th>\n",
       "      <td>133777</td>\n",
       "      <td>71435</td>\n",
       "      <td>Georgia</td>\n",
       "      <td>Emerson College</td>\n",
       "      <td>2020-10-17</td>\n",
       "      <td>2020-10-19</td>\n",
       "      <td>Biden</td>\n",
       "      <td>47.0</td>\n",
       "    </tr>\n",
       "    <tr>\n",
       "      <th>5</th>\n",
       "      <td>133777</td>\n",
       "      <td>71435</td>\n",
       "      <td>Georgia</td>\n",
       "      <td>Emerson College</td>\n",
       "      <td>2020-10-17</td>\n",
       "      <td>2020-10-19</td>\n",
       "      <td>Trump</td>\n",
       "      <td>48.4</td>\n",
       "    </tr>\n",
       "    <tr>\n",
       "      <th>6</th>\n",
       "      <td>133810</td>\n",
       "      <td>71446</td>\n",
       "      <td>NaN</td>\n",
       "      <td>IBD/TIPP</td>\n",
       "      <td>2020-10-15</td>\n",
       "      <td>2020-10-19</td>\n",
       "      <td>Biden</td>\n",
       "      <td>48.1</td>\n",
       "    </tr>\n",
       "    <tr>\n",
       "      <th>7</th>\n",
       "      <td>133810</td>\n",
       "      <td>71446</td>\n",
       "      <td>NaN</td>\n",
       "      <td>IBD/TIPP</td>\n",
       "      <td>2020-10-15</td>\n",
       "      <td>2020-10-19</td>\n",
       "      <td>Trump</td>\n",
       "      <td>45.8</td>\n",
       "    </tr>\n",
       "    <tr>\n",
       "      <th>8</th>\n",
       "      <td>133810</td>\n",
       "      <td>71446</td>\n",
       "      <td>NaN</td>\n",
       "      <td>IBD/TIPP</td>\n",
       "      <td>2020-10-15</td>\n",
       "      <td>2020-10-19</td>\n",
       "      <td>Jorgensen</td>\n",
       "      <td>3.0</td>\n",
       "    </tr>\n",
       "    <tr>\n",
       "      <th>9</th>\n",
       "      <td>133810</td>\n",
       "      <td>71446</td>\n",
       "      <td>NaN</td>\n",
       "      <td>IBD/TIPP</td>\n",
       "      <td>2020-10-15</td>\n",
       "      <td>2020-10-19</td>\n",
       "      <td>Hawkins</td>\n",
       "      <td>0.9</td>\n",
       "    </tr>\n",
       "  </tbody>\n",
       "</table>\n",
       "</div>"
      ],
      "text/plain": [
       "   question_id  poll_id         state  \\\n",
       "0       133816    71450          Ohio   \n",
       "1       133816    71450          Ohio   \n",
       "2       133838    71457  Pennsylvania   \n",
       "3       133838    71457  Pennsylvania   \n",
       "4       133777    71435       Georgia   \n",
       "5       133777    71435       Georgia   \n",
       "6       133810    71446           NaN   \n",
       "7       133810    71446           NaN   \n",
       "8       133810    71446           NaN   \n",
       "9       133810    71446           NaN   \n",
       "\n",
       "                                   pollster start_date   end_date     answer  \\\n",
       "0  Rasmussen Reports/Pulse Opinion Research 2020-10-18 2020-10-19      Biden   \n",
       "1  Rasmussen Reports/Pulse Opinion Research 2020-10-18 2020-10-19      Trump   \n",
       "2  Rasmussen Reports/Pulse Opinion Research 2020-10-18 2020-10-19      Biden   \n",
       "3  Rasmussen Reports/Pulse Opinion Research 2020-10-18 2020-10-19      Trump   \n",
       "4                           Emerson College 2020-10-17 2020-10-19      Biden   \n",
       "5                           Emerson College 2020-10-17 2020-10-19      Trump   \n",
       "6                                  IBD/TIPP 2020-10-15 2020-10-19      Biden   \n",
       "7                                  IBD/TIPP 2020-10-15 2020-10-19      Trump   \n",
       "8                                  IBD/TIPP 2020-10-15 2020-10-19  Jorgensen   \n",
       "9                                  IBD/TIPP 2020-10-15 2020-10-19    Hawkins   \n",
       "\n",
       "    pct  \n",
       "0  48.0  \n",
       "1  47.0  \n",
       "2  50.0  \n",
       "3  47.0  \n",
       "4  47.0  \n",
       "5  48.4  \n",
       "6  48.1  \n",
       "7  45.8  \n",
       "8   3.0  \n",
       "9   0.9  "
      ]
     },
     "execution_count": 105,
     "metadata": {},
     "output_type": "execute_result"
    }
   ],
   "source": [
    "# Sanity check to make sure we didn't mess up anything\n",
    "df.head(10)"
   ]
  },
  {
   "cell_type": "code",
   "execution_count": 106,
   "metadata": {},
   "outputs": [
    {
     "name": "stdout",
     "output_type": "stream",
     "text": [
      "2020-10-18T00:00:00.000000000\n",
      "2018-11-12T00:00:00.000000000\n"
     ]
    }
   ],
   "source": [
    "a=df['start_date'].unique()\n",
    "print(a[0])\n",
    "print(a[-1])"
   ]
  },
  {
   "cell_type": "code",
   "execution_count": 107,
   "metadata": {},
   "outputs": [
    {
     "name": "stdout",
     "output_type": "stream",
     "text": [
      "2020-10-19T00:00:00.000000000 \n",
      "\n",
      "2018-11-13T00:00:00.000000000\n"
     ]
    }
   ],
   "source": [
    "a=df['end_date'].unique()\n",
    "print(a[0],'\\n')\n",
    "print(a[-1])"
   ]
  },
  {
   "cell_type": "code",
   "execution_count": 108,
   "metadata": {},
   "outputs": [
    {
     "data": {
      "text/plain": [
       "0    True\n",
       "1    True\n",
       "2    True\n",
       "3    True\n",
       "4    True\n",
       "dtype: bool"
      ]
     },
     "execution_count": 108,
     "metadata": {},
     "output_type": "execute_result"
    }
   ],
   "source": [
    "start_date = '2020-08-01'\n",
    "end_date = '2020-11-02'\n",
    "\n",
    "mask = (df['start_date']>=start_date) & (df['end_date']<= end_date)\n",
    "mask.head()"
   ]
  },
  {
   "cell_type": "code",
   "execution_count": 109,
   "metadata": {},
   "outputs": [
    {
     "data": {
      "text/html": [
       "<div>\n",
       "<style scoped>\n",
       "    .dataframe tbody tr th:only-of-type {\n",
       "        vertical-align: middle;\n",
       "    }\n",
       "\n",
       "    .dataframe tbody tr th {\n",
       "        vertical-align: top;\n",
       "    }\n",
       "\n",
       "    .dataframe thead th {\n",
       "        text-align: right;\n",
       "    }\n",
       "</style>\n",
       "<table border=\"1\" class=\"dataframe\">\n",
       "  <thead>\n",
       "    <tr style=\"text-align: right;\">\n",
       "      <th></th>\n",
       "      <th>question_id</th>\n",
       "      <th>poll_id</th>\n",
       "      <th>state</th>\n",
       "      <th>pollster</th>\n",
       "      <th>start_date</th>\n",
       "      <th>end_date</th>\n",
       "      <th>answer</th>\n",
       "      <th>pct</th>\n",
       "    </tr>\n",
       "  </thead>\n",
       "  <tbody>\n",
       "    <tr>\n",
       "      <th>0</th>\n",
       "      <td>133816</td>\n",
       "      <td>71450</td>\n",
       "      <td>Ohio</td>\n",
       "      <td>Rasmussen Reports/Pulse Opinion Research</td>\n",
       "      <td>2020-10-18</td>\n",
       "      <td>2020-10-19</td>\n",
       "      <td>Biden</td>\n",
       "      <td>48.00</td>\n",
       "    </tr>\n",
       "    <tr>\n",
       "      <th>1</th>\n",
       "      <td>133816</td>\n",
       "      <td>71450</td>\n",
       "      <td>Ohio</td>\n",
       "      <td>Rasmussen Reports/Pulse Opinion Research</td>\n",
       "      <td>2020-10-18</td>\n",
       "      <td>2020-10-19</td>\n",
       "      <td>Trump</td>\n",
       "      <td>47.00</td>\n",
       "    </tr>\n",
       "    <tr>\n",
       "      <th>2</th>\n",
       "      <td>133838</td>\n",
       "      <td>71457</td>\n",
       "      <td>Pennsylvania</td>\n",
       "      <td>Rasmussen Reports/Pulse Opinion Research</td>\n",
       "      <td>2020-10-18</td>\n",
       "      <td>2020-10-19</td>\n",
       "      <td>Biden</td>\n",
       "      <td>50.00</td>\n",
       "    </tr>\n",
       "    <tr>\n",
       "      <th>3</th>\n",
       "      <td>133838</td>\n",
       "      <td>71457</td>\n",
       "      <td>Pennsylvania</td>\n",
       "      <td>Rasmussen Reports/Pulse Opinion Research</td>\n",
       "      <td>2020-10-18</td>\n",
       "      <td>2020-10-19</td>\n",
       "      <td>Trump</td>\n",
       "      <td>47.00</td>\n",
       "    </tr>\n",
       "    <tr>\n",
       "      <th>4</th>\n",
       "      <td>133777</td>\n",
       "      <td>71435</td>\n",
       "      <td>Georgia</td>\n",
       "      <td>Emerson College</td>\n",
       "      <td>2020-10-17</td>\n",
       "      <td>2020-10-19</td>\n",
       "      <td>Biden</td>\n",
       "      <td>47.00</td>\n",
       "    </tr>\n",
       "    <tr>\n",
       "      <th>...</th>\n",
       "      <td>...</td>\n",
       "      <td>...</td>\n",
       "      <td>...</td>\n",
       "      <td>...</td>\n",
       "      <td>...</td>\n",
       "      <td>...</td>\n",
       "      <td>...</td>\n",
       "      <td>...</td>\n",
       "    </tr>\n",
       "    <tr>\n",
       "      <th>5288</th>\n",
       "      <td>127307</td>\n",
       "      <td>67986</td>\n",
       "      <td>NaN</td>\n",
       "      <td>Morning Consult</td>\n",
       "      <td>2020-08-01</td>\n",
       "      <td>2020-08-03</td>\n",
       "      <td>Trump</td>\n",
       "      <td>42.00</td>\n",
       "    </tr>\n",
       "    <tr>\n",
       "      <th>5289</th>\n",
       "      <td>132507</td>\n",
       "      <td>70853</td>\n",
       "      <td>NaN</td>\n",
       "      <td>SurveyMonkey</td>\n",
       "      <td>2020-08-01</td>\n",
       "      <td>2020-08-03</td>\n",
       "      <td>Biden</td>\n",
       "      <td>52.72</td>\n",
       "    </tr>\n",
       "    <tr>\n",
       "      <th>5290</th>\n",
       "      <td>132507</td>\n",
       "      <td>70853</td>\n",
       "      <td>NaN</td>\n",
       "      <td>SurveyMonkey</td>\n",
       "      <td>2020-08-01</td>\n",
       "      <td>2020-08-03</td>\n",
       "      <td>Trump</td>\n",
       "      <td>44.88</td>\n",
       "    </tr>\n",
       "    <tr>\n",
       "      <th>5291</th>\n",
       "      <td>132632</td>\n",
       "      <td>70853</td>\n",
       "      <td>NaN</td>\n",
       "      <td>SurveyMonkey</td>\n",
       "      <td>2020-08-01</td>\n",
       "      <td>2020-08-03</td>\n",
       "      <td>Biden</td>\n",
       "      <td>51.92</td>\n",
       "    </tr>\n",
       "    <tr>\n",
       "      <th>5292</th>\n",
       "      <td>132632</td>\n",
       "      <td>70853</td>\n",
       "      <td>NaN</td>\n",
       "      <td>SurveyMonkey</td>\n",
       "      <td>2020-08-01</td>\n",
       "      <td>2020-08-03</td>\n",
       "      <td>Trump</td>\n",
       "      <td>46.40</td>\n",
       "    </tr>\n",
       "  </tbody>\n",
       "</table>\n",
       "<p>5257 rows × 8 columns</p>\n",
       "</div>"
      ],
      "text/plain": [
       "      question_id  poll_id         state  \\\n",
       "0          133816    71450          Ohio   \n",
       "1          133816    71450          Ohio   \n",
       "2          133838    71457  Pennsylvania   \n",
       "3          133838    71457  Pennsylvania   \n",
       "4          133777    71435       Georgia   \n",
       "...           ...      ...           ...   \n",
       "5288       127307    67986           NaN   \n",
       "5289       132507    70853           NaN   \n",
       "5290       132507    70853           NaN   \n",
       "5291       132632    70853           NaN   \n",
       "5292       132632    70853           NaN   \n",
       "\n",
       "                                      pollster start_date   end_date answer  \\\n",
       "0     Rasmussen Reports/Pulse Opinion Research 2020-10-18 2020-10-19  Biden   \n",
       "1     Rasmussen Reports/Pulse Opinion Research 2020-10-18 2020-10-19  Trump   \n",
       "2     Rasmussen Reports/Pulse Opinion Research 2020-10-18 2020-10-19  Biden   \n",
       "3     Rasmussen Reports/Pulse Opinion Research 2020-10-18 2020-10-19  Trump   \n",
       "4                              Emerson College 2020-10-17 2020-10-19  Biden   \n",
       "...                                        ...        ...        ...    ...   \n",
       "5288                           Morning Consult 2020-08-01 2020-08-03  Trump   \n",
       "5289                              SurveyMonkey 2020-08-01 2020-08-03  Biden   \n",
       "5290                              SurveyMonkey 2020-08-01 2020-08-03  Trump   \n",
       "5291                              SurveyMonkey 2020-08-01 2020-08-03  Biden   \n",
       "5292                              SurveyMonkey 2020-08-01 2020-08-03  Trump   \n",
       "\n",
       "        pct  \n",
       "0     48.00  \n",
       "1     47.00  \n",
       "2     50.00  \n",
       "3     47.00  \n",
       "4     47.00  \n",
       "...     ...  \n",
       "5288  42.00  \n",
       "5289  52.72  \n",
       "5290  44.88  \n",
       "5291  51.92  \n",
       "5292  46.40  \n",
       "\n",
       "[5257 rows x 8 columns]"
      ]
     },
     "execution_count": 109,
     "metadata": {},
     "output_type": "execute_result"
    }
   ],
   "source": [
    "df = df.loc[mask]\n",
    "df"
   ]
  },
  {
   "cell_type": "code",
   "execution_count": 110,
   "metadata": {},
   "outputs": [
    {
     "data": {
      "text/plain": [
       "array(['Biden', 'Trump', 'Jorgensen', 'Hawkins', 'West', 'Pence',\n",
       "       'Harris', 'Blankenship', 'De La Fuente', 'La Riva', 'Pierce',\n",
       "       'Kennedy', 'Simmons'], dtype=object)"
      ]
     },
     "execution_count": 110,
     "metadata": {},
     "output_type": "execute_result"
    }
   ],
   "source": [
    "df['answer'].unique()"
   ]
  },
  {
   "cell_type": "code",
   "execution_count": 111,
   "metadata": {},
   "outputs": [
    {
     "data": {
      "text/plain": [
       "array(['Biden', 'Trump'], dtype=object)"
      ]
     },
     "execution_count": 111,
     "metadata": {},
     "output_type": "execute_result"
    }
   ],
   "source": [
    "canidates = ['Trump','Biden']\n",
    "df = df.loc[df['answer'].isin(canidates)]\n",
    "df.answer.unique()"
   ]
  },
  {
   "cell_type": "code",
   "execution_count": 112,
   "metadata": {},
   "outputs": [
    {
     "data": {
      "text/plain": [
       "4648"
      ]
     },
     "execution_count": 112,
     "metadata": {},
     "output_type": "execute_result"
    }
   ],
   "source": [
    "len(df['state'])"
   ]
  },
  {
   "cell_type": "code",
   "execution_count": 113,
   "metadata": {},
   "outputs": [
    {
     "data": {
      "text/plain": [
       "1446"
      ]
     },
     "execution_count": 113,
     "metadata": {},
     "output_type": "execute_result"
    }
   ],
   "source": [
    "df['state'].isnull().sum()"
   ]
  },
  {
   "cell_type": "code",
   "execution_count": 114,
   "metadata": {},
   "outputs": [
    {
     "data": {
      "text/plain": [
       "0"
      ]
     },
     "execution_count": 114,
     "metadata": {},
     "output_type": "execute_result"
    }
   ],
   "source": [
    "df = df[df['state'].notna()]\n",
    "df['state'].isnull().sum()"
   ]
  },
  {
   "cell_type": "code",
   "execution_count": 115,
   "metadata": {},
   "outputs": [
    {
     "data": {
      "text/html": [
       "<div>\n",
       "<style scoped>\n",
       "    .dataframe tbody tr th:only-of-type {\n",
       "        vertical-align: middle;\n",
       "    }\n",
       "\n",
       "    .dataframe tbody tr th {\n",
       "        vertical-align: top;\n",
       "    }\n",
       "\n",
       "    .dataframe thead th {\n",
       "        text-align: right;\n",
       "    }\n",
       "</style>\n",
       "<table border=\"1\" class=\"dataframe\">\n",
       "  <thead>\n",
       "    <tr style=\"text-align: right;\">\n",
       "      <th></th>\n",
       "      <th>question_id</th>\n",
       "      <th>poll_id</th>\n",
       "      <th>state</th>\n",
       "      <th>pollster</th>\n",
       "      <th>start_date</th>\n",
       "      <th>end_date</th>\n",
       "      <th>answer</th>\n",
       "      <th>pct</th>\n",
       "    </tr>\n",
       "  </thead>\n",
       "  <tbody>\n",
       "    <tr>\n",
       "      <th>0</th>\n",
       "      <td>133816</td>\n",
       "      <td>71450</td>\n",
       "      <td>Ohio</td>\n",
       "      <td>Rasmussen Reports/Pulse Opinion Research</td>\n",
       "      <td>2020-10-18</td>\n",
       "      <td>2020-10-19</td>\n",
       "      <td>Biden</td>\n",
       "      <td>48.0</td>\n",
       "    </tr>\n",
       "    <tr>\n",
       "      <th>1</th>\n",
       "      <td>133816</td>\n",
       "      <td>71450</td>\n",
       "      <td>Ohio</td>\n",
       "      <td>Rasmussen Reports/Pulse Opinion Research</td>\n",
       "      <td>2020-10-18</td>\n",
       "      <td>2020-10-19</td>\n",
       "      <td>Trump</td>\n",
       "      <td>47.0</td>\n",
       "    </tr>\n",
       "    <tr>\n",
       "      <th>2</th>\n",
       "      <td>133838</td>\n",
       "      <td>71457</td>\n",
       "      <td>Pennsylvania</td>\n",
       "      <td>Rasmussen Reports/Pulse Opinion Research</td>\n",
       "      <td>2020-10-18</td>\n",
       "      <td>2020-10-19</td>\n",
       "      <td>Biden</td>\n",
       "      <td>50.0</td>\n",
       "    </tr>\n",
       "    <tr>\n",
       "      <th>3</th>\n",
       "      <td>133838</td>\n",
       "      <td>71457</td>\n",
       "      <td>Pennsylvania</td>\n",
       "      <td>Rasmussen Reports/Pulse Opinion Research</td>\n",
       "      <td>2020-10-18</td>\n",
       "      <td>2020-10-19</td>\n",
       "      <td>Trump</td>\n",
       "      <td>47.0</td>\n",
       "    </tr>\n",
       "    <tr>\n",
       "      <th>4</th>\n",
       "      <td>133777</td>\n",
       "      <td>71435</td>\n",
       "      <td>Georgia</td>\n",
       "      <td>Emerson College</td>\n",
       "      <td>2020-10-17</td>\n",
       "      <td>2020-10-19</td>\n",
       "      <td>Biden</td>\n",
       "      <td>47.0</td>\n",
       "    </tr>\n",
       "    <tr>\n",
       "      <th>...</th>\n",
       "      <td>...</td>\n",
       "      <td>...</td>\n",
       "      <td>...</td>\n",
       "      <td>...</td>\n",
       "      <td>...</td>\n",
       "      <td>...</td>\n",
       "      <td>...</td>\n",
       "      <td>...</td>\n",
       "    </tr>\n",
       "    <tr>\n",
       "      <th>5272</th>\n",
       "      <td>127578</td>\n",
       "      <td>68114</td>\n",
       "      <td>Florida</td>\n",
       "      <td>OnMessage Inc.</td>\n",
       "      <td>2020-08-02</td>\n",
       "      <td>2020-08-04</td>\n",
       "      <td>Trump</td>\n",
       "      <td>49.0</td>\n",
       "    </tr>\n",
       "    <tr>\n",
       "      <th>5273</th>\n",
       "      <td>127579</td>\n",
       "      <td>68115</td>\n",
       "      <td>Pennsylvania</td>\n",
       "      <td>OnMessage Inc.</td>\n",
       "      <td>2020-08-02</td>\n",
       "      <td>2020-08-04</td>\n",
       "      <td>Biden</td>\n",
       "      <td>50.0</td>\n",
       "    </tr>\n",
       "    <tr>\n",
       "      <th>5274</th>\n",
       "      <td>127579</td>\n",
       "      <td>68115</td>\n",
       "      <td>Pennsylvania</td>\n",
       "      <td>OnMessage Inc.</td>\n",
       "      <td>2020-08-02</td>\n",
       "      <td>2020-08-04</td>\n",
       "      <td>Trump</td>\n",
       "      <td>46.0</td>\n",
       "    </tr>\n",
       "    <tr>\n",
       "      <th>5275</th>\n",
       "      <td>127580</td>\n",
       "      <td>68116</td>\n",
       "      <td>Wisconsin</td>\n",
       "      <td>OnMessage Inc.</td>\n",
       "      <td>2020-08-02</td>\n",
       "      <td>2020-08-04</td>\n",
       "      <td>Biden</td>\n",
       "      <td>47.0</td>\n",
       "    </tr>\n",
       "    <tr>\n",
       "      <th>5276</th>\n",
       "      <td>127580</td>\n",
       "      <td>68116</td>\n",
       "      <td>Wisconsin</td>\n",
       "      <td>OnMessage Inc.</td>\n",
       "      <td>2020-08-02</td>\n",
       "      <td>2020-08-04</td>\n",
       "      <td>Trump</td>\n",
       "      <td>47.0</td>\n",
       "    </tr>\n",
       "  </tbody>\n",
       "</table>\n",
       "<p>3202 rows × 8 columns</p>\n",
       "</div>"
      ],
      "text/plain": [
       "      question_id  poll_id         state  \\\n",
       "0          133816    71450          Ohio   \n",
       "1          133816    71450          Ohio   \n",
       "2          133838    71457  Pennsylvania   \n",
       "3          133838    71457  Pennsylvania   \n",
       "4          133777    71435       Georgia   \n",
       "...           ...      ...           ...   \n",
       "5272       127578    68114       Florida   \n",
       "5273       127579    68115  Pennsylvania   \n",
       "5274       127579    68115  Pennsylvania   \n",
       "5275       127580    68116     Wisconsin   \n",
       "5276       127580    68116     Wisconsin   \n",
       "\n",
       "                                      pollster start_date   end_date answer  \\\n",
       "0     Rasmussen Reports/Pulse Opinion Research 2020-10-18 2020-10-19  Biden   \n",
       "1     Rasmussen Reports/Pulse Opinion Research 2020-10-18 2020-10-19  Trump   \n",
       "2     Rasmussen Reports/Pulse Opinion Research 2020-10-18 2020-10-19  Biden   \n",
       "3     Rasmussen Reports/Pulse Opinion Research 2020-10-18 2020-10-19  Trump   \n",
       "4                              Emerson College 2020-10-17 2020-10-19  Biden   \n",
       "...                                        ...        ...        ...    ...   \n",
       "5272                            OnMessage Inc. 2020-08-02 2020-08-04  Trump   \n",
       "5273                            OnMessage Inc. 2020-08-02 2020-08-04  Biden   \n",
       "5274                            OnMessage Inc. 2020-08-02 2020-08-04  Trump   \n",
       "5275                            OnMessage Inc. 2020-08-02 2020-08-04  Biden   \n",
       "5276                            OnMessage Inc. 2020-08-02 2020-08-04  Trump   \n",
       "\n",
       "       pct  \n",
       "0     48.0  \n",
       "1     47.0  \n",
       "2     50.0  \n",
       "3     47.0  \n",
       "4     47.0  \n",
       "...    ...  \n",
       "5272  49.0  \n",
       "5273  50.0  \n",
       "5274  46.0  \n",
       "5275  47.0  \n",
       "5276  47.0  \n",
       "\n",
       "[3202 rows x 8 columns]"
      ]
     },
     "execution_count": 115,
     "metadata": {},
     "output_type": "execute_result"
    }
   ],
   "source": [
    "df"
   ]
  },
  {
   "cell_type": "markdown",
   "metadata": {},
   "source": [
    "# Notice how each poll occupies two lines"
   ]
  },
  {
   "cell_type": "code",
   "execution_count": 116,
   "metadata": {},
   "outputs": [
    {
     "data": {
      "text/plain": [
       "1062"
      ]
     },
     "execution_count": 116,
     "metadata": {},
     "output_type": "execute_result"
    }
   ],
   "source": [
    "len(df.poll_id.unique())"
   ]
  },
  {
   "cell_type": "markdown",
   "metadata": {},
   "source": [
    "# Changing Our Data Layout\n",
    "We need to put the polls on a single line for easier data processing"
   ]
  },
  {
   "cell_type": "code",
   "execution_count": 117,
   "metadata": {},
   "outputs": [
    {
     "data": {
      "text/plain": [
       "3202"
      ]
     },
     "execution_count": 117,
     "metadata": {},
     "output_type": "execute_result"
    }
   ],
   "source": [
    "len(df)"
   ]
  },
  {
   "cell_type": "code",
   "execution_count": 118,
   "metadata": {},
   "outputs": [
    {
     "data": {
      "text/html": [
       "<div>\n",
       "<style scoped>\n",
       "    .dataframe tbody tr th:only-of-type {\n",
       "        vertical-align: middle;\n",
       "    }\n",
       "\n",
       "    .dataframe tbody tr th {\n",
       "        vertical-align: top;\n",
       "    }\n",
       "\n",
       "    .dataframe thead th {\n",
       "        text-align: right;\n",
       "    }\n",
       "</style>\n",
       "<table border=\"1\" class=\"dataframe\">\n",
       "  <thead>\n",
       "    <tr style=\"text-align: right;\">\n",
       "      <th></th>\n",
       "      <th>question_id</th>\n",
       "      <th>poll_id</th>\n",
       "      <th>state</th>\n",
       "      <th>pollster</th>\n",
       "      <th>start_date</th>\n",
       "      <th>end_date</th>\n",
       "      <th>answer</th>\n",
       "      <th>pct</th>\n",
       "    </tr>\n",
       "  </thead>\n",
       "  <tbody>\n",
       "    <tr>\n",
       "      <th>5272</th>\n",
       "      <td>127578</td>\n",
       "      <td>68114</td>\n",
       "      <td>Florida</td>\n",
       "      <td>OnMessage Inc.</td>\n",
       "      <td>2020-08-02</td>\n",
       "      <td>2020-08-04</td>\n",
       "      <td>Trump</td>\n",
       "      <td>49.0</td>\n",
       "    </tr>\n",
       "    <tr>\n",
       "      <th>5273</th>\n",
       "      <td>127579</td>\n",
       "      <td>68115</td>\n",
       "      <td>Pennsylvania</td>\n",
       "      <td>OnMessage Inc.</td>\n",
       "      <td>2020-08-02</td>\n",
       "      <td>2020-08-04</td>\n",
       "      <td>Biden</td>\n",
       "      <td>50.0</td>\n",
       "    </tr>\n",
       "    <tr>\n",
       "      <th>5274</th>\n",
       "      <td>127579</td>\n",
       "      <td>68115</td>\n",
       "      <td>Pennsylvania</td>\n",
       "      <td>OnMessage Inc.</td>\n",
       "      <td>2020-08-02</td>\n",
       "      <td>2020-08-04</td>\n",
       "      <td>Trump</td>\n",
       "      <td>46.0</td>\n",
       "    </tr>\n",
       "    <tr>\n",
       "      <th>5275</th>\n",
       "      <td>127580</td>\n",
       "      <td>68116</td>\n",
       "      <td>Wisconsin</td>\n",
       "      <td>OnMessage Inc.</td>\n",
       "      <td>2020-08-02</td>\n",
       "      <td>2020-08-04</td>\n",
       "      <td>Biden</td>\n",
       "      <td>47.0</td>\n",
       "    </tr>\n",
       "    <tr>\n",
       "      <th>5276</th>\n",
       "      <td>127580</td>\n",
       "      <td>68116</td>\n",
       "      <td>Wisconsin</td>\n",
       "      <td>OnMessage Inc.</td>\n",
       "      <td>2020-08-02</td>\n",
       "      <td>2020-08-04</td>\n",
       "      <td>Trump</td>\n",
       "      <td>47.0</td>\n",
       "    </tr>\n",
       "  </tbody>\n",
       "</table>\n",
       "</div>"
      ],
      "text/plain": [
       "      question_id  poll_id         state        pollster start_date  \\\n",
       "5272       127578    68114       Florida  OnMessage Inc. 2020-08-02   \n",
       "5273       127579    68115  Pennsylvania  OnMessage Inc. 2020-08-02   \n",
       "5274       127579    68115  Pennsylvania  OnMessage Inc. 2020-08-02   \n",
       "5275       127580    68116     Wisconsin  OnMessage Inc. 2020-08-02   \n",
       "5276       127580    68116     Wisconsin  OnMessage Inc. 2020-08-02   \n",
       "\n",
       "       end_date answer   pct  \n",
       "5272 2020-08-04  Trump  49.0  \n",
       "5273 2020-08-04  Biden  50.0  \n",
       "5274 2020-08-04  Trump  46.0  \n",
       "5275 2020-08-04  Biden  47.0  \n",
       "5276 2020-08-04  Trump  47.0  "
      ]
     },
     "execution_count": 118,
     "metadata": {},
     "output_type": "execute_result"
    }
   ],
   "source": [
    "df.tail(5)"
   ]
  },
  {
   "cell_type": "code",
   "execution_count": 119,
   "metadata": {},
   "outputs": [
    {
     "name": "stdout",
     "output_type": "stream",
     "text": [
      "Int64Index([   1,    2,    3,    4,    5,    6,    7,    8,    9,   10,\n",
      "            ...\n",
      "            3193, 3194, 3195, 3196, 3197, 3198, 3199, 3200, 3201, 3202],\n",
      "           dtype='int64', length=3202)\n"
     ]
    }
   ],
   "source": [
    "df.index = np.arange(1, len(df) + 1)\n",
    "print(df.index)"
   ]
  },
  {
   "cell_type": "code",
   "execution_count": 120,
   "metadata": {},
   "outputs": [
    {
     "data": {
      "text/html": [
       "<div>\n",
       "<style scoped>\n",
       "    .dataframe tbody tr th:only-of-type {\n",
       "        vertical-align: middle;\n",
       "    }\n",
       "\n",
       "    .dataframe tbody tr th {\n",
       "        vertical-align: top;\n",
       "    }\n",
       "\n",
       "    .dataframe thead th {\n",
       "        text-align: right;\n",
       "    }\n",
       "</style>\n",
       "<table border=\"1\" class=\"dataframe\">\n",
       "  <thead>\n",
       "    <tr style=\"text-align: right;\">\n",
       "      <th></th>\n",
       "      <th>question_id</th>\n",
       "      <th>poll_id</th>\n",
       "      <th>state</th>\n",
       "      <th>pollster</th>\n",
       "      <th>start_date</th>\n",
       "      <th>end_date</th>\n",
       "      <th>answer</th>\n",
       "      <th>pct</th>\n",
       "    </tr>\n",
       "  </thead>\n",
       "  <tbody>\n",
       "    <tr>\n",
       "      <th>3198</th>\n",
       "      <td>127578</td>\n",
       "      <td>68114</td>\n",
       "      <td>Florida</td>\n",
       "      <td>OnMessage Inc.</td>\n",
       "      <td>2020-08-02</td>\n",
       "      <td>2020-08-04</td>\n",
       "      <td>Trump</td>\n",
       "      <td>49.0</td>\n",
       "    </tr>\n",
       "    <tr>\n",
       "      <th>3199</th>\n",
       "      <td>127579</td>\n",
       "      <td>68115</td>\n",
       "      <td>Pennsylvania</td>\n",
       "      <td>OnMessage Inc.</td>\n",
       "      <td>2020-08-02</td>\n",
       "      <td>2020-08-04</td>\n",
       "      <td>Biden</td>\n",
       "      <td>50.0</td>\n",
       "    </tr>\n",
       "    <tr>\n",
       "      <th>3200</th>\n",
       "      <td>127579</td>\n",
       "      <td>68115</td>\n",
       "      <td>Pennsylvania</td>\n",
       "      <td>OnMessage Inc.</td>\n",
       "      <td>2020-08-02</td>\n",
       "      <td>2020-08-04</td>\n",
       "      <td>Trump</td>\n",
       "      <td>46.0</td>\n",
       "    </tr>\n",
       "    <tr>\n",
       "      <th>3201</th>\n",
       "      <td>127580</td>\n",
       "      <td>68116</td>\n",
       "      <td>Wisconsin</td>\n",
       "      <td>OnMessage Inc.</td>\n",
       "      <td>2020-08-02</td>\n",
       "      <td>2020-08-04</td>\n",
       "      <td>Biden</td>\n",
       "      <td>47.0</td>\n",
       "    </tr>\n",
       "    <tr>\n",
       "      <th>3202</th>\n",
       "      <td>127580</td>\n",
       "      <td>68116</td>\n",
       "      <td>Wisconsin</td>\n",
       "      <td>OnMessage Inc.</td>\n",
       "      <td>2020-08-02</td>\n",
       "      <td>2020-08-04</td>\n",
       "      <td>Trump</td>\n",
       "      <td>47.0</td>\n",
       "    </tr>\n",
       "  </tbody>\n",
       "</table>\n",
       "</div>"
      ],
      "text/plain": [
       "      question_id  poll_id         state        pollster start_date  \\\n",
       "3198       127578    68114       Florida  OnMessage Inc. 2020-08-02   \n",
       "3199       127579    68115  Pennsylvania  OnMessage Inc. 2020-08-02   \n",
       "3200       127579    68115  Pennsylvania  OnMessage Inc. 2020-08-02   \n",
       "3201       127580    68116     Wisconsin  OnMessage Inc. 2020-08-02   \n",
       "3202       127580    68116     Wisconsin  OnMessage Inc. 2020-08-02   \n",
       "\n",
       "       end_date answer   pct  \n",
       "3198 2020-08-04  Trump  49.0  \n",
       "3199 2020-08-04  Biden  50.0  \n",
       "3200 2020-08-04  Trump  46.0  \n",
       "3201 2020-08-04  Biden  47.0  \n",
       "3202 2020-08-04  Trump  47.0  "
      ]
     },
     "execution_count": 120,
     "metadata": {},
     "output_type": "execute_result"
    }
   ],
   "source": [
    "df.tail(5)"
   ]
  },
  {
   "cell_type": "code",
   "execution_count": 121,
   "metadata": {},
   "outputs": [
    {
     "data": {
      "text/plain": [
       "Int64Index([   1,    2,    3,    4,    5,    6,    7,    8,    9,   10,\n",
       "            ...\n",
       "            3193, 3194, 3195, 3196, 3197, 3198, 3199, 3200, 3201, 3202],\n",
       "           dtype='int64', length=3202)"
      ]
     },
     "execution_count": 121,
     "metadata": {},
     "output_type": "execute_result"
    }
   ],
   "source": [
    "df.index"
   ]
  },
  {
   "cell_type": "code",
   "execution_count": 122,
   "metadata": {},
   "outputs": [
    {
     "data": {
      "text/plain": [
       "Int64Index([   2,    3,    4,    5,    6,    7,    8,    9,   10,   11,\n",
       "            ...\n",
       "            3194, 3195, 3196, 3197, 3198, 3199, 3200, 3201, 3202, 3203],\n",
       "           dtype='int64', length=3202)"
      ]
     },
     "execution_count": 122,
     "metadata": {},
     "output_type": "execute_result"
    }
   ],
   "source": [
    "df.index+1"
   ]
  },
  {
   "cell_type": "code",
   "execution_count": 123,
   "metadata": {},
   "outputs": [
    {
     "data": {
      "text/plain": [
       "1          2\n",
       "2          3\n",
       "3          4\n",
       "4          5\n",
       "5          6\n",
       "        ... \n",
       "3198    3199\n",
       "3199    3200\n",
       "3200    3201\n",
       "3201    3202\n",
       "3202    3203\n",
       "Name: join_index, Length: 3202, dtype: int64"
      ]
     },
     "execution_count": 123,
     "metadata": {},
     "output_type": "execute_result"
    }
   ],
   "source": [
    "df['join_index'] = df.index+1\n",
    "df['join_index']"
   ]
  },
  {
   "cell_type": "code",
   "execution_count": 124,
   "metadata": {},
   "outputs": [
    {
     "data": {
      "text/html": [
       "<div>\n",
       "<style scoped>\n",
       "    .dataframe tbody tr th:only-of-type {\n",
       "        vertical-align: middle;\n",
       "    }\n",
       "\n",
       "    .dataframe tbody tr th {\n",
       "        vertical-align: top;\n",
       "    }\n",
       "\n",
       "    .dataframe thead th {\n",
       "        text-align: right;\n",
       "    }\n",
       "</style>\n",
       "<table border=\"1\" class=\"dataframe\">\n",
       "  <thead>\n",
       "    <tr style=\"text-align: right;\">\n",
       "      <th></th>\n",
       "      <th>question_id</th>\n",
       "      <th>poll_id</th>\n",
       "      <th>state</th>\n",
       "      <th>pollster</th>\n",
       "      <th>start_date</th>\n",
       "      <th>end_date</th>\n",
       "      <th>answer</th>\n",
       "      <th>pct</th>\n",
       "      <th>join_index</th>\n",
       "    </tr>\n",
       "  </thead>\n",
       "  <tbody>\n",
       "    <tr>\n",
       "      <th>1</th>\n",
       "      <td>133816</td>\n",
       "      <td>71450</td>\n",
       "      <td>Ohio</td>\n",
       "      <td>Rasmussen Reports/Pulse Opinion Research</td>\n",
       "      <td>2020-10-18</td>\n",
       "      <td>2020-10-19</td>\n",
       "      <td>Biden</td>\n",
       "      <td>48.0</td>\n",
       "      <td>2</td>\n",
       "    </tr>\n",
       "    <tr>\n",
       "      <th>2</th>\n",
       "      <td>133816</td>\n",
       "      <td>71450</td>\n",
       "      <td>Ohio</td>\n",
       "      <td>Rasmussen Reports/Pulse Opinion Research</td>\n",
       "      <td>2020-10-18</td>\n",
       "      <td>2020-10-19</td>\n",
       "      <td>Trump</td>\n",
       "      <td>47.0</td>\n",
       "      <td>3</td>\n",
       "    </tr>\n",
       "    <tr>\n",
       "      <th>3</th>\n",
       "      <td>133838</td>\n",
       "      <td>71457</td>\n",
       "      <td>Pennsylvania</td>\n",
       "      <td>Rasmussen Reports/Pulse Opinion Research</td>\n",
       "      <td>2020-10-18</td>\n",
       "      <td>2020-10-19</td>\n",
       "      <td>Biden</td>\n",
       "      <td>50.0</td>\n",
       "      <td>4</td>\n",
       "    </tr>\n",
       "    <tr>\n",
       "      <th>4</th>\n",
       "      <td>133838</td>\n",
       "      <td>71457</td>\n",
       "      <td>Pennsylvania</td>\n",
       "      <td>Rasmussen Reports/Pulse Opinion Research</td>\n",
       "      <td>2020-10-18</td>\n",
       "      <td>2020-10-19</td>\n",
       "      <td>Trump</td>\n",
       "      <td>47.0</td>\n",
       "      <td>5</td>\n",
       "    </tr>\n",
       "    <tr>\n",
       "      <th>5</th>\n",
       "      <td>133777</td>\n",
       "      <td>71435</td>\n",
       "      <td>Georgia</td>\n",
       "      <td>Emerson College</td>\n",
       "      <td>2020-10-17</td>\n",
       "      <td>2020-10-19</td>\n",
       "      <td>Biden</td>\n",
       "      <td>47.0</td>\n",
       "      <td>6</td>\n",
       "    </tr>\n",
       "  </tbody>\n",
       "</table>\n",
       "</div>"
      ],
      "text/plain": [
       "   question_id  poll_id         state  \\\n",
       "1       133816    71450          Ohio   \n",
       "2       133816    71450          Ohio   \n",
       "3       133838    71457  Pennsylvania   \n",
       "4       133838    71457  Pennsylvania   \n",
       "5       133777    71435       Georgia   \n",
       "\n",
       "                                   pollster start_date   end_date answer  \\\n",
       "1  Rasmussen Reports/Pulse Opinion Research 2020-10-18 2020-10-19  Biden   \n",
       "2  Rasmussen Reports/Pulse Opinion Research 2020-10-18 2020-10-19  Trump   \n",
       "3  Rasmussen Reports/Pulse Opinion Research 2020-10-18 2020-10-19  Biden   \n",
       "4  Rasmussen Reports/Pulse Opinion Research 2020-10-18 2020-10-19  Trump   \n",
       "5                           Emerson College 2020-10-17 2020-10-19  Biden   \n",
       "\n",
       "    pct  join_index  \n",
       "1  48.0           2  \n",
       "2  47.0           3  \n",
       "3  50.0           4  \n",
       "4  47.0           5  \n",
       "5  47.0           6  "
      ]
     },
     "execution_count": 124,
     "metadata": {},
     "output_type": "execute_result"
    }
   ],
   "source": [
    "df.head(5)"
   ]
  },
  {
   "cell_type": "code",
   "execution_count": 125,
   "metadata": {},
   "outputs": [
    {
     "name": "stdout",
     "output_type": "stream",
     "text": [
      "0\n",
      "1\n",
      "0\n",
      "1\n",
      "0\n",
      "1\n",
      "0\n",
      "1\n",
      "0\n",
      "1\n"
     ]
    }
   ],
   "source": [
    "for i in range(10):\n",
    "    a = i % 2\n",
    "    print(a)"
   ]
  },
  {
   "cell_type": "code",
   "execution_count": 126,
   "metadata": {},
   "outputs": [
    {
     "data": {
      "text/html": [
       "<div>\n",
       "<style scoped>\n",
       "    .dataframe tbody tr th:only-of-type {\n",
       "        vertical-align: middle;\n",
       "    }\n",
       "\n",
       "    .dataframe tbody tr th {\n",
       "        vertical-align: top;\n",
       "    }\n",
       "\n",
       "    .dataframe thead th {\n",
       "        text-align: right;\n",
       "    }\n",
       "</style>\n",
       "<table border=\"1\" class=\"dataframe\">\n",
       "  <thead>\n",
       "    <tr style=\"text-align: right;\">\n",
       "      <th></th>\n",
       "      <th>question_id</th>\n",
       "      <th>poll_id</th>\n",
       "      <th>state</th>\n",
       "      <th>pollster</th>\n",
       "      <th>start_date</th>\n",
       "      <th>end_date</th>\n",
       "      <th>answer</th>\n",
       "      <th>pct</th>\n",
       "      <th>join_index</th>\n",
       "    </tr>\n",
       "  </thead>\n",
       "  <tbody>\n",
       "    <tr>\n",
       "      <th>1</th>\n",
       "      <td>133816</td>\n",
       "      <td>71450</td>\n",
       "      <td>Ohio</td>\n",
       "      <td>Rasmussen Reports/Pulse Opinion Research</td>\n",
       "      <td>2020-10-18</td>\n",
       "      <td>2020-10-19</td>\n",
       "      <td>Biden</td>\n",
       "      <td>48.0</td>\n",
       "      <td>2</td>\n",
       "    </tr>\n",
       "    <tr>\n",
       "      <th>3</th>\n",
       "      <td>133838</td>\n",
       "      <td>71457</td>\n",
       "      <td>Pennsylvania</td>\n",
       "      <td>Rasmussen Reports/Pulse Opinion Research</td>\n",
       "      <td>2020-10-18</td>\n",
       "      <td>2020-10-19</td>\n",
       "      <td>Biden</td>\n",
       "      <td>50.0</td>\n",
       "      <td>4</td>\n",
       "    </tr>\n",
       "    <tr>\n",
       "      <th>5</th>\n",
       "      <td>133777</td>\n",
       "      <td>71435</td>\n",
       "      <td>Georgia</td>\n",
       "      <td>Emerson College</td>\n",
       "      <td>2020-10-17</td>\n",
       "      <td>2020-10-19</td>\n",
       "      <td>Biden</td>\n",
       "      <td>47.0</td>\n",
       "      <td>6</td>\n",
       "    </tr>\n",
       "    <tr>\n",
       "      <th>7</th>\n",
       "      <td>133664</td>\n",
       "      <td>71379</td>\n",
       "      <td>Pennsylvania</td>\n",
       "      <td>Ipsos</td>\n",
       "      <td>2020-10-13</td>\n",
       "      <td>2020-10-19</td>\n",
       "      <td>Biden</td>\n",
       "      <td>49.0</td>\n",
       "      <td>8</td>\n",
       "    </tr>\n",
       "    <tr>\n",
       "      <th>9</th>\n",
       "      <td>133666</td>\n",
       "      <td>71379</td>\n",
       "      <td>Pennsylvania</td>\n",
       "      <td>Ipsos</td>\n",
       "      <td>2020-10-13</td>\n",
       "      <td>2020-10-19</td>\n",
       "      <td>Biden</td>\n",
       "      <td>49.0</td>\n",
       "      <td>10</td>\n",
       "    </tr>\n",
       "    <tr>\n",
       "      <th>...</th>\n",
       "      <td>...</td>\n",
       "      <td>...</td>\n",
       "      <td>...</td>\n",
       "      <td>...</td>\n",
       "      <td>...</td>\n",
       "      <td>...</td>\n",
       "      <td>...</td>\n",
       "      <td>...</td>\n",
       "      <td>...</td>\n",
       "    </tr>\n",
       "    <tr>\n",
       "      <th>3193</th>\n",
       "      <td>127277</td>\n",
       "      <td>67973</td>\n",
       "      <td>Arizona</td>\n",
       "      <td>OH Predictive Insights</td>\n",
       "      <td>2020-08-03</td>\n",
       "      <td>2020-08-04</td>\n",
       "      <td>Biden</td>\n",
       "      <td>49.0</td>\n",
       "      <td>3194</td>\n",
       "    </tr>\n",
       "    <tr>\n",
       "      <th>3195</th>\n",
       "      <td>127577</td>\n",
       "      <td>68113</td>\n",
       "      <td>Arizona</td>\n",
       "      <td>OnMessage Inc.</td>\n",
       "      <td>2020-08-02</td>\n",
       "      <td>2020-08-04</td>\n",
       "      <td>Biden</td>\n",
       "      <td>48.0</td>\n",
       "      <td>3196</td>\n",
       "    </tr>\n",
       "    <tr>\n",
       "      <th>3197</th>\n",
       "      <td>127578</td>\n",
       "      <td>68114</td>\n",
       "      <td>Florida</td>\n",
       "      <td>OnMessage Inc.</td>\n",
       "      <td>2020-08-02</td>\n",
       "      <td>2020-08-04</td>\n",
       "      <td>Biden</td>\n",
       "      <td>49.0</td>\n",
       "      <td>3198</td>\n",
       "    </tr>\n",
       "    <tr>\n",
       "      <th>3199</th>\n",
       "      <td>127579</td>\n",
       "      <td>68115</td>\n",
       "      <td>Pennsylvania</td>\n",
       "      <td>OnMessage Inc.</td>\n",
       "      <td>2020-08-02</td>\n",
       "      <td>2020-08-04</td>\n",
       "      <td>Biden</td>\n",
       "      <td>50.0</td>\n",
       "      <td>3200</td>\n",
       "    </tr>\n",
       "    <tr>\n",
       "      <th>3201</th>\n",
       "      <td>127580</td>\n",
       "      <td>68116</td>\n",
       "      <td>Wisconsin</td>\n",
       "      <td>OnMessage Inc.</td>\n",
       "      <td>2020-08-02</td>\n",
       "      <td>2020-08-04</td>\n",
       "      <td>Biden</td>\n",
       "      <td>47.0</td>\n",
       "      <td>3202</td>\n",
       "    </tr>\n",
       "  </tbody>\n",
       "</table>\n",
       "<p>1601 rows × 9 columns</p>\n",
       "</div>"
      ],
      "text/plain": [
       "      question_id  poll_id         state  \\\n",
       "1          133816    71450          Ohio   \n",
       "3          133838    71457  Pennsylvania   \n",
       "5          133777    71435       Georgia   \n",
       "7          133664    71379  Pennsylvania   \n",
       "9          133666    71379  Pennsylvania   \n",
       "...           ...      ...           ...   \n",
       "3193       127277    67973       Arizona   \n",
       "3195       127577    68113       Arizona   \n",
       "3197       127578    68114       Florida   \n",
       "3199       127579    68115  Pennsylvania   \n",
       "3201       127580    68116     Wisconsin   \n",
       "\n",
       "                                      pollster start_date   end_date answer  \\\n",
       "1     Rasmussen Reports/Pulse Opinion Research 2020-10-18 2020-10-19  Biden   \n",
       "3     Rasmussen Reports/Pulse Opinion Research 2020-10-18 2020-10-19  Biden   \n",
       "5                              Emerson College 2020-10-17 2020-10-19  Biden   \n",
       "7                                        Ipsos 2020-10-13 2020-10-19  Biden   \n",
       "9                                        Ipsos 2020-10-13 2020-10-19  Biden   \n",
       "...                                        ...        ...        ...    ...   \n",
       "3193                    OH Predictive Insights 2020-08-03 2020-08-04  Biden   \n",
       "3195                            OnMessage Inc. 2020-08-02 2020-08-04  Biden   \n",
       "3197                            OnMessage Inc. 2020-08-02 2020-08-04  Biden   \n",
       "3199                            OnMessage Inc. 2020-08-02 2020-08-04  Biden   \n",
       "3201                            OnMessage Inc. 2020-08-02 2020-08-04  Biden   \n",
       "\n",
       "       pct  join_index  \n",
       "1     48.0           2  \n",
       "3     50.0           4  \n",
       "5     47.0           6  \n",
       "7     49.0           8  \n",
       "9     49.0          10  \n",
       "...    ...         ...  \n",
       "3193  49.0        3194  \n",
       "3195  48.0        3196  \n",
       "3197  49.0        3198  \n",
       "3199  50.0        3200  \n",
       "3201  47.0        3202  \n",
       "\n",
       "[1601 rows x 9 columns]"
      ]
     },
     "execution_count": 126,
     "metadata": {},
     "output_type": "execute_result"
    }
   ],
   "source": [
    "odd_rows = df[df.index % 2 == 1]\n",
    "odd_rows"
   ]
  },
  {
   "cell_type": "code",
   "execution_count": 127,
   "metadata": {},
   "outputs": [
    {
     "data": {
      "text/html": [
       "<div>\n",
       "<style scoped>\n",
       "    .dataframe tbody tr th:only-of-type {\n",
       "        vertical-align: middle;\n",
       "    }\n",
       "\n",
       "    .dataframe tbody tr th {\n",
       "        vertical-align: top;\n",
       "    }\n",
       "\n",
       "    .dataframe thead th {\n",
       "        text-align: right;\n",
       "    }\n",
       "</style>\n",
       "<table border=\"1\" class=\"dataframe\">\n",
       "  <thead>\n",
       "    <tr style=\"text-align: right;\">\n",
       "      <th></th>\n",
       "      <th>question_id</th>\n",
       "      <th>poll_id</th>\n",
       "      <th>state</th>\n",
       "      <th>pollster</th>\n",
       "      <th>start_date</th>\n",
       "      <th>end_date</th>\n",
       "      <th>answer</th>\n",
       "      <th>pct</th>\n",
       "      <th>join_index</th>\n",
       "    </tr>\n",
       "  </thead>\n",
       "  <tbody>\n",
       "    <tr>\n",
       "      <th>1</th>\n",
       "      <td>133816</td>\n",
       "      <td>71450</td>\n",
       "      <td>Ohio</td>\n",
       "      <td>Rasmussen Reports/Pulse Opinion Research</td>\n",
       "      <td>2020-10-18</td>\n",
       "      <td>2020-10-19</td>\n",
       "      <td>Biden</td>\n",
       "      <td>48.0</td>\n",
       "      <td>2</td>\n",
       "    </tr>\n",
       "    <tr>\n",
       "      <th>2</th>\n",
       "      <td>133816</td>\n",
       "      <td>71450</td>\n",
       "      <td>Ohio</td>\n",
       "      <td>Rasmussen Reports/Pulse Opinion Research</td>\n",
       "      <td>2020-10-18</td>\n",
       "      <td>2020-10-19</td>\n",
       "      <td>Trump</td>\n",
       "      <td>47.0</td>\n",
       "      <td>3</td>\n",
       "    </tr>\n",
       "    <tr>\n",
       "      <th>3</th>\n",
       "      <td>133838</td>\n",
       "      <td>71457</td>\n",
       "      <td>Pennsylvania</td>\n",
       "      <td>Rasmussen Reports/Pulse Opinion Research</td>\n",
       "      <td>2020-10-18</td>\n",
       "      <td>2020-10-19</td>\n",
       "      <td>Biden</td>\n",
       "      <td>50.0</td>\n",
       "      <td>4</td>\n",
       "    </tr>\n",
       "    <tr>\n",
       "      <th>4</th>\n",
       "      <td>133838</td>\n",
       "      <td>71457</td>\n",
       "      <td>Pennsylvania</td>\n",
       "      <td>Rasmussen Reports/Pulse Opinion Research</td>\n",
       "      <td>2020-10-18</td>\n",
       "      <td>2020-10-19</td>\n",
       "      <td>Trump</td>\n",
       "      <td>47.0</td>\n",
       "      <td>5</td>\n",
       "    </tr>\n",
       "    <tr>\n",
       "      <th>5</th>\n",
       "      <td>133777</td>\n",
       "      <td>71435</td>\n",
       "      <td>Georgia</td>\n",
       "      <td>Emerson College</td>\n",
       "      <td>2020-10-17</td>\n",
       "      <td>2020-10-19</td>\n",
       "      <td>Biden</td>\n",
       "      <td>47.0</td>\n",
       "      <td>6</td>\n",
       "    </tr>\n",
       "  </tbody>\n",
       "</table>\n",
       "</div>"
      ],
      "text/plain": [
       "   question_id  poll_id         state  \\\n",
       "1       133816    71450          Ohio   \n",
       "2       133816    71450          Ohio   \n",
       "3       133838    71457  Pennsylvania   \n",
       "4       133838    71457  Pennsylvania   \n",
       "5       133777    71435       Georgia   \n",
       "\n",
       "                                   pollster start_date   end_date answer  \\\n",
       "1  Rasmussen Reports/Pulse Opinion Research 2020-10-18 2020-10-19  Biden   \n",
       "2  Rasmussen Reports/Pulse Opinion Research 2020-10-18 2020-10-19  Trump   \n",
       "3  Rasmussen Reports/Pulse Opinion Research 2020-10-18 2020-10-19  Biden   \n",
       "4  Rasmussen Reports/Pulse Opinion Research 2020-10-18 2020-10-19  Trump   \n",
       "5                           Emerson College 2020-10-17 2020-10-19  Biden   \n",
       "\n",
       "    pct  join_index  \n",
       "1  48.0           2  \n",
       "2  47.0           3  \n",
       "3  50.0           4  \n",
       "4  47.0           5  \n",
       "5  47.0           6  "
      ]
     },
     "execution_count": 127,
     "metadata": {},
     "output_type": "execute_result"
    }
   ],
   "source": [
    "df.head(5)"
   ]
  },
  {
   "cell_type": "code",
   "execution_count": 128,
   "metadata": {},
   "outputs": [
    {
     "data": {
      "text/html": [
       "<div>\n",
       "<style scoped>\n",
       "    .dataframe tbody tr th:only-of-type {\n",
       "        vertical-align: middle;\n",
       "    }\n",
       "\n",
       "    .dataframe tbody tr th {\n",
       "        vertical-align: top;\n",
       "    }\n",
       "\n",
       "    .dataframe thead th {\n",
       "        text-align: right;\n",
       "    }\n",
       "</style>\n",
       "<table border=\"1\" class=\"dataframe\">\n",
       "  <thead>\n",
       "    <tr style=\"text-align: right;\">\n",
       "      <th></th>\n",
       "      <th>question_id</th>\n",
       "      <th>poll_id</th>\n",
       "      <th>state</th>\n",
       "      <th>pollster</th>\n",
       "      <th>start_date</th>\n",
       "      <th>end_date</th>\n",
       "      <th>answer</th>\n",
       "      <th>pct</th>\n",
       "      <th>join_index</th>\n",
       "      <th>question_id second</th>\n",
       "      <th>poll_id second</th>\n",
       "      <th>state second</th>\n",
       "      <th>pollster second</th>\n",
       "      <th>start_date second</th>\n",
       "      <th>end_date second</th>\n",
       "      <th>answer second</th>\n",
       "      <th>pct second</th>\n",
       "      <th>join_index second</th>\n",
       "    </tr>\n",
       "  </thead>\n",
       "  <tbody>\n",
       "    <tr>\n",
       "      <th>1</th>\n",
       "      <td>133816</td>\n",
       "      <td>71450</td>\n",
       "      <td>Ohio</td>\n",
       "      <td>Rasmussen Reports/Pulse Opinion Research</td>\n",
       "      <td>2020-10-18</td>\n",
       "      <td>2020-10-19</td>\n",
       "      <td>Biden</td>\n",
       "      <td>48.0</td>\n",
       "      <td>2</td>\n",
       "      <td>133816</td>\n",
       "      <td>71450</td>\n",
       "      <td>Ohio</td>\n",
       "      <td>Rasmussen Reports/Pulse Opinion Research</td>\n",
       "      <td>2020-10-18</td>\n",
       "      <td>2020-10-19</td>\n",
       "      <td>Trump</td>\n",
       "      <td>47.0</td>\n",
       "      <td>3</td>\n",
       "    </tr>\n",
       "    <tr>\n",
       "      <th>3</th>\n",
       "      <td>133838</td>\n",
       "      <td>71457</td>\n",
       "      <td>Pennsylvania</td>\n",
       "      <td>Rasmussen Reports/Pulse Opinion Research</td>\n",
       "      <td>2020-10-18</td>\n",
       "      <td>2020-10-19</td>\n",
       "      <td>Biden</td>\n",
       "      <td>50.0</td>\n",
       "      <td>4</td>\n",
       "      <td>133838</td>\n",
       "      <td>71457</td>\n",
       "      <td>Pennsylvania</td>\n",
       "      <td>Rasmussen Reports/Pulse Opinion Research</td>\n",
       "      <td>2020-10-18</td>\n",
       "      <td>2020-10-19</td>\n",
       "      <td>Trump</td>\n",
       "      <td>47.0</td>\n",
       "      <td>5</td>\n",
       "    </tr>\n",
       "    <tr>\n",
       "      <th>5</th>\n",
       "      <td>133777</td>\n",
       "      <td>71435</td>\n",
       "      <td>Georgia</td>\n",
       "      <td>Emerson College</td>\n",
       "      <td>2020-10-17</td>\n",
       "      <td>2020-10-19</td>\n",
       "      <td>Biden</td>\n",
       "      <td>47.0</td>\n",
       "      <td>6</td>\n",
       "      <td>133777</td>\n",
       "      <td>71435</td>\n",
       "      <td>Georgia</td>\n",
       "      <td>Emerson College</td>\n",
       "      <td>2020-10-17</td>\n",
       "      <td>2020-10-19</td>\n",
       "      <td>Trump</td>\n",
       "      <td>48.4</td>\n",
       "      <td>7</td>\n",
       "    </tr>\n",
       "    <tr>\n",
       "      <th>7</th>\n",
       "      <td>133664</td>\n",
       "      <td>71379</td>\n",
       "      <td>Pennsylvania</td>\n",
       "      <td>Ipsos</td>\n",
       "      <td>2020-10-13</td>\n",
       "      <td>2020-10-19</td>\n",
       "      <td>Biden</td>\n",
       "      <td>49.0</td>\n",
       "      <td>8</td>\n",
       "      <td>133664</td>\n",
       "      <td>71379</td>\n",
       "      <td>Pennsylvania</td>\n",
       "      <td>Ipsos</td>\n",
       "      <td>2020-10-13</td>\n",
       "      <td>2020-10-19</td>\n",
       "      <td>Trump</td>\n",
       "      <td>45.0</td>\n",
       "      <td>9</td>\n",
       "    </tr>\n",
       "    <tr>\n",
       "      <th>9</th>\n",
       "      <td>133666</td>\n",
       "      <td>71379</td>\n",
       "      <td>Pennsylvania</td>\n",
       "      <td>Ipsos</td>\n",
       "      <td>2020-10-13</td>\n",
       "      <td>2020-10-19</td>\n",
       "      <td>Biden</td>\n",
       "      <td>49.0</td>\n",
       "      <td>10</td>\n",
       "      <td>133666</td>\n",
       "      <td>71379</td>\n",
       "      <td>Pennsylvania</td>\n",
       "      <td>Ipsos</td>\n",
       "      <td>2020-10-13</td>\n",
       "      <td>2020-10-19</td>\n",
       "      <td>Trump</td>\n",
       "      <td>45.0</td>\n",
       "      <td>11</td>\n",
       "    </tr>\n",
       "    <tr>\n",
       "      <th>...</th>\n",
       "      <td>...</td>\n",
       "      <td>...</td>\n",
       "      <td>...</td>\n",
       "      <td>...</td>\n",
       "      <td>...</td>\n",
       "      <td>...</td>\n",
       "      <td>...</td>\n",
       "      <td>...</td>\n",
       "      <td>...</td>\n",
       "      <td>...</td>\n",
       "      <td>...</td>\n",
       "      <td>...</td>\n",
       "      <td>...</td>\n",
       "      <td>...</td>\n",
       "      <td>...</td>\n",
       "      <td>...</td>\n",
       "      <td>...</td>\n",
       "      <td>...</td>\n",
       "    </tr>\n",
       "    <tr>\n",
       "      <th>3193</th>\n",
       "      <td>127277</td>\n",
       "      <td>67973</td>\n",
       "      <td>Arizona</td>\n",
       "      <td>OH Predictive Insights</td>\n",
       "      <td>2020-08-03</td>\n",
       "      <td>2020-08-04</td>\n",
       "      <td>Biden</td>\n",
       "      <td>49.0</td>\n",
       "      <td>3194</td>\n",
       "      <td>127277</td>\n",
       "      <td>67973</td>\n",
       "      <td>Arizona</td>\n",
       "      <td>OH Predictive Insights</td>\n",
       "      <td>2020-08-03</td>\n",
       "      <td>2020-08-04</td>\n",
       "      <td>Trump</td>\n",
       "      <td>45.0</td>\n",
       "      <td>3195</td>\n",
       "    </tr>\n",
       "    <tr>\n",
       "      <th>3195</th>\n",
       "      <td>127577</td>\n",
       "      <td>68113</td>\n",
       "      <td>Arizona</td>\n",
       "      <td>OnMessage Inc.</td>\n",
       "      <td>2020-08-02</td>\n",
       "      <td>2020-08-04</td>\n",
       "      <td>Biden</td>\n",
       "      <td>48.0</td>\n",
       "      <td>3196</td>\n",
       "      <td>127577</td>\n",
       "      <td>68113</td>\n",
       "      <td>Arizona</td>\n",
       "      <td>OnMessage Inc.</td>\n",
       "      <td>2020-08-02</td>\n",
       "      <td>2020-08-04</td>\n",
       "      <td>Trump</td>\n",
       "      <td>51.0</td>\n",
       "      <td>3197</td>\n",
       "    </tr>\n",
       "    <tr>\n",
       "      <th>3197</th>\n",
       "      <td>127578</td>\n",
       "      <td>68114</td>\n",
       "      <td>Florida</td>\n",
       "      <td>OnMessage Inc.</td>\n",
       "      <td>2020-08-02</td>\n",
       "      <td>2020-08-04</td>\n",
       "      <td>Biden</td>\n",
       "      <td>49.0</td>\n",
       "      <td>3198</td>\n",
       "      <td>127578</td>\n",
       "      <td>68114</td>\n",
       "      <td>Florida</td>\n",
       "      <td>OnMessage Inc.</td>\n",
       "      <td>2020-08-02</td>\n",
       "      <td>2020-08-04</td>\n",
       "      <td>Trump</td>\n",
       "      <td>49.0</td>\n",
       "      <td>3199</td>\n",
       "    </tr>\n",
       "    <tr>\n",
       "      <th>3199</th>\n",
       "      <td>127579</td>\n",
       "      <td>68115</td>\n",
       "      <td>Pennsylvania</td>\n",
       "      <td>OnMessage Inc.</td>\n",
       "      <td>2020-08-02</td>\n",
       "      <td>2020-08-04</td>\n",
       "      <td>Biden</td>\n",
       "      <td>50.0</td>\n",
       "      <td>3200</td>\n",
       "      <td>127579</td>\n",
       "      <td>68115</td>\n",
       "      <td>Pennsylvania</td>\n",
       "      <td>OnMessage Inc.</td>\n",
       "      <td>2020-08-02</td>\n",
       "      <td>2020-08-04</td>\n",
       "      <td>Trump</td>\n",
       "      <td>46.0</td>\n",
       "      <td>3201</td>\n",
       "    </tr>\n",
       "    <tr>\n",
       "      <th>3201</th>\n",
       "      <td>127580</td>\n",
       "      <td>68116</td>\n",
       "      <td>Wisconsin</td>\n",
       "      <td>OnMessage Inc.</td>\n",
       "      <td>2020-08-02</td>\n",
       "      <td>2020-08-04</td>\n",
       "      <td>Biden</td>\n",
       "      <td>47.0</td>\n",
       "      <td>3202</td>\n",
       "      <td>127580</td>\n",
       "      <td>68116</td>\n",
       "      <td>Wisconsin</td>\n",
       "      <td>OnMessage Inc.</td>\n",
       "      <td>2020-08-02</td>\n",
       "      <td>2020-08-04</td>\n",
       "      <td>Trump</td>\n",
       "      <td>47.0</td>\n",
       "      <td>3203</td>\n",
       "    </tr>\n",
       "  </tbody>\n",
       "</table>\n",
       "<p>1601 rows × 18 columns</p>\n",
       "</div>"
      ],
      "text/plain": [
       "      question_id  poll_id         state  \\\n",
       "1          133816    71450          Ohio   \n",
       "3          133838    71457  Pennsylvania   \n",
       "5          133777    71435       Georgia   \n",
       "7          133664    71379  Pennsylvania   \n",
       "9          133666    71379  Pennsylvania   \n",
       "...           ...      ...           ...   \n",
       "3193       127277    67973       Arizona   \n",
       "3195       127577    68113       Arizona   \n",
       "3197       127578    68114       Florida   \n",
       "3199       127579    68115  Pennsylvania   \n",
       "3201       127580    68116     Wisconsin   \n",
       "\n",
       "                                      pollster start_date   end_date answer  \\\n",
       "1     Rasmussen Reports/Pulse Opinion Research 2020-10-18 2020-10-19  Biden   \n",
       "3     Rasmussen Reports/Pulse Opinion Research 2020-10-18 2020-10-19  Biden   \n",
       "5                              Emerson College 2020-10-17 2020-10-19  Biden   \n",
       "7                                        Ipsos 2020-10-13 2020-10-19  Biden   \n",
       "9                                        Ipsos 2020-10-13 2020-10-19  Biden   \n",
       "...                                        ...        ...        ...    ...   \n",
       "3193                    OH Predictive Insights 2020-08-03 2020-08-04  Biden   \n",
       "3195                            OnMessage Inc. 2020-08-02 2020-08-04  Biden   \n",
       "3197                            OnMessage Inc. 2020-08-02 2020-08-04  Biden   \n",
       "3199                            OnMessage Inc. 2020-08-02 2020-08-04  Biden   \n",
       "3201                            OnMessage Inc. 2020-08-02 2020-08-04  Biden   \n",
       "\n",
       "       pct  join_index  question_id second  poll_id second  state second  \\\n",
       "1     48.0           2              133816           71450          Ohio   \n",
       "3     50.0           4              133838           71457  Pennsylvania   \n",
       "5     47.0           6              133777           71435       Georgia   \n",
       "7     49.0           8              133664           71379  Pennsylvania   \n",
       "9     49.0          10              133666           71379  Pennsylvania   \n",
       "...    ...         ...                 ...             ...           ...   \n",
       "3193  49.0        3194              127277           67973       Arizona   \n",
       "3195  48.0        3196              127577           68113       Arizona   \n",
       "3197  49.0        3198              127578           68114       Florida   \n",
       "3199  50.0        3200              127579           68115  Pennsylvania   \n",
       "3201  47.0        3202              127580           68116     Wisconsin   \n",
       "\n",
       "                               pollster second start_date second  \\\n",
       "1     Rasmussen Reports/Pulse Opinion Research        2020-10-18   \n",
       "3     Rasmussen Reports/Pulse Opinion Research        2020-10-18   \n",
       "5                              Emerson College        2020-10-17   \n",
       "7                                        Ipsos        2020-10-13   \n",
       "9                                        Ipsos        2020-10-13   \n",
       "...                                        ...               ...   \n",
       "3193                    OH Predictive Insights        2020-08-03   \n",
       "3195                            OnMessage Inc.        2020-08-02   \n",
       "3197                            OnMessage Inc.        2020-08-02   \n",
       "3199                            OnMessage Inc.        2020-08-02   \n",
       "3201                            OnMessage Inc.        2020-08-02   \n",
       "\n",
       "     end_date second answer second  pct second  join_index second  \n",
       "1         2020-10-19         Trump        47.0                  3  \n",
       "3         2020-10-19         Trump        47.0                  5  \n",
       "5         2020-10-19         Trump        48.4                  7  \n",
       "7         2020-10-19         Trump        45.0                  9  \n",
       "9         2020-10-19         Trump        45.0                 11  \n",
       "...              ...           ...         ...                ...  \n",
       "3193      2020-08-04         Trump        45.0               3195  \n",
       "3195      2020-08-04         Trump        51.0               3197  \n",
       "3197      2020-08-04         Trump        49.0               3199  \n",
       "3199      2020-08-04         Trump        46.0               3201  \n",
       "3201      2020-08-04         Trump        47.0               3203  \n",
       "\n",
       "[1601 rows x 18 columns]"
      ]
     },
     "execution_count": 128,
     "metadata": {},
     "output_type": "execute_result"
    }
   ],
   "source": [
    "# Get the odd rows \n",
    "odd_rows = df[df.index % 2 == 1]\n",
    "\n",
    "# Now we join them\n",
    "grouped = odd_rows.join(df, on=\"join_index\",rsuffix=\" second\")\n",
    "grouped"
   ]
  },
  {
   "cell_type": "code",
   "execution_count": 129,
   "metadata": {},
   "outputs": [
    {
     "data": {
      "text/plain": [
       "array(['Ohio', 'Pennsylvania', 'Georgia', 'Wisconsin', 'Michigan',\n",
       "       'Arizona', 'Texas', 'North Carolina', 'Wyoming', 'West Virginia',\n",
       "       'Vermont', 'Virginia', 'Utah', 'South Dakota', 'South Carolina',\n",
       "       'Oregon', 'Oklahoma', 'Nevada', 'New Mexico', 'New Jersey',\n",
       "       'New Hampshire', 'Nebraska', 'North Dakota', 'Montana',\n",
       "       'Mississippi', 'Minnesota', 'Maine', 'Maryland', 'Massachusetts',\n",
       "       'Kentucky', 'Kansas', 'Indiana', 'Illinois', 'Idaho', 'Iowa',\n",
       "       'Hawaii', 'Delaware', 'Connecticut', 'Arkansas', 'Alabama',\n",
       "       'District of Columbia', 'Washington', 'Tennessee', 'Rhode Island',\n",
       "       'New York', 'Missouri', 'Louisiana', 'Florida', 'Colorado',\n",
       "       'California', 'Alaska', 'Maine CD-1', 'Maine CD-2',\n",
       "       'Nebraska CD-2'], dtype=object)"
      ]
     },
     "execution_count": 129,
     "metadata": {},
     "output_type": "execute_result"
    }
   ],
   "source": [
    "grouped.state.unique()"
   ]
  },
  {
   "cell_type": "code",
   "execution_count": 130,
   "metadata": {},
   "outputs": [],
   "source": [
    "grouped['state'] = grouped['state'].str.replace(r' CD-1', '')\n",
    "grouped['state'] = grouped['state'].str.replace(r' CD-2', '')"
   ]
  },
  {
   "cell_type": "code",
   "execution_count": 131,
   "metadata": {},
   "outputs": [
    {
     "data": {
      "text/plain": [
       "array(['Ohio', 'Pennsylvania', 'Georgia', 'Wisconsin', 'Michigan',\n",
       "       'Arizona', 'Texas', 'North Carolina', 'Wyoming', 'West Virginia',\n",
       "       'Vermont', 'Virginia', 'Utah', 'South Dakota', 'South Carolina',\n",
       "       'Oregon', 'Oklahoma', 'Nevada', 'New Mexico', 'New Jersey',\n",
       "       'New Hampshire', 'Nebraska', 'North Dakota', 'Montana',\n",
       "       'Mississippi', 'Minnesota', 'Maine', 'Maryland', 'Massachusetts',\n",
       "       'Kentucky', 'Kansas', 'Indiana', 'Illinois', 'Idaho', 'Iowa',\n",
       "       'Hawaii', 'Delaware', 'Connecticut', 'Arkansas', 'Alabama',\n",
       "       'District of Columbia', 'Washington', 'Tennessee', 'Rhode Island',\n",
       "       'New York', 'Missouri', 'Louisiana', 'Florida', 'Colorado',\n",
       "       'California', 'Alaska'], dtype=object)"
      ]
     },
     "execution_count": 131,
     "metadata": {},
     "output_type": "execute_result"
    }
   ],
   "source": [
    "grouped.state.unique()"
   ]
  },
  {
   "cell_type": "markdown",
   "metadata": {},
   "source": [
    "# Understanding the US Electoral Process\n",
    "### The USA Electoral Map\n",
    "#### There are 538 seats and 270 to win\n",
    "\n",
    "Learn more about it here - https://www.bbc.com/news/world-us-canada-53558176\n",
    "\n",
    "![Header Map](https://classroommagazines.scholastic.com/content/dam/classroom-magazines/magazines/election/election-2020/civics-in-action/the-electoral-college/ELECTION_ELECTORALCOLLEGE_HEADER_MAP.jpg)"
   ]
  },
  {
   "cell_type": "code",
   "execution_count": 132,
   "metadata": {},
   "outputs": [],
   "source": [
    "#State with numbers of candidates\n",
    "states = {\n",
    "    \"Alabama\": 9,\n",
    "    \"Alaska\": 3,\n",
    "    \"Arizona\": 11,\n",
    "    \"Arkansas\": 6,\n",
    "    \"California\": 55,\n",
    "    \"Colorado\": 9,\n",
    "    \"Connecticut\": 7,\n",
    "    \"Delaware\": 3,\n",
    "    \"District of Columbia\": 3,\n",
    "    \"Florida\": 29,\n",
    "    \"Georgia\": 16,\n",
    "    \"Hawaii\": 4,\n",
    "    \"Idaho\": 4,\n",
    "    \"Illinois\": 20,\n",
    "    \"Indiana\": 11,\n",
    "    \"Iowa\": 6,\n",
    "    \"Kansas\": 6,\n",
    "    \"Kentucky\": 8,\n",
    "    \"Louisiana\": 8,\n",
    "    \"Maine\": 4,\n",
    "    \"Maryland\": 10,\n",
    "    \"Massachusetts\": 11,\n",
    "    \"Michigan\": 16,\n",
    "    \"Minnesota\": 10,\n",
    "    \"Mississippi\": 6,\n",
    "    \"Missouri\": 10,\n",
    "    \"Montana\": 3,\n",
    "    \"Nebraska\": 5,\n",
    "    \"Nevada\": 6,\n",
    "    \"New Hampshire\": 4,\n",
    "    \"New Jersey\": 14,\n",
    "    \"New Mexico\": 5,\n",
    "    \"New York\": 29,\n",
    "    \"North Carolina\": 15,\n",
    "    \"North Dakota\": 3,\n",
    "    \"Ohio\": 18,\n",
    "    \"Oklahoma\": 7,\n",
    "    \"Oregon\": 7,\n",
    "    \"Pennsylvania\": 20,\n",
    "    \"Rhode Island\": 4,\n",
    "    \"South Carolina\": 9,\n",
    "    \"South Dakota\": 3,\n",
    "    \"Tennessee\": 11,\n",
    "    \"Texas\": 38,\n",
    "    \"Utah\": 6,\n",
    "    \"Vermont\": 3,\n",
    "    \"Virginia\": 13,\n",
    "    \"Washington\": 12,\n",
    "    \"West Virginia\": 5,\n",
    "    \"Wisconsin\": 10,\n",
    "    \"Wyoming\": 3,\n",
    "}"
   ]
  },
  {
   "cell_type": "code",
   "execution_count": 133,
   "metadata": {},
   "outputs": [
    {
     "data": {
      "text/html": [
       "<div>\n",
       "<style scoped>\n",
       "    .dataframe tbody tr th:only-of-type {\n",
       "        vertical-align: middle;\n",
       "    }\n",
       "\n",
       "    .dataframe tbody tr th {\n",
       "        vertical-align: top;\n",
       "    }\n",
       "\n",
       "    .dataframe thead th {\n",
       "        text-align: right;\n",
       "    }\n",
       "</style>\n",
       "<table border=\"1\" class=\"dataframe\">\n",
       "  <thead>\n",
       "    <tr style=\"text-align: right;\">\n",
       "      <th></th>\n",
       "      <th>question_id</th>\n",
       "      <th>poll_id</th>\n",
       "      <th>state</th>\n",
       "      <th>pollster</th>\n",
       "      <th>start_date</th>\n",
       "      <th>end_date</th>\n",
       "      <th>answer</th>\n",
       "      <th>pct</th>\n",
       "      <th>join_index</th>\n",
       "      <th>question_id second</th>\n",
       "      <th>poll_id second</th>\n",
       "      <th>state second</th>\n",
       "      <th>pollster second</th>\n",
       "      <th>start_date second</th>\n",
       "      <th>end_date second</th>\n",
       "      <th>answer second</th>\n",
       "      <th>pct second</th>\n",
       "      <th>join_index second</th>\n",
       "    </tr>\n",
       "  </thead>\n",
       "  <tbody>\n",
       "    <tr>\n",
       "      <th>1</th>\n",
       "      <td>133816</td>\n",
       "      <td>71450</td>\n",
       "      <td>Ohio</td>\n",
       "      <td>Rasmussen Reports/Pulse Opinion Research</td>\n",
       "      <td>2020-10-18</td>\n",
       "      <td>2020-10-19</td>\n",
       "      <td>Biden</td>\n",
       "      <td>48.0</td>\n",
       "      <td>2</td>\n",
       "      <td>133816</td>\n",
       "      <td>71450</td>\n",
       "      <td>Ohio</td>\n",
       "      <td>Rasmussen Reports/Pulse Opinion Research</td>\n",
       "      <td>2020-10-18</td>\n",
       "      <td>2020-10-19</td>\n",
       "      <td>Trump</td>\n",
       "      <td>47.0</td>\n",
       "      <td>3</td>\n",
       "    </tr>\n",
       "    <tr>\n",
       "      <th>3</th>\n",
       "      <td>133838</td>\n",
       "      <td>71457</td>\n",
       "      <td>Pennsylvania</td>\n",
       "      <td>Rasmussen Reports/Pulse Opinion Research</td>\n",
       "      <td>2020-10-18</td>\n",
       "      <td>2020-10-19</td>\n",
       "      <td>Biden</td>\n",
       "      <td>50.0</td>\n",
       "      <td>4</td>\n",
       "      <td>133838</td>\n",
       "      <td>71457</td>\n",
       "      <td>Pennsylvania</td>\n",
       "      <td>Rasmussen Reports/Pulse Opinion Research</td>\n",
       "      <td>2020-10-18</td>\n",
       "      <td>2020-10-19</td>\n",
       "      <td>Trump</td>\n",
       "      <td>47.0</td>\n",
       "      <td>5</td>\n",
       "    </tr>\n",
       "  </tbody>\n",
       "</table>\n",
       "</div>"
      ],
      "text/plain": [
       "   question_id  poll_id         state  \\\n",
       "1       133816    71450          Ohio   \n",
       "3       133838    71457  Pennsylvania   \n",
       "\n",
       "                                   pollster start_date   end_date answer  \\\n",
       "1  Rasmussen Reports/Pulse Opinion Research 2020-10-18 2020-10-19  Biden   \n",
       "3  Rasmussen Reports/Pulse Opinion Research 2020-10-18 2020-10-19  Biden   \n",
       "\n",
       "    pct  join_index  question_id second  poll_id second  state second  \\\n",
       "1  48.0           2              133816           71450          Ohio   \n",
       "3  50.0           4              133838           71457  Pennsylvania   \n",
       "\n",
       "                            pollster second start_date second end_date second  \\\n",
       "1  Rasmussen Reports/Pulse Opinion Research        2020-10-18      2020-10-19   \n",
       "3  Rasmussen Reports/Pulse Opinion Research        2020-10-18      2020-10-19   \n",
       "\n",
       "  answer second  pct second  join_index second  \n",
       "1         Trump        47.0                  3  \n",
       "3         Trump        47.0                  5  "
      ]
     },
     "execution_count": 133,
     "metadata": {},
     "output_type": "execute_result"
    }
   ],
   "source": [
    "grouped.head(2)"
   ]
  },
  {
   "cell_type": "code",
   "execution_count": 134,
   "metadata": {},
   "outputs": [
    {
     "data": {
      "text/html": [
       "<div>\n",
       "<style scoped>\n",
       "    .dataframe tbody tr th:only-of-type {\n",
       "        vertical-align: middle;\n",
       "    }\n",
       "\n",
       "    .dataframe tbody tr th {\n",
       "        vertical-align: top;\n",
       "    }\n",
       "\n",
       "    .dataframe thead th {\n",
       "        text-align: right;\n",
       "    }\n",
       "</style>\n",
       "<table border=\"1\" class=\"dataframe\">\n",
       "  <thead>\n",
       "    <tr style=\"text-align: right;\">\n",
       "      <th></th>\n",
       "      <th>question_id</th>\n",
       "      <th>poll_id</th>\n",
       "      <th>state</th>\n",
       "      <th>pollster</th>\n",
       "      <th>start_date</th>\n",
       "      <th>end_date</th>\n",
       "      <th>answer</th>\n",
       "      <th>pct</th>\n",
       "      <th>join_index</th>\n",
       "      <th>question_id second</th>\n",
       "      <th>poll_id second</th>\n",
       "      <th>state second</th>\n",
       "      <th>pollster second</th>\n",
       "      <th>start_date second</th>\n",
       "      <th>end_date second</th>\n",
       "      <th>answer second</th>\n",
       "      <th>pct second</th>\n",
       "      <th>join_index second</th>\n",
       "      <th>Biden</th>\n",
       "      <th>Trump</th>\n",
       "    </tr>\n",
       "  </thead>\n",
       "  <tbody>\n",
       "    <tr>\n",
       "      <th>1</th>\n",
       "      <td>133816</td>\n",
       "      <td>71450</td>\n",
       "      <td>Ohio</td>\n",
       "      <td>Rasmussen Reports/Pulse Opinion Research</td>\n",
       "      <td>2020-10-18</td>\n",
       "      <td>2020-10-19</td>\n",
       "      <td>Biden</td>\n",
       "      <td>48.0</td>\n",
       "      <td>2</td>\n",
       "      <td>133816</td>\n",
       "      <td>71450</td>\n",
       "      <td>Ohio</td>\n",
       "      <td>Rasmussen Reports/Pulse Opinion Research</td>\n",
       "      <td>2020-10-18</td>\n",
       "      <td>2020-10-19</td>\n",
       "      <td>Trump</td>\n",
       "      <td>47.0</td>\n",
       "      <td>3</td>\n",
       "      <td>48.0</td>\n",
       "      <td>47.0</td>\n",
       "    </tr>\n",
       "    <tr>\n",
       "      <th>3</th>\n",
       "      <td>133838</td>\n",
       "      <td>71457</td>\n",
       "      <td>Pennsylvania</td>\n",
       "      <td>Rasmussen Reports/Pulse Opinion Research</td>\n",
       "      <td>2020-10-18</td>\n",
       "      <td>2020-10-19</td>\n",
       "      <td>Biden</td>\n",
       "      <td>50.0</td>\n",
       "      <td>4</td>\n",
       "      <td>133838</td>\n",
       "      <td>71457</td>\n",
       "      <td>Pennsylvania</td>\n",
       "      <td>Rasmussen Reports/Pulse Opinion Research</td>\n",
       "      <td>2020-10-18</td>\n",
       "      <td>2020-10-19</td>\n",
       "      <td>Trump</td>\n",
       "      <td>47.0</td>\n",
       "      <td>5</td>\n",
       "      <td>50.0</td>\n",
       "      <td>47.0</td>\n",
       "    </tr>\n",
       "    <tr>\n",
       "      <th>5</th>\n",
       "      <td>133777</td>\n",
       "      <td>71435</td>\n",
       "      <td>Georgia</td>\n",
       "      <td>Emerson College</td>\n",
       "      <td>2020-10-17</td>\n",
       "      <td>2020-10-19</td>\n",
       "      <td>Biden</td>\n",
       "      <td>47.0</td>\n",
       "      <td>6</td>\n",
       "      <td>133777</td>\n",
       "      <td>71435</td>\n",
       "      <td>Georgia</td>\n",
       "      <td>Emerson College</td>\n",
       "      <td>2020-10-17</td>\n",
       "      <td>2020-10-19</td>\n",
       "      <td>Trump</td>\n",
       "      <td>48.4</td>\n",
       "      <td>7</td>\n",
       "      <td>47.0</td>\n",
       "      <td>48.4</td>\n",
       "    </tr>\n",
       "    <tr>\n",
       "      <th>7</th>\n",
       "      <td>133664</td>\n",
       "      <td>71379</td>\n",
       "      <td>Pennsylvania</td>\n",
       "      <td>Ipsos</td>\n",
       "      <td>2020-10-13</td>\n",
       "      <td>2020-10-19</td>\n",
       "      <td>Biden</td>\n",
       "      <td>49.0</td>\n",
       "      <td>8</td>\n",
       "      <td>133664</td>\n",
       "      <td>71379</td>\n",
       "      <td>Pennsylvania</td>\n",
       "      <td>Ipsos</td>\n",
       "      <td>2020-10-13</td>\n",
       "      <td>2020-10-19</td>\n",
       "      <td>Trump</td>\n",
       "      <td>45.0</td>\n",
       "      <td>9</td>\n",
       "      <td>49.0</td>\n",
       "      <td>45.0</td>\n",
       "    </tr>\n",
       "    <tr>\n",
       "      <th>9</th>\n",
       "      <td>133666</td>\n",
       "      <td>71379</td>\n",
       "      <td>Pennsylvania</td>\n",
       "      <td>Ipsos</td>\n",
       "      <td>2020-10-13</td>\n",
       "      <td>2020-10-19</td>\n",
       "      <td>Biden</td>\n",
       "      <td>49.0</td>\n",
       "      <td>10</td>\n",
       "      <td>133666</td>\n",
       "      <td>71379</td>\n",
       "      <td>Pennsylvania</td>\n",
       "      <td>Ipsos</td>\n",
       "      <td>2020-10-13</td>\n",
       "      <td>2020-10-19</td>\n",
       "      <td>Trump</td>\n",
       "      <td>45.0</td>\n",
       "      <td>11</td>\n",
       "      <td>49.0</td>\n",
       "      <td>45.0</td>\n",
       "    </tr>\n",
       "  </tbody>\n",
       "</table>\n",
       "</div>"
      ],
      "text/plain": [
       "   question_id  poll_id         state  \\\n",
       "1       133816    71450          Ohio   \n",
       "3       133838    71457  Pennsylvania   \n",
       "5       133777    71435       Georgia   \n",
       "7       133664    71379  Pennsylvania   \n",
       "9       133666    71379  Pennsylvania   \n",
       "\n",
       "                                   pollster start_date   end_date answer  \\\n",
       "1  Rasmussen Reports/Pulse Opinion Research 2020-10-18 2020-10-19  Biden   \n",
       "3  Rasmussen Reports/Pulse Opinion Research 2020-10-18 2020-10-19  Biden   \n",
       "5                           Emerson College 2020-10-17 2020-10-19  Biden   \n",
       "7                                     Ipsos 2020-10-13 2020-10-19  Biden   \n",
       "9                                     Ipsos 2020-10-13 2020-10-19  Biden   \n",
       "\n",
       "    pct  join_index  question_id second  poll_id second  state second  \\\n",
       "1  48.0           2              133816           71450          Ohio   \n",
       "3  50.0           4              133838           71457  Pennsylvania   \n",
       "5  47.0           6              133777           71435       Georgia   \n",
       "7  49.0           8              133664           71379  Pennsylvania   \n",
       "9  49.0          10              133666           71379  Pennsylvania   \n",
       "\n",
       "                            pollster second start_date second end_date second  \\\n",
       "1  Rasmussen Reports/Pulse Opinion Research        2020-10-18      2020-10-19   \n",
       "3  Rasmussen Reports/Pulse Opinion Research        2020-10-18      2020-10-19   \n",
       "5                           Emerson College        2020-10-17      2020-10-19   \n",
       "7                                     Ipsos        2020-10-13      2020-10-19   \n",
       "9                                     Ipsos        2020-10-13      2020-10-19   \n",
       "\n",
       "  answer second  pct second  join_index second  Biden  Trump  \n",
       "1         Trump        47.0                  3   48.0   47.0  \n",
       "3         Trump        47.0                  5   50.0   47.0  \n",
       "5         Trump        48.4                  7   47.0   48.4  \n",
       "7         Trump        45.0                  9   49.0   45.0  \n",
       "9         Trump        45.0                 11   49.0   45.0  "
      ]
     },
     "execution_count": 134,
     "metadata": {},
     "output_type": "execute_result"
    }
   ],
   "source": [
    "def getBiden(row):  #grouped parameter is given for row\n",
    "    return row[\"pct\"] if row[\"answer\"]== \"Biden\" else row[\"pct second\"]\n",
    "\n",
    "def getTrump(row):\n",
    "    return row[\"pct\"] if row[\"answer\"] == \"Trump\" else row[\"pct second\"]\n",
    "\n",
    "grouped[\"Biden\"] = grouped.apply(getBiden, axis=1)\n",
    "grouped[\"Trump\"] = grouped.apply(getTrump, axis=1)\n",
    "grouped.head()"
   ]
  },
  {
   "cell_type": "code",
   "execution_count": 135,
   "metadata": {},
   "outputs": [
    {
     "data": {
      "text/html": [
       "<div>\n",
       "<style scoped>\n",
       "    .dataframe tbody tr th:only-of-type {\n",
       "        vertical-align: middle;\n",
       "    }\n",
       "\n",
       "    .dataframe tbody tr th {\n",
       "        vertical-align: top;\n",
       "    }\n",
       "\n",
       "    .dataframe thead th {\n",
       "        text-align: right;\n",
       "    }\n",
       "</style>\n",
       "<table border=\"1\" class=\"dataframe\">\n",
       "  <thead>\n",
       "    <tr style=\"text-align: right;\">\n",
       "      <th></th>\n",
       "      <th>question_id</th>\n",
       "      <th>poll_id</th>\n",
       "      <th>state</th>\n",
       "      <th>pollster</th>\n",
       "      <th>start_date</th>\n",
       "      <th>end_date</th>\n",
       "      <th>answer</th>\n",
       "      <th>pct</th>\n",
       "      <th>join_index</th>\n",
       "      <th>question_id second</th>\n",
       "      <th>...</th>\n",
       "      <th>state second</th>\n",
       "      <th>pollster second</th>\n",
       "      <th>start_date second</th>\n",
       "      <th>end_date second</th>\n",
       "      <th>answer second</th>\n",
       "      <th>pct second</th>\n",
       "      <th>join_index second</th>\n",
       "      <th>Biden</th>\n",
       "      <th>Trump</th>\n",
       "      <th>Seats</th>\n",
       "    </tr>\n",
       "  </thead>\n",
       "  <tbody>\n",
       "    <tr>\n",
       "      <th>1</th>\n",
       "      <td>133816</td>\n",
       "      <td>71450</td>\n",
       "      <td>Ohio</td>\n",
       "      <td>Rasmussen Reports/Pulse Opinion Research</td>\n",
       "      <td>2020-10-18</td>\n",
       "      <td>2020-10-19</td>\n",
       "      <td>Biden</td>\n",
       "      <td>48.0</td>\n",
       "      <td>2</td>\n",
       "      <td>133816</td>\n",
       "      <td>...</td>\n",
       "      <td>Ohio</td>\n",
       "      <td>Rasmussen Reports/Pulse Opinion Research</td>\n",
       "      <td>2020-10-18</td>\n",
       "      <td>2020-10-19</td>\n",
       "      <td>Trump</td>\n",
       "      <td>47.0</td>\n",
       "      <td>3</td>\n",
       "      <td>48.0</td>\n",
       "      <td>47.0</td>\n",
       "      <td>18</td>\n",
       "    </tr>\n",
       "    <tr>\n",
       "      <th>3</th>\n",
       "      <td>133838</td>\n",
       "      <td>71457</td>\n",
       "      <td>Pennsylvania</td>\n",
       "      <td>Rasmussen Reports/Pulse Opinion Research</td>\n",
       "      <td>2020-10-18</td>\n",
       "      <td>2020-10-19</td>\n",
       "      <td>Biden</td>\n",
       "      <td>50.0</td>\n",
       "      <td>4</td>\n",
       "      <td>133838</td>\n",
       "      <td>...</td>\n",
       "      <td>Pennsylvania</td>\n",
       "      <td>Rasmussen Reports/Pulse Opinion Research</td>\n",
       "      <td>2020-10-18</td>\n",
       "      <td>2020-10-19</td>\n",
       "      <td>Trump</td>\n",
       "      <td>47.0</td>\n",
       "      <td>5</td>\n",
       "      <td>50.0</td>\n",
       "      <td>47.0</td>\n",
       "      <td>20</td>\n",
       "    </tr>\n",
       "    <tr>\n",
       "      <th>5</th>\n",
       "      <td>133777</td>\n",
       "      <td>71435</td>\n",
       "      <td>Georgia</td>\n",
       "      <td>Emerson College</td>\n",
       "      <td>2020-10-17</td>\n",
       "      <td>2020-10-19</td>\n",
       "      <td>Biden</td>\n",
       "      <td>47.0</td>\n",
       "      <td>6</td>\n",
       "      <td>133777</td>\n",
       "      <td>...</td>\n",
       "      <td>Georgia</td>\n",
       "      <td>Emerson College</td>\n",
       "      <td>2020-10-17</td>\n",
       "      <td>2020-10-19</td>\n",
       "      <td>Trump</td>\n",
       "      <td>48.4</td>\n",
       "      <td>7</td>\n",
       "      <td>47.0</td>\n",
       "      <td>48.4</td>\n",
       "      <td>16</td>\n",
       "    </tr>\n",
       "    <tr>\n",
       "      <th>7</th>\n",
       "      <td>133664</td>\n",
       "      <td>71379</td>\n",
       "      <td>Pennsylvania</td>\n",
       "      <td>Ipsos</td>\n",
       "      <td>2020-10-13</td>\n",
       "      <td>2020-10-19</td>\n",
       "      <td>Biden</td>\n",
       "      <td>49.0</td>\n",
       "      <td>8</td>\n",
       "      <td>133664</td>\n",
       "      <td>...</td>\n",
       "      <td>Pennsylvania</td>\n",
       "      <td>Ipsos</td>\n",
       "      <td>2020-10-13</td>\n",
       "      <td>2020-10-19</td>\n",
       "      <td>Trump</td>\n",
       "      <td>45.0</td>\n",
       "      <td>9</td>\n",
       "      <td>49.0</td>\n",
       "      <td>45.0</td>\n",
       "      <td>20</td>\n",
       "    </tr>\n",
       "    <tr>\n",
       "      <th>9</th>\n",
       "      <td>133666</td>\n",
       "      <td>71379</td>\n",
       "      <td>Pennsylvania</td>\n",
       "      <td>Ipsos</td>\n",
       "      <td>2020-10-13</td>\n",
       "      <td>2020-10-19</td>\n",
       "      <td>Biden</td>\n",
       "      <td>49.0</td>\n",
       "      <td>10</td>\n",
       "      <td>133666</td>\n",
       "      <td>...</td>\n",
       "      <td>Pennsylvania</td>\n",
       "      <td>Ipsos</td>\n",
       "      <td>2020-10-13</td>\n",
       "      <td>2020-10-19</td>\n",
       "      <td>Trump</td>\n",
       "      <td>45.0</td>\n",
       "      <td>11</td>\n",
       "      <td>49.0</td>\n",
       "      <td>45.0</td>\n",
       "      <td>20</td>\n",
       "    </tr>\n",
       "  </tbody>\n",
       "</table>\n",
       "<p>5 rows × 21 columns</p>\n",
       "</div>"
      ],
      "text/plain": [
       "   question_id  poll_id         state  \\\n",
       "1       133816    71450          Ohio   \n",
       "3       133838    71457  Pennsylvania   \n",
       "5       133777    71435       Georgia   \n",
       "7       133664    71379  Pennsylvania   \n",
       "9       133666    71379  Pennsylvania   \n",
       "\n",
       "                                   pollster start_date   end_date answer  \\\n",
       "1  Rasmussen Reports/Pulse Opinion Research 2020-10-18 2020-10-19  Biden   \n",
       "3  Rasmussen Reports/Pulse Opinion Research 2020-10-18 2020-10-19  Biden   \n",
       "5                           Emerson College 2020-10-17 2020-10-19  Biden   \n",
       "7                                     Ipsos 2020-10-13 2020-10-19  Biden   \n",
       "9                                     Ipsos 2020-10-13 2020-10-19  Biden   \n",
       "\n",
       "    pct  join_index  question_id second  ...  state second  \\\n",
       "1  48.0           2              133816  ...          Ohio   \n",
       "3  50.0           4              133838  ...  Pennsylvania   \n",
       "5  47.0           6              133777  ...       Georgia   \n",
       "7  49.0           8              133664  ...  Pennsylvania   \n",
       "9  49.0          10              133666  ...  Pennsylvania   \n",
       "\n",
       "                            pollster second start_date second end_date second  \\\n",
       "1  Rasmussen Reports/Pulse Opinion Research        2020-10-18      2020-10-19   \n",
       "3  Rasmussen Reports/Pulse Opinion Research        2020-10-18      2020-10-19   \n",
       "5                           Emerson College        2020-10-17      2020-10-19   \n",
       "7                                     Ipsos        2020-10-13      2020-10-19   \n",
       "9                                     Ipsos        2020-10-13      2020-10-19   \n",
       "\n",
       "  answer second pct second  join_index second  Biden  Trump  Seats  \n",
       "1         Trump       47.0                  3   48.0   47.0     18  \n",
       "3         Trump       47.0                  5   50.0   47.0     20  \n",
       "5         Trump       48.4                  7   47.0   48.4     16  \n",
       "7         Trump       45.0                  9   49.0   45.0     20  \n",
       "9         Trump       45.0                 11   49.0   45.0     20  \n",
       "\n",
       "[5 rows x 21 columns]"
      ]
     },
     "execution_count": 135,
     "metadata": {},
     "output_type": "execute_result"
    }
   ],
   "source": [
    "def getSeats(row):\n",
    "    return states[row[\"state\"]]\n",
    "\n",
    "grouped[\"Seats\"] = grouped.apply(getSeats, axis=1)\n",
    "\n",
    "grouped.head()"
   ]
  },
  {
   "cell_type": "code",
   "execution_count": 136,
   "metadata": {},
   "outputs": [
    {
     "data": {
      "text/plain": [
       "[<matplotlib.lines.Line2D at 0x2364812fb88>]"
      ]
     },
     "execution_count": 136,
     "metadata": {},
     "output_type": "execute_result"
    },
    {
     "data": {
      "image/png": "[encoded data removed]",
      "text/plain": [
       "<Figure size 432x288 with 1 Axes>"
      ]
     },
     "metadata": {
      "needs_background": "light"
     },
     "output_type": "display_data"
    }
   ],
   "source": [
    "import matplotlib.pyplot as plt\n",
    "\n",
    "plt.plot(grouped.index, grouped.Biden, color=\"#2dcc57\")\n",
    "plt.plot(grouped.index, grouped.Trump, color=\"#d64747\")"
   ]
  },
  {
   "cell_type": "code",
   "execution_count": 137,
   "metadata": {},
   "outputs": [
    {
     "name": "stderr",
     "output_type": "stream",
     "text": [
      "C:\\Users\\Siyam\\anaconda3\\envs\\tf-gpu\\lib\\site-packages\\ipykernel_launcher.py:2: FutureWarning:\n",
      "\n",
      "Indexing with multiple keys (implicitly converted to a tuple of keys) will be deprecated, use a list instead.\n",
      "\n"
     ]
    },
    {
     "data": {
      "text/html": [
       "<div>\n",
       "<style scoped>\n",
       "    .dataframe tbody tr th:only-of-type {\n",
       "        vertical-align: middle;\n",
       "    }\n",
       "\n",
       "    .dataframe tbody tr th {\n",
       "        vertical-align: top;\n",
       "    }\n",
       "\n",
       "    .dataframe thead th {\n",
       "        text-align: right;\n",
       "    }\n",
       "</style>\n",
       "<table border=\"1\" class=\"dataframe\">\n",
       "  <thead>\n",
       "    <tr style=\"text-align: right;\">\n",
       "      <th></th>\n",
       "      <th>start_date</th>\n",
       "      <th>Biden</th>\n",
       "      <th>Trump</th>\n",
       "      <th>difference</th>\n",
       "    </tr>\n",
       "  </thead>\n",
       "  <tbody>\n",
       "    <tr>\n",
       "      <th>0</th>\n",
       "      <td>2020-08-01</td>\n",
       "      <td>50.142381</td>\n",
       "      <td>47.676381</td>\n",
       "      <td>2.466000</td>\n",
       "    </tr>\n",
       "    <tr>\n",
       "      <th>1</th>\n",
       "      <td>2020-08-02</td>\n",
       "      <td>48.800000</td>\n",
       "      <td>47.000000</td>\n",
       "      <td>1.800000</td>\n",
       "    </tr>\n",
       "    <tr>\n",
       "      <th>2</th>\n",
       "      <td>2020-08-03</td>\n",
       "      <td>49.500000</td>\n",
       "      <td>43.500000</td>\n",
       "      <td>6.000000</td>\n",
       "    </tr>\n",
       "    <tr>\n",
       "      <th>3</th>\n",
       "      <td>2020-08-04</td>\n",
       "      <td>47.916667</td>\n",
       "      <td>44.416667</td>\n",
       "      <td>3.500000</td>\n",
       "    </tr>\n",
       "    <tr>\n",
       "      <th>4</th>\n",
       "      <td>2020-08-05</td>\n",
       "      <td>47.661667</td>\n",
       "      <td>43.793333</td>\n",
       "      <td>3.868333</td>\n",
       "    </tr>\n",
       "    <tr>\n",
       "      <th>...</th>\n",
       "      <td>...</td>\n",
       "      <td>...</td>\n",
       "      <td>...</td>\n",
       "      <td>...</td>\n",
       "    </tr>\n",
       "    <tr>\n",
       "      <th>73</th>\n",
       "      <td>2020-10-14</td>\n",
       "      <td>50.866667</td>\n",
       "      <td>44.766667</td>\n",
       "      <td>6.100000</td>\n",
       "    </tr>\n",
       "    <tr>\n",
       "      <th>74</th>\n",
       "      <td>2020-10-15</td>\n",
       "      <td>48.800000</td>\n",
       "      <td>46.700000</td>\n",
       "      <td>2.100000</td>\n",
       "    </tr>\n",
       "    <tr>\n",
       "      <th>75</th>\n",
       "      <td>2020-10-16</td>\n",
       "      <td>47.100000</td>\n",
       "      <td>41.900000</td>\n",
       "      <td>5.200000</td>\n",
       "    </tr>\n",
       "    <tr>\n",
       "      <th>76</th>\n",
       "      <td>2020-10-17</td>\n",
       "      <td>47.000000</td>\n",
       "      <td>48.400000</td>\n",
       "      <td>-1.400000</td>\n",
       "    </tr>\n",
       "    <tr>\n",
       "      <th>77</th>\n",
       "      <td>2020-10-18</td>\n",
       "      <td>49.666667</td>\n",
       "      <td>45.000000</td>\n",
       "      <td>4.666667</td>\n",
       "    </tr>\n",
       "  </tbody>\n",
       "</table>\n",
       "<p>78 rows × 4 columns</p>\n",
       "</div>"
      ],
      "text/plain": [
       "   start_date      Biden      Trump  difference\n",
       "0  2020-08-01  50.142381  47.676381    2.466000\n",
       "1  2020-08-02  48.800000  47.000000    1.800000\n",
       "2  2020-08-03  49.500000  43.500000    6.000000\n",
       "3  2020-08-04  47.916667  44.416667    3.500000\n",
       "4  2020-08-05  47.661667  43.793333    3.868333\n",
       "..        ...        ...        ...         ...\n",
       "73 2020-10-14  50.866667  44.766667    6.100000\n",
       "74 2020-10-15  48.800000  46.700000    2.100000\n",
       "75 2020-10-16  47.100000  41.900000    5.200000\n",
       "76 2020-10-17  47.000000  48.400000   -1.400000\n",
       "77 2020-10-18  49.666667  45.000000    4.666667\n",
       "\n",
       "[78 rows x 4 columns]"
      ]
     },
     "execution_count": 137,
     "metadata": {},
     "output_type": "execute_result"
    }
   ],
   "source": [
    "# Plotting the Difference\n",
    "diff_by_date = grouped.groupby('start_date')['Biden', 'Trump'].mean().reset_index()\n",
    "diff_by_date['difference'] = diff_by_date['Biden'] - diff_by_date['Trump']\n",
    "diff_by_date"
   ]
  },
  {
   "cell_type": "code",
   "execution_count": 138,
   "metadata": {},
   "outputs": [
    {
     "data": {
      "application/vnd.plotly.v1+json": {
       "config": {
        "plotlyServerURL": "https://plot.ly"
       },
       "data": [
        {
         "hovertemplate": "start_date=%{x}<br>difference=%{y}<extra></extra>",
         "legendgroup": "",
         "line": {
          "color": "#636efa",
          "dash": "solid"
         },
         "mode": "lines",
         "name": "",
         "orientation": "v",
         "showlegend": false,
         "type": "scatter",
         "x": [
          "2020-08-01T00:00:00",
          "2020-08-02T00:00:00",
          "2020-08-03T00:00:00",
          "2020-08-04T00:00:00",
          "2020-08-05T00:00:00",
          "2020-08-06T00:00:00",
          "2020-08-07T00:00:00",
          "2020-08-08T00:00:00",
          "2020-08-09T00:00:00",
          "2020-08-10T00:00:00",
          "2020-08-11T00:00:00",
          "2020-08-12T00:00:00",
          "2020-08-13T00:00:00",
          "2020-08-14T00:00:00",
          "2020-08-15T00:00:00",
          "2020-08-16T00:00:00",
          "2020-08-17T00:00:00",
          "2020-08-18T00:00:00",
          "2020-08-19T00:00:00",
          "2020-08-20T00:00:00",
          "2020-08-21T00:00:00",
          "2020-08-22T00:00:00",
          "2020-08-23T00:00:00",
          "2020-08-24T00:00:00",
          "2020-08-25T00:00:00",
          "2020-08-26T00:00:00",
          "2020-08-27T00:00:00",
          "2020-08-28T00:00:00",
          "2020-08-29T00:00:00",
          "2020-08-30T00:00:00",
          "2020-08-31T00:00:00",
          "2020-09-01T00:00:00",
          "2020-09-02T00:00:00",
          "2020-09-03T00:00:00",
          "2020-09-04T00:00:00",
          "2020-09-05T00:00:00",
          "2020-09-06T00:00:00",
          "2020-09-07T00:00:00",
          "2020-09-08T00:00:00",
          "2020-09-09T00:00:00",
          "2020-09-10T00:00:00",
          "2020-09-11T00:00:00",
          "2020-09-12T00:00:00",
          "2020-09-14T00:00:00",
          "2020-09-15T00:00:00",
          "2020-09-16T00:00:00",
          "2020-09-17T00:00:00",
          "2020-09-18T00:00:00",
          "2020-09-19T00:00:00",
          "2020-09-20T00:00:00",
          "2020-09-21T00:00:00",
          "2020-09-22T00:00:00",
          "2020-09-23T00:00:00",
          "2020-09-24T00:00:00",
          "2020-09-25T00:00:00",
          "2020-09-26T00:00:00",
          "2020-09-27T00:00:00",
          "2020-09-28T00:00:00",
          "2020-09-29T00:00:00",
          "2020-09-30T00:00:00",
          "2020-10-01T00:00:00",
          "2020-10-02T00:00:00",
          "2020-10-03T00:00:00",
          "2020-10-04T00:00:00",
          "2020-10-05T00:00:00",
          "2020-10-06T00:00:00",
          "2020-10-07T00:00:00",
          "2020-10-08T00:00:00",
          "2020-10-09T00:00:00",
          "2020-10-10T00:00:00",
          "2020-10-11T00:00:00",
          "2020-10-12T00:00:00",
          "2020-10-13T00:00:00",
          "2020-10-14T00:00:00",
          "2020-10-15T00:00:00",
          "2020-10-16T00:00:00",
          "2020-10-17T00:00:00",
          "2020-10-18T00:00:00"
         ],
         "xaxis": "x",
         "y": [
          2.466000000000008,
          1.7999999999999972,
          6,
          3.5,
          3.8683333333333394,
          6.316666666666663,
          3.235294117647058,
          3.4080000000000084,
          19,
          9,
          5.4680000000000035,
          11.533333333333331,
          2.9499999999999957,
          1.1799999999999997,
          5.13333333333334,
          7.571428571428569,
          5.302500000000002,
          10,
          9,
          5.936666666666667,
          6.467826086956521,
          12.333333333333329,
          10,
          5.5,
          11.699999999999996,
          4.058750000000003,
          6,
          4.05555555555555,
          2.7966666666666598,
          5.55555555555555,
          4.799999999999997,
          4.114090909090969,
          -1.764000000000003,
          7.211666666666666,
          11.996923076923075,
          9,
          7.825000000000003,
          -1.8200000000000003,
          8.475000000000001,
          9.25555555555556,
          5.526315789473685,
          3.007619047619052,
          2.2222222222222214,
          0.6061224489795976,
          5.378899082568822,
          3.583669724770644,
          7.834112903225815,
          5.358407079646021,
          7.135135135135137,
          5.547706422018358,
          5.8578313253012055,
          1.1499999999999986,
          3.6840000000000117,
          0.7909090909090821,
          6.350000000000001,
          2.3249999999999957,
          8.54,
          0.6666666666666714,
          4.5,
          6.032142857142844,
          5.441666666666663,
          5.632000000000005,
          1.8333333333333357,
          3.2666666666666586,
          -1.4500000000000028,
          4.618181818181817,
          4.106249999999996,
          4.443478260869568,
          2.9272727272727295,
          3.8999999999999986,
          -1.1666666666666643,
          2.7666666666666657,
          3.455555555555563,
          6.099999999999994,
          2.0999999999999943,
          5.200000000000003,
          -1.3999999999999986,
          4.666666666666664
         ],
         "yaxis": "y"
        }
       ],
       "layout": {
        "autosize": true,
        "legend": {
         "tracegroupgap": 0
        },
        "template": {
         "data": {
          "bar": [
           {
            "error_x": {
             "color": "#2a3f5f"
            },
            "error_y": {
             "color": "#2a3f5f"
            },
            "marker": {
             "line": {
              "color": "#E5ECF6",
              "width": 0.5
             }
            },
            "type": "bar"
           }
          ],
          "barpolar": [
           {
            "marker": {
             "line": {
              "color": "#E5ECF6",
              "width": 0.5
             }
            },
            "type": "barpolar"
           }
          ],
          "carpet": [
           {
            "aaxis": {
             "endlinecolor": "#2a3f5f",
             "gridcolor": "white",
             "linecolor": "white",
             "minorgridcolor": "white",
             "startlinecolor": "#2a3f5f"
            },
            "baxis": {
             "endlinecolor": "#2a3f5f",
             "gridcolor": "white",
             "linecolor": "white",
             "minorgridcolor": "white",
             "startlinecolor": "#2a3f5f"
            },
            "type": "carpet"
           }
          ],
          "choropleth": [
           {
            "colorbar": {
             "outlinewidth": 0,
             "ticks": ""
            },
            "type": "choropleth"
           }
          ],
          "contour": [
           {
            "colorbar": {
             "outlinewidth": 0,
             "ticks": ""
            },
            "colorscale": [
             [
              0,
              "#0d0887"
             ],
             [
              0.1111111111111111,
              "#46039f"
             ],
             [
              0.2222222222222222,
              "#7201a8"
             ],
             [
              0.3333333333333333,
              "#9c179e"
             ],
             [
              0.4444444444444444,
              "#bd3786"
             ],
             [
              0.5555555555555556,
              "#d8576b"
             ],
             [
              0.6666666666666666,
              "#ed7953"
             ],
             [
              0.7777777777777778,
              "#fb9f3a"
             ],
             [
              0.8888888888888888,
              "#fdca26"
             ],
             [
              1,
              "#f0f921"
             ]
            ],
            "type": "contour"
           }
          ],
          "contourcarpet": [
           {
            "colorbar": {
             "outlinewidth": 0,
             "ticks": ""
            },
            "type": "contourcarpet"
           }
          ],
          "heatmap": [
           {
            "colorbar": {
             "outlinewidth": 0,
             "ticks": ""
            },
            "colorscale": [
             [
              0,
              "#0d0887"
             ],
             [
              0.1111111111111111,
              "#46039f"
             ],
             [
              0.2222222222222222,
              "#7201a8"
             ],
             [
              0.3333333333333333,
              "#9c179e"
             ],
             [
              0.4444444444444444,
              "#bd3786"
             ],
             [
              0.5555555555555556,
              "#d8576b"
             ],
             [
              0.6666666666666666,
              "#ed7953"
             ],
             [
              0.7777777777777778,
              "#fb9f3a"
             ],
             [
              0.8888888888888888,
              "#fdca26"
             ],
             [
              1,
              "#f0f921"
             ]
            ],
            "type": "heatmap"
           }
          ],
          "heatmapgl": [
           {
            "colorbar": {
             "outlinewidth": 0,
             "ticks": ""
            },
            "colorscale": [
             [
              0,
              "#0d0887"
             ],
             [
              0.1111111111111111,
              "#46039f"
             ],
             [
              0.2222222222222222,
              "#7201a8"
             ],
             [
              0.3333333333333333,
              "#9c179e"
             ],
             [
              0.4444444444444444,
              "#bd3786"
             ],
             [
              0.5555555555555556,
              "#d8576b"
             ],
             [
              0.6666666666666666,
              "#ed7953"
             ],
             [
              0.7777777777777778,
              "#fb9f3a"
             ],
             [
              0.8888888888888888,
              "#fdca26"
             ],
             [
              1,
              "#f0f921"
             ]
            ],
            "type": "heatmapgl"
           }
          ],
          "histogram": [
           {
            "marker": {
             "colorbar": {
              "outlinewidth": 0,
              "ticks": ""
             }
            },
            "type": "histogram"
           }
          ],
          "histogram2d": [
           {
            "colorbar": {
             "outlinewidth": 0,
             "ticks": ""
            },
            "colorscale": [
             [
              0,
              "#0d0887"
             ],
             [
              0.1111111111111111,
              "#46039f"
             ],
             [
              0.2222222222222222,
              "#7201a8"
             ],
             [
              0.3333333333333333,
              "#9c179e"
             ],
             [
              0.4444444444444444,
              "#bd3786"
             ],
             [
              0.5555555555555556,
              "#d8576b"
             ],
             [
              0.6666666666666666,
              "#ed7953"
             ],
             [
              0.7777777777777778,
              "#fb9f3a"
             ],
             [
              0.8888888888888888,
              "#fdca26"
             ],
             [
              1,
              "#f0f921"
             ]
            ],
            "type": "histogram2d"
           }
          ],
          "histogram2dcontour": [
           {
            "colorbar": {
             "outlinewidth": 0,
             "ticks": ""
            },
            "colorscale": [
             [
              0,
              "#0d0887"
             ],
             [
              0.1111111111111111,
              "#46039f"
             ],
             [
              0.2222222222222222,
              "#7201a8"
             ],
             [
              0.3333333333333333,
              "#9c179e"
             ],
             [
              0.4444444444444444,
              "#bd3786"
             ],
             [
              0.5555555555555556,
              "#d8576b"
             ],
             [
              0.6666666666666666,
              "#ed7953"
             ],
             [
              0.7777777777777778,
              "#fb9f3a"
             ],
             [
              0.8888888888888888,
              "#fdca26"
             ],
             [
              1,
              "#f0f921"
             ]
            ],
            "type": "histogram2dcontour"
           }
          ],
          "mesh3d": [
           {
            "colorbar": {
             "outlinewidth": 0,
             "ticks": ""
            },
            "type": "mesh3d"
           }
          ],
          "parcoords": [
           {
            "line": {
             "colorbar": {
              "outlinewidth": 0,
              "ticks": ""
             }
            },
            "type": "parcoords"
           }
          ],
          "pie": [
           {
            "automargin": true,
            "type": "pie"
           }
          ],
          "scatter": [
           {
            "marker": {
             "colorbar": {
              "outlinewidth": 0,
              "ticks": ""
             }
            },
            "type": "scatter"
           }
          ],
          "scatter3d": [
           {
            "line": {
             "colorbar": {
              "outlinewidth": 0,
              "ticks": ""
             }
            },
            "marker": {
             "colorbar": {
              "outlinewidth": 0,
              "ticks": ""
             }
            },
            "type": "scatter3d"
           }
          ],
          "scattercarpet": [
           {
            "marker": {
             "colorbar": {
              "outlinewidth": 0,
              "ticks": ""
             }
            },
            "type": "scattercarpet"
           }
          ],
          "scattergeo": [
           {
            "marker": {
             "colorbar": {
              "outlinewidth": 0,
              "ticks": ""
             }
            },
            "type": "scattergeo"
           }
          ],
          "scattergl": [
           {
            "marker": {
             "colorbar": {
              "outlinewidth": 0,
              "ticks": ""
             }
            },
            "type": "scattergl"
           }
          ],
          "scattermapbox": [
           {
            "marker": {
             "colorbar": {
              "outlinewidth": 0,
              "ticks": ""
             }
            },
            "type": "scattermapbox"
           }
          ],
          "scatterpolar": [
           {
            "marker": {
             "colorbar": {
              "outlinewidth": 0,
              "ticks": ""
             }
            },
            "type": "scatterpolar"
           }
          ],
          "scatterpolargl": [
           {
            "marker": {
             "colorbar": {
              "outlinewidth": 0,
              "ticks": ""
             }
            },
            "type": "scatterpolargl"
           }
          ],
          "scatterternary": [
           {
            "marker": {
             "colorbar": {
              "outlinewidth": 0,
              "ticks": ""
             }
            },
            "type": "scatterternary"
           }
          ],
          "surface": [
           {
            "colorbar": {
             "outlinewidth": 0,
             "ticks": ""
            },
            "colorscale": [
             [
              0,
              "#0d0887"
             ],
             [
              0.1111111111111111,
              "#46039f"
             ],
             [
              0.2222222222222222,
              "#7201a8"
             ],
             [
              0.3333333333333333,
              "#9c179e"
             ],
             [
              0.4444444444444444,
              "#bd3786"
             ],
             [
              0.5555555555555556,
              "#d8576b"
             ],
             [
              0.6666666666666666,
              "#ed7953"
             ],
             [
              0.7777777777777778,
              "#fb9f3a"
             ],
             [
              0.8888888888888888,
              "#fdca26"
             ],
             [
              1,
              "#f0f921"
             ]
            ],
            "type": "surface"
           }
          ],
          "table": [
           {
            "cells": {
             "fill": {
              "color": "#EBF0F8"
             },
             "line": {
              "color": "white"
             }
            },
            "header": {
             "fill": {
              "color": "#C8D4E3"
             },
             "line": {
              "color": "white"
             }
            },
            "type": "table"
           }
          ]
         },
         "layout": {
          "annotationdefaults": {
           "arrowcolor": "#2a3f5f",
           "arrowhead": 0,
           "arrowwidth": 1
          },
          "coloraxis": {
           "colorbar": {
            "outlinewidth": 0,
            "ticks": ""
           }
          },
          "colorscale": {
           "diverging": [
            [
             0,
             "#8e0152"
            ],
            [
             0.1,
             "#c51b7d"
            ],
            [
             0.2,
             "#de77ae"
            ],
            [
             0.3,
             "#f1b6da"
            ],
            [
             0.4,
             "#fde0ef"
            ],
            [
             0.5,
             "#f7f7f7"
            ],
            [
             0.6,
             "#e6f5d0"
            ],
            [
             0.7,
             "#b8e186"
            ],
            [
             0.8,
             "#7fbc41"
            ],
            [
             0.9,
             "#4d9221"
            ],
            [
             1,
             "#276419"
            ]
           ],
           "sequential": [
            [
             0,
             "#0d0887"
            ],
            [
             0.1111111111111111,
             "#46039f"
            ],
            [
             0.2222222222222222,
             "#7201a8"
            ],
            [
             0.3333333333333333,
             "#9c179e"
            ],
            [
             0.4444444444444444,
             "#bd3786"
            ],
            [
             0.5555555555555556,
             "#d8576b"
            ],
            [
             0.6666666666666666,
             "#ed7953"
            ],
            [
             0.7777777777777778,
             "#fb9f3a"
            ],
            [
             0.8888888888888888,
             "#fdca26"
            ],
            [
             1,
             "#f0f921"
            ]
           ],
           "sequentialminus": [
            [
             0,
             "#0d0887"
            ],
            [
             0.1111111111111111,
             "#46039f"
            ],
            [
             0.2222222222222222,
             "#7201a8"
            ],
            [
             0.3333333333333333,
             "#9c179e"
            ],
            [
             0.4444444444444444,
             "#bd3786"
            ],
            [
             0.5555555555555556,
             "#d8576b"
            ],
            [
             0.6666666666666666,
             "#ed7953"
            ],
            [
             0.7777777777777778,
             "#fb9f3a"
            ],
            [
             0.8888888888888888,
             "#fdca26"
            ],
            [
             1,
             "#f0f921"
            ]
           ]
          },
          "colorway": [
           "#636efa",
           "#EF553B",
           "#00cc96",
           "#ab63fa",
           "#FFA15A",
           "#19d3f3",
           "#FF6692",
           "#B6E880",
           "#FF97FF",
           "#FECB52"
          ],
          "font": {
           "color": "#2a3f5f"
          },
          "geo": {
           "bgcolor": "white",
           "lakecolor": "white",
           "landcolor": "#E5ECF6",
           "showlakes": true,
           "showland": true,
           "subunitcolor": "white"
          },
          "hoverlabel": {
           "align": "left"
          },
          "hovermode": "closest",
          "mapbox": {
           "style": "light"
          },
          "paper_bgcolor": "white",
          "plot_bgcolor": "#E5ECF6",
          "polar": {
           "angularaxis": {
            "gridcolor": "white",
            "linecolor": "white",
            "ticks": ""
           },
           "bgcolor": "#E5ECF6",
           "radialaxis": {
            "gridcolor": "white",
            "linecolor": "white",
            "ticks": ""
           }
          },
          "scene": {
           "xaxis": {
            "backgroundcolor": "#E5ECF6",
            "gridcolor": "white",
            "gridwidth": 2,
            "linecolor": "white",
            "showbackground": true,
            "ticks": "",
            "zerolinecolor": "white"
           },
           "yaxis": {
            "backgroundcolor": "#E5ECF6",
            "gridcolor": "white",
            "gridwidth": 2,
            "linecolor": "white",
            "showbackground": true,
            "ticks": "",
            "zerolinecolor": "white"
           },
           "zaxis": {
            "backgroundcolor": "#E5ECF6",
            "gridcolor": "white",
            "gridwidth": 2,
            "linecolor": "white",
            "showbackground": true,
            "ticks": "",
            "zerolinecolor": "white"
           }
          },
          "shapedefaults": {
           "line": {
            "color": "#2a3f5f"
           }
          },
          "ternary": {
           "aaxis": {
            "gridcolor": "white",
            "linecolor": "white",
            "ticks": ""
           },
           "baxis": {
            "gridcolor": "white",
            "linecolor": "white",
            "ticks": ""
           },
           "bgcolor": "#E5ECF6",
           "caxis": {
            "gridcolor": "white",
            "linecolor": "white",
            "ticks": ""
           }
          },
          "title": {
           "x": 0.05
          },
          "xaxis": {
           "automargin": true,
           "gridcolor": "white",
           "linecolor": "white",
           "ticks": "",
           "title": {
            "standoff": 15
           },
           "zerolinecolor": "white",
           "zerolinewidth": 2
          },
          "yaxis": {
           "automargin": true,
           "gridcolor": "white",
           "linecolor": "white",
           "ticks": "",
           "title": {
            "standoff": 15
           },
           "zerolinecolor": "white",
           "zerolinewidth": 2
          }
         }
        },
        "title": {
         "text": "Biden vs Trump Difference"
        },
        "xaxis": {
         "anchor": "y",
         "autorange": true,
         "domain": [
          0,
          1
         ],
         "range": [
          "2020-08-01",
          "2020-10-18"
         ],
         "title": {
          "text": "start_date"
         },
         "type": "date"
        },
        "yaxis": {
         "anchor": "x",
         "autorange": true,
         "domain": [
          0,
          1
         ],
         "range": [
          -2.976666666666667,
          20.156666666666666
         ],
         "title": {
          "text": "difference"
         },
         "type": "linear"
        }
       }
      },
      "image/png": "[encoded data removed]",
      "text/html": [
       "<div>                            <div id=\"1e36d611-45d6-484e-b2b9-bb493bb8f5e2\" class=\"plotly-graph-div\" style=\"height:525px; width:100%;\"></div>            <script type=\"text/javascript\">                require([\"plotly\"], function(Plotly) {                    window.PLOTLYENV=window.PLOTLYENV || {};                                    if (document.getElementById(\"1e36d611-45d6-484e-b2b9-bb493bb8f5e2\")) {                    Plotly.newPlot(                        \"1e36d611-45d6-484e-b2b9-bb493bb8f5e2\",                        [{\"hovertemplate\": \"start_date=%{x}<br>difference=%{y}<extra></extra>\", \"legendgroup\": \"\", \"line\": {\"color\": \"#636efa\", \"dash\": \"solid\"}, \"mode\": \"lines\", \"name\": \"\", \"orientation\": \"v\", \"showlegend\": false, \"type\": \"scatter\", \"x\": [\"2020-08-01T00:00:00\", \"2020-08-02T00:00:00\", \"2020-08-03T00:00:00\", \"2020-08-04T00:00:00\", \"2020-08-05T00:00:00\", \"2020-08-06T00:00:00\", \"2020-08-07T00:00:00\", \"2020-08-08T00:00:00\", \"2020-08-09T00:00:00\", \"2020-08-10T00:00:00\", \"2020-08-11T00:00:00\", \"2020-08-12T00:00:00\", \"2020-08-13T00:00:00\", \"2020-08-14T00:00:00\", \"2020-08-15T00:00:00\", \"2020-08-16T00:00:00\", \"2020-08-17T00:00:00\", \"2020-08-18T00:00:00\", \"2020-08-19T00:00:00\", \"2020-08-20T00:00:00\", \"2020-08-21T00:00:00\", \"2020-08-22T00:00:00\", \"2020-08-23T00:00:00\", \"2020-08-24T00:00:00\", \"2020-08-25T00:00:00\", \"2020-08-26T00:00:00\", \"2020-08-27T00:00:00\", \"2020-08-28T00:00:00\", \"2020-08-29T00:00:00\", \"2020-08-30T00:00:00\", \"2020-08-31T00:00:00\", \"2020-09-01T00:00:00\", \"2020-09-02T00:00:00\", \"2020-09-03T00:00:00\", \"2020-09-04T00:00:00\", \"2020-09-05T00:00:00\", \"2020-09-06T00:00:00\", \"2020-09-07T00:00:00\", \"2020-09-08T00:00:00\", \"2020-09-09T00:00:00\", \"2020-09-10T00:00:00\", \"2020-09-11T00:00:00\", \"2020-09-12T00:00:00\", \"2020-09-14T00:00:00\", \"2020-09-15T00:00:00\", \"2020-09-16T00:00:00\", \"2020-09-17T00:00:00\", \"2020-09-18T00:00:00\", \"2020-09-19T00:00:00\", \"2020-09-20T00:00:00\", \"2020-09-21T00:00:00\", \"2020-09-22T00:00:00\", \"2020-09-23T00:00:00\", \"2020-09-24T00:00:00\", \"2020-09-25T00:00:00\", \"2020-09-26T00:00:00\", \"2020-09-27T00:00:00\", \"2020-09-28T00:00:00\", \"2020-09-29T00:00:00\", \"2020-09-30T00:00:00\", \"2020-10-01T00:00:00\", \"2020-10-02T00:00:00\", \"2020-10-03T00:00:00\", \"2020-10-04T00:00:00\", \"2020-10-05T00:00:00\", \"2020-10-06T00:00:00\", \"2020-10-07T00:00:00\", \"2020-10-08T00:00:00\", \"2020-10-09T00:00:00\", \"2020-10-10T00:00:00\", \"2020-10-11T00:00:00\", \"2020-10-12T00:00:00\", \"2020-10-13T00:00:00\", \"2020-10-14T00:00:00\", \"2020-10-15T00:00:00\", \"2020-10-16T00:00:00\", \"2020-10-17T00:00:00\", \"2020-10-18T00:00:00\"], \"xaxis\": \"x\", \"y\": [2.466000000000008, 1.7999999999999972, 6.0, 3.5, 3.8683333333333394, 6.316666666666663, 3.235294117647058, 3.4080000000000084, 19.0, 9.0, 5.4680000000000035, 11.533333333333331, 2.9499999999999957, 1.1799999999999997, 5.13333333333334, 7.571428571428569, 5.302500000000002, 10.0, 9.0, 5.936666666666667, 6.467826086956521, 12.333333333333329, 10.0, 5.5, 11.699999999999996, 4.058750000000003, 6.0, 4.05555555555555, 2.7966666666666598, 5.55555555555555, 4.799999999999997, 4.114090909090969, -1.764000000000003, 7.211666666666666, 11.996923076923075, 9.0, 7.825000000000003, -1.8200000000000003, 8.475000000000001, 9.25555555555556, 5.526315789473685, 3.007619047619052, 2.2222222222222214, 0.6061224489795976, 5.378899082568822, 3.583669724770644, 7.834112903225815, 5.358407079646021, 7.135135135135137, 5.547706422018358, 5.8578313253012055, 1.1499999999999986, 3.6840000000000117, 0.7909090909090821, 6.350000000000001, 2.3249999999999957, 8.54, 0.6666666666666714, 4.5, 6.032142857142844, 5.441666666666663, 5.632000000000005, 1.8333333333333357, 3.2666666666666586, -1.4500000000000028, 4.618181818181817, 4.106249999999996, 4.443478260869568, 2.9272727272727295, 3.8999999999999986, -1.1666666666666643, 2.7666666666666657, 3.455555555555563, 6.099999999999994, 2.0999999999999943, 5.200000000000003, -1.3999999999999986, 4.666666666666664], \"yaxis\": \"y\"}],                        {\"legend\": {\"tracegroupgap\": 0}, \"template\": {\"data\": {\"bar\": [{\"error_x\": {\"color\": \"#2a3f5f\"}, \"error_y\": {\"color\": \"#2a3f5f\"}, \"marker\": {\"line\": {\"color\": \"#E5ECF6\", \"width\": 0.5}}, \"type\": \"bar\"}], \"barpolar\": [{\"marker\": {\"line\": {\"color\": \"#E5ECF6\", \"width\": 0.5}}, \"type\": \"barpolar\"}], \"carpet\": [{\"aaxis\": {\"endlinecolor\": \"#2a3f5f\", \"gridcolor\": \"white\", \"linecolor\": \"white\", \"minorgridcolor\": \"white\", \"startlinecolor\": \"#2a3f5f\"}, \"baxis\": {\"endlinecolor\": \"#2a3f5f\", \"gridcolor\": \"white\", \"linecolor\": \"white\", \"minorgridcolor\": \"white\", \"startlinecolor\": \"#2a3f5f\"}, \"type\": \"carpet\"}], \"choropleth\": [{\"colorbar\": {\"outlinewidth\": 0, \"ticks\": \"\"}, \"type\": \"choropleth\"}], \"contour\": [{\"colorbar\": {\"outlinewidth\": 0, \"ticks\": \"\"}, \"colorscale\": [[0.0, \"#0d0887\"], [0.1111111111111111, \"#46039f\"], [0.2222222222222222, \"#7201a8\"], [0.3333333333333333, \"#9c179e\"], [0.4444444444444444, \"#bd3786\"], [0.5555555555555556, \"#d8576b\"], [0.6666666666666666, \"#ed7953\"], [0.7777777777777778, \"#fb9f3a\"], [0.8888888888888888, \"#fdca26\"], [1.0, \"#f0f921\"]], \"type\": \"contour\"}], \"contourcarpet\": [{\"colorbar\": {\"outlinewidth\": 0, \"ticks\": \"\"}, \"type\": \"contourcarpet\"}], \"heatmap\": [{\"colorbar\": {\"outlinewidth\": 0, \"ticks\": \"\"}, \"colorscale\": [[0.0, \"#0d0887\"], [0.1111111111111111, \"#46039f\"], [0.2222222222222222, \"#7201a8\"], [0.3333333333333333, \"#9c179e\"], [0.4444444444444444, \"#bd3786\"], [0.5555555555555556, \"#d8576b\"], [0.6666666666666666, \"#ed7953\"], [0.7777777777777778, \"#fb9f3a\"], [0.8888888888888888, \"#fdca26\"], [1.0, \"#f0f921\"]], \"type\": \"heatmap\"}], \"heatmapgl\": [{\"colorbar\": {\"outlinewidth\": 0, \"ticks\": \"\"}, \"colorscale\": [[0.0, \"#0d0887\"], [0.1111111111111111, \"#46039f\"], [0.2222222222222222, \"#7201a8\"], [0.3333333333333333, \"#9c179e\"], [0.4444444444444444, \"#bd3786\"], [0.5555555555555556, \"#d8576b\"], [0.6666666666666666, \"#ed7953\"], [0.7777777777777778, \"#fb9f3a\"], [0.8888888888888888, \"#fdca26\"], [1.0, \"#f0f921\"]], \"type\": \"heatmapgl\"}], \"histogram\": [{\"marker\": {\"colorbar\": {\"outlinewidth\": 0, \"ticks\": \"\"}}, \"type\": \"histogram\"}], \"histogram2d\": [{\"colorbar\": {\"outlinewidth\": 0, \"ticks\": \"\"}, \"colorscale\": [[0.0, \"#0d0887\"], [0.1111111111111111, \"#46039f\"], [0.2222222222222222, \"#7201a8\"], [0.3333333333333333, \"#9c179e\"], [0.4444444444444444, \"#bd3786\"], [0.5555555555555556, \"#d8576b\"], [0.6666666666666666, \"#ed7953\"], [0.7777777777777778, \"#fb9f3a\"], [0.8888888888888888, \"#fdca26\"], [1.0, \"#f0f921\"]], \"type\": \"histogram2d\"}], \"histogram2dcontour\": [{\"colorbar\": {\"outlinewidth\": 0, \"ticks\": \"\"}, \"colorscale\": [[0.0, \"#0d0887\"], [0.1111111111111111, \"#46039f\"], [0.2222222222222222, \"#7201a8\"], [0.3333333333333333, \"#9c179e\"], [0.4444444444444444, \"#bd3786\"], [0.5555555555555556, \"#d8576b\"], [0.6666666666666666, \"#ed7953\"], [0.7777777777777778, \"#fb9f3a\"], [0.8888888888888888, \"#fdca26\"], [1.0, \"#f0f921\"]], \"type\": \"histogram2dcontour\"}], \"mesh3d\": [{\"colorbar\": {\"outlinewidth\": 0, \"ticks\": \"\"}, \"type\": \"mesh3d\"}], \"parcoords\": [{\"line\": {\"colorbar\": {\"outlinewidth\": 0, \"ticks\": \"\"}}, \"type\": \"parcoords\"}], \"pie\": [{\"automargin\": true, \"type\": \"pie\"}], \"scatter\": [{\"marker\": {\"colorbar\": {\"outlinewidth\": 0, \"ticks\": \"\"}}, \"type\": \"scatter\"}], \"scatter3d\": [{\"line\": {\"colorbar\": {\"outlinewidth\": 0, \"ticks\": \"\"}}, \"marker\": {\"colorbar\": {\"outlinewidth\": 0, \"ticks\": \"\"}}, \"type\": \"scatter3d\"}], \"scattercarpet\": [{\"marker\": {\"colorbar\": {\"outlinewidth\": 0, \"ticks\": \"\"}}, \"type\": \"scattercarpet\"}], \"scattergeo\": [{\"marker\": {\"colorbar\": {\"outlinewidth\": 0, \"ticks\": \"\"}}, \"type\": \"scattergeo\"}], \"scattergl\": [{\"marker\": {\"colorbar\": {\"outlinewidth\": 0, \"ticks\": \"\"}}, \"type\": \"scattergl\"}], \"scattermapbox\": [{\"marker\": {\"colorbar\": {\"outlinewidth\": 0, \"ticks\": \"\"}}, \"type\": \"scattermapbox\"}], \"scatterpolar\": [{\"marker\": {\"colorbar\": {\"outlinewidth\": 0, \"ticks\": \"\"}}, \"type\": \"scatterpolar\"}], \"scatterpolargl\": [{\"marker\": {\"colorbar\": {\"outlinewidth\": 0, \"ticks\": \"\"}}, \"type\": \"scatterpolargl\"}], \"scatterternary\": [{\"marker\": {\"colorbar\": {\"outlinewidth\": 0, \"ticks\": \"\"}}, \"type\": \"scatterternary\"}], \"surface\": [{\"colorbar\": {\"outlinewidth\": 0, \"ticks\": \"\"}, \"colorscale\": [[0.0, \"#0d0887\"], [0.1111111111111111, \"#46039f\"], [0.2222222222222222, \"#7201a8\"], [0.3333333333333333, \"#9c179e\"], [0.4444444444444444, \"#bd3786\"], [0.5555555555555556, \"#d8576b\"], [0.6666666666666666, \"#ed7953\"], [0.7777777777777778, \"#fb9f3a\"], [0.8888888888888888, \"#fdca26\"], [1.0, \"#f0f921\"]], \"type\": \"surface\"}], \"table\": [{\"cells\": {\"fill\": {\"color\": \"#EBF0F8\"}, \"line\": {\"color\": \"white\"}}, \"header\": {\"fill\": {\"color\": \"#C8D4E3\"}, \"line\": {\"color\": \"white\"}}, \"type\": \"table\"}]}, \"layout\": {\"annotationdefaults\": {\"arrowcolor\": \"#2a3f5f\", \"arrowhead\": 0, \"arrowwidth\": 1}, \"coloraxis\": {\"colorbar\": {\"outlinewidth\": 0, \"ticks\": \"\"}}, \"colorscale\": {\"diverging\": [[0, \"#8e0152\"], [0.1, \"#c51b7d\"], [0.2, \"#de77ae\"], [0.3, \"#f1b6da\"], [0.4, \"#fde0ef\"], [0.5, \"#f7f7f7\"], [0.6, \"#e6f5d0\"], [0.7, \"#b8e186\"], [0.8, \"#7fbc41\"], [0.9, \"#4d9221\"], [1, \"#276419\"]], \"sequential\": [[0.0, \"#0d0887\"], [0.1111111111111111, \"#46039f\"], [0.2222222222222222, \"#7201a8\"], [0.3333333333333333, \"#9c179e\"], [0.4444444444444444, \"#bd3786\"], [0.5555555555555556, \"#d8576b\"], [0.6666666666666666, \"#ed7953\"], [0.7777777777777778, \"#fb9f3a\"], [0.8888888888888888, \"#fdca26\"], [1.0, \"#f0f921\"]], \"sequentialminus\": [[0.0, \"#0d0887\"], [0.1111111111111111, \"#46039f\"], [0.2222222222222222, \"#7201a8\"], [0.3333333333333333, \"#9c179e\"], [0.4444444444444444, \"#bd3786\"], [0.5555555555555556, \"#d8576b\"], [0.6666666666666666, \"#ed7953\"], [0.7777777777777778, \"#fb9f3a\"], [0.8888888888888888, \"#fdca26\"], [1.0, \"#f0f921\"]]}, \"colorway\": [\"#636efa\", \"#EF553B\", \"#00cc96\", \"#ab63fa\", \"#FFA15A\", \"#19d3f3\", \"#FF6692\", \"#B6E880\", \"#FF97FF\", \"#FECB52\"], \"font\": {\"color\": \"#2a3f5f\"}, \"geo\": {\"bgcolor\": \"white\", \"lakecolor\": \"white\", \"landcolor\": \"#E5ECF6\", \"showlakes\": true, \"showland\": true, \"subunitcolor\": \"white\"}, \"hoverlabel\": {\"align\": \"left\"}, \"hovermode\": \"closest\", \"mapbox\": {\"style\": \"light\"}, \"paper_bgcolor\": \"white\", \"plot_bgcolor\": \"#E5ECF6\", \"polar\": {\"angularaxis\": {\"gridcolor\": \"white\", \"linecolor\": \"white\", \"ticks\": \"\"}, \"bgcolor\": \"#E5ECF6\", \"radialaxis\": {\"gridcolor\": \"white\", \"linecolor\": \"white\", \"ticks\": \"\"}}, \"scene\": {\"xaxis\": {\"backgroundcolor\": \"#E5ECF6\", \"gridcolor\": \"white\", \"gridwidth\": 2, \"linecolor\": \"white\", \"showbackground\": true, \"ticks\": \"\", \"zerolinecolor\": \"white\"}, \"yaxis\": {\"backgroundcolor\": \"#E5ECF6\", \"gridcolor\": \"white\", \"gridwidth\": 2, \"linecolor\": \"white\", \"showbackground\": true, \"ticks\": \"\", \"zerolinecolor\": \"white\"}, \"zaxis\": {\"backgroundcolor\": \"#E5ECF6\", \"gridcolor\": \"white\", \"gridwidth\": 2, \"linecolor\": \"white\", \"showbackground\": true, \"ticks\": \"\", \"zerolinecolor\": \"white\"}}, \"shapedefaults\": {\"line\": {\"color\": \"#2a3f5f\"}}, \"ternary\": {\"aaxis\": {\"gridcolor\": \"white\", \"linecolor\": \"white\", \"ticks\": \"\"}, \"baxis\": {\"gridcolor\": \"white\", \"linecolor\": \"white\", \"ticks\": \"\"}, \"bgcolor\": \"#E5ECF6\", \"caxis\": {\"gridcolor\": \"white\", \"linecolor\": \"white\", \"ticks\": \"\"}}, \"title\": {\"x\": 0.05}, \"xaxis\": {\"automargin\": true, \"gridcolor\": \"white\", \"linecolor\": \"white\", \"ticks\": \"\", \"title\": {\"standoff\": 15}, \"zerolinecolor\": \"white\", \"zerolinewidth\": 2}, \"yaxis\": {\"automargin\": true, \"gridcolor\": \"white\", \"linecolor\": \"white\", \"ticks\": \"\", \"title\": {\"standoff\": 15}, \"zerolinecolor\": \"white\", \"zerolinewidth\": 2}}}, \"title\": {\"text\": \"Biden vs Trump Difference\"}, \"xaxis\": {\"anchor\": \"y\", \"domain\": [0.0, 1.0], \"title\": {\"text\": \"start_date\"}}, \"yaxis\": {\"anchor\": \"x\", \"domain\": [0.0, 1.0], \"title\": {\"text\": \"difference\"}}},                        {\"responsive\": true}                    ).then(function(){\n",
       "                            \n",
       "var gd = document.getElementById('1e36d611-45d6-484e-b2b9-bb493bb8f5e2');\n",
       "var x = new MutationObserver(function (mutations, observer) {{\n",
       "        var display = window.getComputedStyle(gd).display;\n",
       "        if (!display || display === 'none') {{\n",
       "            console.log([gd, 'removed!']);\n",
       "            Plotly.purge(gd);\n",
       "            observer.disconnect();\n",
       "        }}\n",
       "}});\n",
       "\n",
       "// Listen for the removal of the full notebook cells\n",
       "var notebookContainer = gd.closest('#notebook-container');\n",
       "if (notebookContainer) {{\n",
       "    x.observe(notebookContainer, {childList: true});\n",
       "}}\n",
       "\n",
       "// Listen for the clearing of the current output cell\n",
       "var outputEl = gd.closest('.output');\n",
       "if (outputEl) {{\n",
       "    x.observe(outputEl, {childList: true});\n",
       "}}\n",
       "\n",
       "                        })                };                });            </script>        </div>"
      ]
     },
     "metadata": {},
     "output_type": "display_data"
    }
   ],
   "source": [
    "import plotly.express as px\n",
    "px.line(diff_by_date, x=\"start_date\", y=\"difference\", title='Biden vs Trump Difference')"
   ]
  },
  {
   "cell_type": "code",
   "execution_count": 139,
   "metadata": {},
   "outputs": [],
   "source": [
    "import seaborn as sns"
   ]
  },
  {
   "cell_type": "code",
   "execution_count": 140,
   "metadata": {},
   "outputs": [
    {
     "data": {
      "text/plain": [
       "<seaborn.axisgrid.FacetGrid at 0x236481c1e88>"
      ]
     },
     "execution_count": 140,
     "metadata": {},
     "output_type": "execute_result"
    },
    {
     "data": {
      "image/png": "[encoded data removed]",
      "text/plain": [
       "<Figure size 360x360 with 1 Axes>"
      ]
     },
     "metadata": {
      "needs_background": "light"
     },
     "output_type": "display_data"
    }
   ],
   "source": [
    "sns.relplot(data=diff_by_date, x=\"start_date\", y=\"difference\", kind=\"line\")"
   ]
  },
  {
   "cell_type": "code",
   "execution_count": 145,
   "metadata": {},
   "outputs": [
    {
     "data": {
      "text/html": [
       "<div>\n",
       "<style scoped>\n",
       "    .dataframe tbody tr th:only-of-type {\n",
       "        vertical-align: middle;\n",
       "    }\n",
       "\n",
       "    .dataframe tbody tr th {\n",
       "        vertical-align: top;\n",
       "    }\n",
       "\n",
       "    .dataframe thead th {\n",
       "        text-align: right;\n",
       "    }\n",
       "</style>\n",
       "<table border=\"1\" class=\"dataframe\">\n",
       "  <thead>\n",
       "    <tr style=\"text-align: right;\">\n",
       "      <th></th>\n",
       "      <th>question_id</th>\n",
       "      <th>poll_id</th>\n",
       "      <th>state</th>\n",
       "      <th>pollster</th>\n",
       "      <th>start_date</th>\n",
       "      <th>end_date</th>\n",
       "      <th>answer</th>\n",
       "      <th>pct</th>\n",
       "      <th>join_index</th>\n",
       "      <th>question_id second</th>\n",
       "      <th>...</th>\n",
       "      <th>state second</th>\n",
       "      <th>pollster second</th>\n",
       "      <th>start_date second</th>\n",
       "      <th>end_date second</th>\n",
       "      <th>answer second</th>\n",
       "      <th>pct second</th>\n",
       "      <th>join_index second</th>\n",
       "      <th>Biden</th>\n",
       "      <th>Trump</th>\n",
       "      <th>Seats</th>\n",
       "    </tr>\n",
       "  </thead>\n",
       "  <tbody>\n",
       "    <tr>\n",
       "      <th>1</th>\n",
       "      <td>133816</td>\n",
       "      <td>71450</td>\n",
       "      <td>Ohio</td>\n",
       "      <td>Rasmussen Reports/Pulse Opinion Research</td>\n",
       "      <td>2020-10-18</td>\n",
       "      <td>2020-10-19</td>\n",
       "      <td>Biden</td>\n",
       "      <td>48.0</td>\n",
       "      <td>2</td>\n",
       "      <td>133816</td>\n",
       "      <td>...</td>\n",
       "      <td>Ohio</td>\n",
       "      <td>Rasmussen Reports/Pulse Opinion Research</td>\n",
       "      <td>2020-10-18</td>\n",
       "      <td>2020-10-19</td>\n",
       "      <td>Trump</td>\n",
       "      <td>47.0</td>\n",
       "      <td>3</td>\n",
       "      <td>48.0</td>\n",
       "      <td>47.0</td>\n",
       "      <td>18</td>\n",
       "    </tr>\n",
       "  </tbody>\n",
       "</table>\n",
       "<p>1 rows × 21 columns</p>\n",
       "</div>"
      ],
      "text/plain": [
       "   question_id  poll_id state                                  pollster  \\\n",
       "1       133816    71450  Ohio  Rasmussen Reports/Pulse Opinion Research   \n",
       "\n",
       "  start_date   end_date answer   pct  join_index  question_id second  ...  \\\n",
       "1 2020-10-18 2020-10-19  Biden  48.0           2              133816  ...   \n",
       "\n",
       "   state second                           pollster second start_date second  \\\n",
       "1          Ohio  Rasmussen Reports/Pulse Opinion Research        2020-10-18   \n",
       "\n",
       "  end_date second answer second pct second  join_index second  Biden  Trump  \\\n",
       "1      2020-10-19         Trump       47.0                  3   48.0   47.0   \n",
       "\n",
       "   Seats  \n",
       "1     18  \n",
       "\n",
       "[1 rows x 21 columns]"
      ]
     },
     "execution_count": 145,
     "metadata": {},
     "output_type": "execute_result"
    }
   ],
   "source": [
    "grouped.head(1)"
   ]
  },
  {
   "cell_type": "markdown",
   "metadata": {},
   "source": [
    "# Tidying up our data"
   ]
  },
  {
   "cell_type": "code",
   "execution_count": 146,
   "metadata": {},
   "outputs": [
    {
     "data": {
      "text/html": [
       "<div>\n",
       "<style scoped>\n",
       "    .dataframe tbody tr th:only-of-type {\n",
       "        vertical-align: middle;\n",
       "    }\n",
       "\n",
       "    .dataframe tbody tr th {\n",
       "        vertical-align: top;\n",
       "    }\n",
       "\n",
       "    .dataframe thead th {\n",
       "        text-align: right;\n",
       "    }\n",
       "</style>\n",
       "<table border=\"1\" class=\"dataframe\">\n",
       "  <thead>\n",
       "    <tr style=\"text-align: right;\">\n",
       "      <th></th>\n",
       "      <th>state</th>\n",
       "      <th>Biden</th>\n",
       "      <th>Trump</th>\n",
       "      <th>Seats</th>\n",
       "    </tr>\n",
       "  </thead>\n",
       "  <tbody>\n",
       "    <tr>\n",
       "      <th>1</th>\n",
       "      <td>Ohio</td>\n",
       "      <td>48.0</td>\n",
       "      <td>47.0</td>\n",
       "      <td>18</td>\n",
       "    </tr>\n",
       "    <tr>\n",
       "      <th>3</th>\n",
       "      <td>Pennsylvania</td>\n",
       "      <td>50.0</td>\n",
       "      <td>47.0</td>\n",
       "      <td>20</td>\n",
       "    </tr>\n",
       "    <tr>\n",
       "      <th>5</th>\n",
       "      <td>Georgia</td>\n",
       "      <td>47.0</td>\n",
       "      <td>48.4</td>\n",
       "      <td>16</td>\n",
       "    </tr>\n",
       "    <tr>\n",
       "      <th>7</th>\n",
       "      <td>Pennsylvania</td>\n",
       "      <td>49.0</td>\n",
       "      <td>45.0</td>\n",
       "      <td>20</td>\n",
       "    </tr>\n",
       "    <tr>\n",
       "      <th>9</th>\n",
       "      <td>Pennsylvania</td>\n",
       "      <td>49.0</td>\n",
       "      <td>45.0</td>\n",
       "      <td>20</td>\n",
       "    </tr>\n",
       "  </tbody>\n",
       "</table>\n",
       "</div>"
      ],
      "text/plain": [
       "          state  Biden  Trump  Seats\n",
       "1          Ohio   48.0   47.0     18\n",
       "3  Pennsylvania   50.0   47.0     20\n",
       "5       Georgia   47.0   48.4     16\n",
       "7  Pennsylvania   49.0   45.0     20\n",
       "9  Pennsylvania   49.0   45.0     20"
      ]
     },
     "execution_count": 146,
     "metadata": {},
     "output_type": "execute_result"
    }
   ],
   "source": [
    "polls = grouped[['state','Biden','Trump','Seats']]\n",
    "polls.head()"
   ]
  },
  {
   "cell_type": "markdown",
   "metadata": {},
   "source": [
    "# We Add Centers and Standard Deviations to our Averaged Polling Data\n",
    "\n",
    "Looking at the polls for each state, if you imagine that the Trump voters are stacked on the top and the Biden votes are stacked up from the bottom, with the undecideds in-between, then an argument can be made for a **very simple model** that positions the actual vote distributed around the average between the two.\n",
    "\n",
    "For simplicity sake, let's use a normal distribution. \n",
    "\n",
    "For every state, we're going to create a normal distribution from 0 to 100. The distribution will be **centered** between the Biden vote and the Trump vote, and the **std dev** will be half the number of undecided votes plus 3.\n",
    "\n",
    "![](https://i.imgur.com/Zl4iyoy.png)"
   ]
  },
  {
   "cell_type": "code",
   "execution_count": 156,
   "metadata": {},
   "outputs": [
    {
     "name": "stderr",
     "output_type": "stream",
     "text": [
      "C:\\Users\\Siyam\\anaconda3\\envs\\tf-gpu\\lib\\site-packages\\ipykernel_launcher.py:7: SettingWithCopyWarning:\n",
      "\n",
      "\n",
      "A value is trying to be set on a copy of a slice from a DataFrame.\n",
      "Try using .loc[row_indexer,col_indexer] = value instead\n",
      "\n",
      "See the caveats in the documentation: https://pandas.pydata.org/pandas-docs/stable/user_guide/indexing.html#returning-a-view-versus-a-copy\n",
      "\n"
     ]
    },
    {
     "data": {
      "text/html": [
       "<div>\n",
       "<style scoped>\n",
       "    .dataframe tbody tr th:only-of-type {\n",
       "        vertical-align: middle;\n",
       "    }\n",
       "\n",
       "    .dataframe tbody tr th {\n",
       "        vertical-align: top;\n",
       "    }\n",
       "\n",
       "    .dataframe thead th {\n",
       "        text-align: right;\n",
       "    }\n",
       "</style>\n",
       "<table border=\"1\" class=\"dataframe\">\n",
       "  <thead>\n",
       "    <tr style=\"text-align: right;\">\n",
       "      <th></th>\n",
       "      <th>state</th>\n",
       "      <th>Biden</th>\n",
       "      <th>Trump</th>\n",
       "      <th>Seats</th>\n",
       "      <th>Center</th>\n",
       "    </tr>\n",
       "  </thead>\n",
       "  <tbody>\n",
       "  </tbody>\n",
       "</table>\n",
       "</div>"
      ],
      "text/plain": [
       "Empty DataFrame\n",
       "Columns: [state, Biden, Trump, Seats, Center]\n",
       "Index: []"
      ]
     },
     "execution_count": 156,
     "metadata": {},
     "output_type": "execute_result"
    }
   ],
   "source": [
    "def get_center(row):\n",
    "    \"\"\"\"Example calculation, Biden is 48, Trump is 47\n",
    "    48 + (100-47-48)/2 = 48 + 5/2 = 50.5\n",
    "    \"\"\"\n",
    "    return row[\"Biden\"] + (100 - row[\"Trump\"] - row[\"Biden\"]) / 2\n",
    "\n",
    "polls['Center'] = polls.apply(get_center, axis = 1)\n",
    "polls.head(0)"
   ]
  },
  {
   "cell_type": "code",
   "execution_count": 158,
   "metadata": {},
   "outputs": [
    {
     "name": "stderr",
     "output_type": "stream",
     "text": [
      "C:\\Users\\Siyam\\anaconda3\\envs\\tf-gpu\\lib\\site-packages\\ipykernel_launcher.py:4: SettingWithCopyWarning:\n",
      "\n",
      "\n",
      "A value is trying to be set on a copy of a slice from a DataFrame.\n",
      "Try using .loc[row_indexer,col_indexer] = value instead\n",
      "\n",
      "See the caveats in the documentation: https://pandas.pydata.org/pandas-docs/stable/user_guide/indexing.html#returning-a-view-versus-a-copy\n",
      "\n"
     ]
    },
    {
     "data": {
      "text/html": [
       "<div>\n",
       "<style scoped>\n",
       "    .dataframe tbody tr th:only-of-type {\n",
       "        vertical-align: middle;\n",
       "    }\n",
       "\n",
       "    .dataframe tbody tr th {\n",
       "        vertical-align: top;\n",
       "    }\n",
       "\n",
       "    .dataframe thead th {\n",
       "        text-align: right;\n",
       "    }\n",
       "</style>\n",
       "<table border=\"1\" class=\"dataframe\">\n",
       "  <thead>\n",
       "    <tr style=\"text-align: right;\">\n",
       "      <th></th>\n",
       "      <th>state</th>\n",
       "      <th>Biden</th>\n",
       "      <th>Trump</th>\n",
       "      <th>Seats</th>\n",
       "      <th>Center</th>\n",
       "      <th>stddev</th>\n",
       "    </tr>\n",
       "  </thead>\n",
       "  <tbody>\n",
       "    <tr>\n",
       "      <th>1</th>\n",
       "      <td>Ohio</td>\n",
       "      <td>48.0</td>\n",
       "      <td>47.0</td>\n",
       "      <td>18.0</td>\n",
       "      <td>50.5</td>\n",
       "      <td>4.75</td>\n",
       "    </tr>\n",
       "    <tr>\n",
       "      <th>3</th>\n",
       "      <td>Pennsylvania</td>\n",
       "      <td>50.0</td>\n",
       "      <td>47.0</td>\n",
       "      <td>20.0</td>\n",
       "      <td>51.5</td>\n",
       "      <td>5.25</td>\n",
       "    </tr>\n",
       "    <tr>\n",
       "      <th>5</th>\n",
       "      <td>Georgia</td>\n",
       "      <td>47.0</td>\n",
       "      <td>48.4</td>\n",
       "      <td>16.0</td>\n",
       "      <td>49.3</td>\n",
       "      <td>3.45</td>\n",
       "    </tr>\n",
       "    <tr>\n",
       "      <th>7</th>\n",
       "      <td>Pennsylvania</td>\n",
       "      <td>49.0</td>\n",
       "      <td>45.0</td>\n",
       "      <td>20.0</td>\n",
       "      <td>52.0</td>\n",
       "      <td>6.50</td>\n",
       "    </tr>\n",
       "    <tr>\n",
       "      <th>9</th>\n",
       "      <td>Pennsylvania</td>\n",
       "      <td>49.0</td>\n",
       "      <td>45.0</td>\n",
       "      <td>20.0</td>\n",
       "      <td>52.0</td>\n",
       "      <td>6.50</td>\n",
       "    </tr>\n",
       "    <tr>\n",
       "      <th>...</th>\n",
       "      <td>...</td>\n",
       "      <td>...</td>\n",
       "      <td>...</td>\n",
       "      <td>...</td>\n",
       "      <td>...</td>\n",
       "      <td>...</td>\n",
       "    </tr>\n",
       "    <tr>\n",
       "      <th>3195</th>\n",
       "      <td>Arizona</td>\n",
       "      <td>48.0</td>\n",
       "      <td>51.0</td>\n",
       "      <td>11.0</td>\n",
       "      <td>48.5</td>\n",
       "      <td>4.25</td>\n",
       "    </tr>\n",
       "    <tr>\n",
       "      <th>3197</th>\n",
       "      <td>Florida</td>\n",
       "      <td>49.0</td>\n",
       "      <td>49.0</td>\n",
       "      <td>29.0</td>\n",
       "      <td>50.0</td>\n",
       "      <td>3.50</td>\n",
       "    </tr>\n",
       "    <tr>\n",
       "      <th>3199</th>\n",
       "      <td>Pennsylvania</td>\n",
       "      <td>50.0</td>\n",
       "      <td>46.0</td>\n",
       "      <td>20.0</td>\n",
       "      <td>52.0</td>\n",
       "      <td>6.00</td>\n",
       "    </tr>\n",
       "    <tr>\n",
       "      <th>3201</th>\n",
       "      <td>Wisconsin</td>\n",
       "      <td>47.0</td>\n",
       "      <td>47.0</td>\n",
       "      <td>10.0</td>\n",
       "      <td>50.0</td>\n",
       "      <td>4.50</td>\n",
       "    </tr>\n",
       "    <tr>\n",
       "      <th>Center</th>\n",
       "      <td>NaN</td>\n",
       "      <td>NaN</td>\n",
       "      <td>NaN</td>\n",
       "      <td>NaN</td>\n",
       "      <td>NaN</td>\n",
       "      <td>NaN</td>\n",
       "    </tr>\n",
       "  </tbody>\n",
       "</table>\n",
       "<p>1602 rows × 6 columns</p>\n",
       "</div>"
      ],
      "text/plain": [
       "               state  Biden  Trump  Seats  Center  stddev\n",
       "1               Ohio   48.0   47.0   18.0    50.5    4.75\n",
       "3       Pennsylvania   50.0   47.0   20.0    51.5    5.25\n",
       "5            Georgia   47.0   48.4   16.0    49.3    3.45\n",
       "7       Pennsylvania   49.0   45.0   20.0    52.0    6.50\n",
       "9       Pennsylvania   49.0   45.0   20.0    52.0    6.50\n",
       "...              ...    ...    ...    ...     ...     ...\n",
       "3195         Arizona   48.0   51.0   11.0    48.5    4.25\n",
       "3197         Florida   49.0   49.0   29.0    50.0    3.50\n",
       "3199    Pennsylvania   50.0   46.0   20.0    52.0    6.00\n",
       "3201       Wisconsin   47.0   47.0   10.0    50.0    4.50\n",
       "Center           NaN    NaN    NaN    NaN     NaN     NaN\n",
       "\n",
       "[1602 rows x 6 columns]"
      ]
     },
     "execution_count": 158,
     "metadata": {},
     "output_type": "execute_result"
    }
   ],
   "source": [
    "def get_deviation(row):\n",
    "    return (abs(row['Trump'] - row['Center'])/2)+3\n",
    "\n",
    "polls['stddev'] = polls.apply(get_deviation, axis=1)\n",
    "polls"
   ]
  },
  {
   "cell_type": "code",
   "execution_count": null,
   "metadata": {},
   "outputs": [],
   "source": []
  }
 ],
 "metadata": {
  "kernelspec": {
   "display_name": "Python 3",
   "language": "python",
   "name": "python3"
  },
  "language_info": {
   "codemirror_mode": {
    "name": "ipython",
    "version": 3
   },
   "file_extension": ".py",
   "mimetype": "text/x-python",
   "name": "python",
   "nbconvert_exporter": "python",
   "pygments_lexer": "ipython3",
   "version": "3.7.7"
  }
 },
 "nbformat": 4,
 "nbformat_minor": 4
}
