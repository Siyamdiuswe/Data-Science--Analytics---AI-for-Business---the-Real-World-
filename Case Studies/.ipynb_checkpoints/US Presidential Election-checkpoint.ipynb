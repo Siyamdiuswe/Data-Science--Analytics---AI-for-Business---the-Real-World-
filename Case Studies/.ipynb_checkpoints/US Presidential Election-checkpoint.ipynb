{
 "cells": [
  {
   "cell_type": "markdown",
   "metadata": {},
   "source": [
    "# US Election 2020 Election Forecasting Using Polling Data for Simulations\n",
    "\n",
    "![](https://i.imgur.com/XxjbFK6.jpg?1)\n",
    "\n",
    "We'll be using the Latest Polls dataset from [FiveThirtyEight](https://data.fivethirtyeight.com/)\n",
    "\n",
    "![](https://i.imgur.com/2ROon41.png?2\n",
    ")\n",
    "- The file we'll be using is called *presidential_poll.csv*\n",
    "\n",
    "## Steps\n",
    "\n",
    "1. Understanding our dataset from [FiveThirtyEight](https://data.fivethirtyeight.com/)\n",
    "2. Cleaning and Exploring our Data\n",
    "3. Changing our Data Layout\n",
    "4. Understanind the US Electoral Process\n",
    "5. Visualizations\n",
    "6. Statistical Interpretation and Averaging of Polls\n",
    "7. Simulating Elections Statistically \n",
    "8. Result Analysis\n",
    "9. Visualizng Results on a Map"
   ]
  },
  {
   "cell_type": "code",
   "execution_count": null,
   "metadata": {},
   "outputs": [],
   "source": []
  }
 ],
 "metadata": {
  "kernelspec": {
   "display_name": "Python 3",
   "language": "python",
   "name": "python3"
  },
  "language_info": {
   "codemirror_mode": {
    "name": "ipython",
    "version": 3
   },
   "file_extension": ".py",
   "mimetype": "text/x-python",
   "name": "python",
   "nbconvert_exporter": "python",
   "pygments_lexer": "ipython3",
   "version": "3.7.7"
  }
 },
 "nbformat": 4,
 "nbformat_minor": 4
}
