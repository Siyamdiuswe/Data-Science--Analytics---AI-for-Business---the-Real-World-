{
 "cells": [
  {
   "cell_type": "code",
   "execution_count": 1,
   "metadata": {},
   "outputs": [
    {
     "data": {
      "text/html": [
       "<div>\n",
       "<style scoped>\n",
       "    .dataframe tbody tr th:only-of-type {\n",
       "        vertical-align: middle;\n",
       "    }\n",
       "\n",
       "    .dataframe tbody tr th {\n",
       "        vertical-align: top;\n",
       "    }\n",
       "\n",
       "    .dataframe thead th {\n",
       "        text-align: right;\n",
       "    }\n",
       "</style>\n",
       "<table border=\"1\" class=\"dataframe\">\n",
       "  <thead>\n",
       "    <tr style=\"text-align: right;\">\n",
       "      <th></th>\n",
       "      <th>ano</th>\n",
       "      <th>mes</th>\n",
       "      <th>estado</th>\n",
       "      <th>numero</th>\n",
       "      <th>encontro</th>\n",
       "    </tr>\n",
       "  </thead>\n",
       "  <tbody>\n",
       "    <tr>\n",
       "      <th>6449</th>\n",
       "      <td>2012</td>\n",
       "      <td>Dezembro</td>\n",
       "      <td>Tocantins</td>\n",
       "      <td>128</td>\n",
       "      <td>1/1/2012</td>\n",
       "    </tr>\n",
       "    <tr>\n",
       "      <th>6450</th>\n",
       "      <td>2013</td>\n",
       "      <td>Dezembro</td>\n",
       "      <td>Tocantins</td>\n",
       "      <td>85</td>\n",
       "      <td>1/1/2013</td>\n",
       "    </tr>\n",
       "    <tr>\n",
       "      <th>6451</th>\n",
       "      <td>2014</td>\n",
       "      <td>Dezembro</td>\n",
       "      <td>Tocantins</td>\n",
       "      <td>223</td>\n",
       "      <td>1/1/2014</td>\n",
       "    </tr>\n",
       "    <tr>\n",
       "      <th>6452</th>\n",
       "      <td>2015</td>\n",
       "      <td>Dezembro</td>\n",
       "      <td>Tocantins</td>\n",
       "      <td>373</td>\n",
       "      <td>1/1/2015</td>\n",
       "    </tr>\n",
       "    <tr>\n",
       "      <th>6453</th>\n",
       "      <td>2016</td>\n",
       "      <td>Dezembro</td>\n",
       "      <td>Tocantins</td>\n",
       "      <td>119</td>\n",
       "      <td>1/1/2016</td>\n",
       "    </tr>\n",
       "  </tbody>\n",
       "</table>\n",
       "</div>"
      ],
      "text/plain": [
       "       ano       mes     estado numero  encontro\n",
       "6449  2012  Dezembro  Tocantins    128  1/1/2012\n",
       "6450  2013  Dezembro  Tocantins     85  1/1/2013\n",
       "6451  2014  Dezembro  Tocantins    223  1/1/2014\n",
       "6452  2015  Dezembro  Tocantins    373  1/1/2015\n",
       "6453  2016  Dezembro  Tocantins    119  1/1/2016"
      ]
     },
     "execution_count": 1,
     "metadata": {},
     "output_type": "execute_result"
    }
   ],
   "source": [
    "# Let's load a new dataset on the number of fires in the Amazon rainforest \n",
    "\n",
    "import pandas as pd\n",
    "\n",
    "file_name = \"https://raw.githubusercontent.com/rajeevratan84/datascienceforbusiness/master/amazon_fires.csv\"\n",
    "df = pd.read_csv(file_name, encoding = \"ISO-8859-1\")\n",
    "\n",
    "df.tail()"
   ]
  },
  {
   "cell_type": "code",
   "execution_count": 2,
   "metadata": {},
   "outputs": [
    {
     "name": "stdout",
     "output_type": "stream",
     "text": [
      "[1998 1999 2000 2001 2002 2003 2004 2005 2006 2007 2008 2009 2010 2011\n",
      " 2012 2013 2014 2015 2016 2017]\n",
      "['Janeiro' 'Fevereiro' 'Março' 'Abril' 'Maio' 'Junho' 'Julho' 'Agosto'\n",
      " 'Setembro' 'Outubro' 'Novembro' 'Dezembro']\n",
      "['Acre' 'alagoas' 'Amapa' 'Amazonas' 'Bahia' 'Ceara' 'Distrito Federal'\n",
      " 'Espirito Santo' 'Goias' 'Maranhao' 'Mato Grosso' 'Minas Gerais' 'pará'\n",
      " 'Paraiba' 'Pernambuco' 'Piau' 'Rio' 'rondonia' 'Roraima' 'Santa Catarina'\n",
      " 'Sao Paulo' 'Sergipe' 'Tocantins']\n",
      "['0 Fires' '10 Fires' '12 Fires' ... '2.032' '833' '623']\n",
      "['1/1/1998' '1/1/1999' '1/1/2000' '1/1/2001' '1/1/2002' '1/1/2003'\n",
      " '1/1/2004' '1/1/2005' '1/1/2006' '1/1/2007' '1/1/2008' '1/1/2009'\n",
      " '1/1/2010' '1/1/2011' '1/1/2012' '1/1/2013' '1/1/2014' '1/1/2015'\n",
      " '1/1/2016' '1/1/2017']\n"
     ]
    }
   ],
   "source": [
    "print(df['ano'].unique())\n",
    "print(df['mes'].unique())\n",
    "print(df['estado'].unique())\n",
    "print(df['numero'].unique())\n",
    "print(df['encontro'].unique())"
   ]
  },
  {
   "cell_type": "code",
   "execution_count": 12,
   "metadata": {},
   "outputs": [
    {
     "data": {
      "text/html": [
       "<div>\n",
       "<style scoped>\n",
       "    .dataframe tbody tr th:only-of-type {\n",
       "        vertical-align: middle;\n",
       "    }\n",
       "\n",
       "    .dataframe tbody tr th {\n",
       "        vertical-align: top;\n",
       "    }\n",
       "\n",
       "    .dataframe thead th {\n",
       "        text-align: right;\n",
       "    }\n",
       "</style>\n",
       "<table border=\"1\" class=\"dataframe\">\n",
       "  <thead>\n",
       "    <tr style=\"text-align: right;\">\n",
       "      <th></th>\n",
       "      <th>year</th>\n",
       "      <th>state</th>\n",
       "      <th>month</th>\n",
       "      <th>number_of_fires</th>\n",
       "      <th>date</th>\n",
       "    </tr>\n",
       "  </thead>\n",
       "  <tbody>\n",
       "    <tr>\n",
       "      <th>0</th>\n",
       "      <td>1998</td>\n",
       "      <td>Janeiro</td>\n",
       "      <td>Acre</td>\n",
       "      <td>0 Fires</td>\n",
       "      <td>1/1/1998</td>\n",
       "    </tr>\n",
       "    <tr>\n",
       "      <th>1</th>\n",
       "      <td>1999</td>\n",
       "      <td>Janeiro</td>\n",
       "      <td>Acre</td>\n",
       "      <td>0 Fires</td>\n",
       "      <td>1/1/1999</td>\n",
       "    </tr>\n",
       "    <tr>\n",
       "      <th>2</th>\n",
       "      <td>2000</td>\n",
       "      <td>Janeiro</td>\n",
       "      <td>Acre</td>\n",
       "      <td>0 Fires</td>\n",
       "      <td>1/1/2000</td>\n",
       "    </tr>\n",
       "    <tr>\n",
       "      <th>3</th>\n",
       "      <td>2001</td>\n",
       "      <td>Janeiro</td>\n",
       "      <td>Acre</td>\n",
       "      <td>0 Fires</td>\n",
       "      <td>1/1/2001</td>\n",
       "    </tr>\n",
       "    <tr>\n",
       "      <th>4</th>\n",
       "      <td>2002</td>\n",
       "      <td>Janeiro</td>\n",
       "      <td>Acre</td>\n",
       "      <td>0 Fires</td>\n",
       "      <td>1/1/2002</td>\n",
       "    </tr>\n",
       "  </tbody>\n",
       "</table>\n",
       "</div>"
      ],
      "text/plain": [
       "   year    state month number_of_fires      date\n",
       "0  1998  Janeiro  Acre         0 Fires  1/1/1998\n",
       "1  1999  Janeiro  Acre         0 Fires  1/1/1999\n",
       "2  2000  Janeiro  Acre         0 Fires  1/1/2000\n",
       "3  2001  Janeiro  Acre         0 Fires  1/1/2001\n",
       "4  2002  Janeiro  Acre         0 Fires  1/1/2002"
      ]
     },
     "execution_count": 12,
     "metadata": {},
     "output_type": "execute_result"
    }
   ],
   "source": [
    "df.rename(columns = {'ano' : 'year','mes' : 'state','estado' : 'month', 'numero' : 'number_of_fires','encontro' : 'date'}\n",
    "          , inplace = True)\n",
    "df.head(5)"
   ]
  },
  {
   "cell_type": "code",
   "execution_count": 55,
   "metadata": {},
   "outputs": [],
   "source": [
    "new_columns = { 'ano' : 'year',\n",
    "               'mes' : 'state',\n",
    "               'estado' : 'month',\n",
    "               'numero' : 'number_of_fires',\n",
    "               'encontro' : 'date'}\n",
    "df.rename(columns = new_columns, inplace = True)"
   ]
  },
  {
   "cell_type": "code",
   "execution_count": 56,
   "metadata": {},
   "outputs": [
    {
     "data": {
      "text/html": [
       "<div>\n",
       "<style scoped>\n",
       "    .dataframe tbody tr th:only-of-type {\n",
       "        vertical-align: middle;\n",
       "    }\n",
       "\n",
       "    .dataframe tbody tr th {\n",
       "        vertical-align: top;\n",
       "    }\n",
       "\n",
       "    .dataframe thead th {\n",
       "        text-align: right;\n",
       "    }\n",
       "</style>\n",
       "<table border=\"1\" class=\"dataframe\">\n",
       "  <thead>\n",
       "    <tr style=\"text-align: right;\">\n",
       "      <th></th>\n",
       "      <th>year</th>\n",
       "      <th>state</th>\n",
       "      <th>month</th>\n",
       "      <th>number_of_fires</th>\n",
       "      <th>date</th>\n",
       "    </tr>\n",
       "  </thead>\n",
       "  <tbody>\n",
       "    <tr>\n",
       "      <th>0</th>\n",
       "      <td>1998</td>\n",
       "      <td>Janeiro</td>\n",
       "      <td>Acre</td>\n",
       "      <td>0 Fires</td>\n",
       "      <td>1/1/1998</td>\n",
       "    </tr>\n",
       "    <tr>\n",
       "      <th>1</th>\n",
       "      <td>1999</td>\n",
       "      <td>Janeiro</td>\n",
       "      <td>Acre</td>\n",
       "      <td>0 Fires</td>\n",
       "      <td>1/1/1999</td>\n",
       "    </tr>\n",
       "    <tr>\n",
       "      <th>2</th>\n",
       "      <td>2000</td>\n",
       "      <td>Janeiro</td>\n",
       "      <td>Acre</td>\n",
       "      <td>0 Fires</td>\n",
       "      <td>1/1/2000</td>\n",
       "    </tr>\n",
       "    <tr>\n",
       "      <th>3</th>\n",
       "      <td>2001</td>\n",
       "      <td>Janeiro</td>\n",
       "      <td>Acre</td>\n",
       "      <td>0 Fires</td>\n",
       "      <td>1/1/2001</td>\n",
       "    </tr>\n",
       "    <tr>\n",
       "      <th>4</th>\n",
       "      <td>2002</td>\n",
       "      <td>Janeiro</td>\n",
       "      <td>Acre</td>\n",
       "      <td>0 Fires</td>\n",
       "      <td>1/1/2002</td>\n",
       "    </tr>\n",
       "  </tbody>\n",
       "</table>\n",
       "</div>"
      ],
      "text/plain": [
       "   year    state month number_of_fires      date\n",
       "0  1998  Janeiro  Acre         0 Fires  1/1/1998\n",
       "1  1999  Janeiro  Acre         0 Fires  1/1/1999\n",
       "2  2000  Janeiro  Acre         0 Fires  1/1/2000\n",
       "3  2001  Janeiro  Acre         0 Fires  1/1/2001\n",
       "4  2002  Janeiro  Acre         0 Fires  1/1/2002"
      ]
     },
     "execution_count": 56,
     "metadata": {},
     "output_type": "execute_result"
    }
   ],
   "source": [
    "df.head()"
   ]
  },
  {
   "cell_type": "code",
   "execution_count": 13,
   "metadata": {},
   "outputs": [
    {
     "name": "stdout",
     "output_type": "stream",
     "text": [
      "<class 'pandas.core.frame.DataFrame'>\n",
      "Int64Index: 6454 entries, 0 to 6453\n",
      "Data columns (total 5 columns):\n",
      " #   Column           Non-Null Count  Dtype \n",
      "---  ------           --------------  ----- \n",
      " 0   year             6454 non-null   int64 \n",
      " 1   state            6454 non-null   object\n",
      " 2   month            6454 non-null   object\n",
      " 3   number_of_fires  6322 non-null   object\n",
      " 4   date             6454 non-null   object\n",
      "dtypes: int64(1), object(4)\n",
      "memory usage: 302.5+ KB\n"
     ]
    }
   ],
   "source": [
    "df.info()"
   ]
  },
  {
   "cell_type": "code",
   "execution_count": 14,
   "metadata": {},
   "outputs": [
    {
     "data": {
      "text/plain": [
       "Index(['year', 'state', 'month', 'number_of_fires', 'date'], dtype='object')"
      ]
     },
     "execution_count": 14,
     "metadata": {},
     "output_type": "execute_result"
    }
   ],
   "source": [
    "df.columns"
   ]
  },
  {
   "cell_type": "code",
   "execution_count": 16,
   "metadata": {},
   "outputs": [
    {
     "data": {
      "text/plain": [
       "Index(['year', 'state', 'month', 'number_of_fires', 'date'], dtype='object')"
      ]
     },
     "execution_count": 16,
     "metadata": {},
     "output_type": "execute_result"
    }
   ],
   "source": [
    "df.columns[[0,1,2,3,4]]"
   ]
  },
  {
   "cell_type": "code",
   "execution_count": 19,
   "metadata": {},
   "outputs": [
    {
     "data": {
      "text/html": [
       "<div>\n",
       "<style scoped>\n",
       "    .dataframe tbody tr th:only-of-type {\n",
       "        vertical-align: middle;\n",
       "    }\n",
       "\n",
       "    .dataframe tbody tr th {\n",
       "        vertical-align: top;\n",
       "    }\n",
       "\n",
       "    .dataframe thead th {\n",
       "        text-align: right;\n",
       "    }\n",
       "</style>\n",
       "<table border=\"1\" class=\"dataframe\">\n",
       "  <thead>\n",
       "    <tr style=\"text-align: right;\">\n",
       "      <th></th>\n",
       "      <th>number_of_fires</th>\n",
       "      <th>state</th>\n",
       "      <th>date</th>\n",
       "      <th>year</th>\n",
       "      <th>month</th>\n",
       "    </tr>\n",
       "  </thead>\n",
       "  <tbody>\n",
       "    <tr>\n",
       "      <th>0</th>\n",
       "      <td>0 Fires</td>\n",
       "      <td>Janeiro</td>\n",
       "      <td>1/1/1998</td>\n",
       "      <td>1998</td>\n",
       "      <td>Acre</td>\n",
       "    </tr>\n",
       "    <tr>\n",
       "      <th>1</th>\n",
       "      <td>0 Fires</td>\n",
       "      <td>Janeiro</td>\n",
       "      <td>1/1/1999</td>\n",
       "      <td>1999</td>\n",
       "      <td>Acre</td>\n",
       "    </tr>\n",
       "    <tr>\n",
       "      <th>2</th>\n",
       "      <td>0 Fires</td>\n",
       "      <td>Janeiro</td>\n",
       "      <td>1/1/2000</td>\n",
       "      <td>2000</td>\n",
       "      <td>Acre</td>\n",
       "    </tr>\n",
       "    <tr>\n",
       "      <th>3</th>\n",
       "      <td>0 Fires</td>\n",
       "      <td>Janeiro</td>\n",
       "      <td>1/1/2001</td>\n",
       "      <td>2001</td>\n",
       "      <td>Acre</td>\n",
       "    </tr>\n",
       "    <tr>\n",
       "      <th>4</th>\n",
       "      <td>0 Fires</td>\n",
       "      <td>Janeiro</td>\n",
       "      <td>1/1/2002</td>\n",
       "      <td>2002</td>\n",
       "      <td>Acre</td>\n",
       "    </tr>\n",
       "  </tbody>\n",
       "</table>\n",
       "</div>"
      ],
      "text/plain": [
       "  number_of_fires    state      date  year month\n",
       "0         0 Fires  Janeiro  1/1/1998  1998  Acre\n",
       "1         0 Fires  Janeiro  1/1/1999  1999  Acre\n",
       "2         0 Fires  Janeiro  1/1/2000  2000  Acre\n",
       "3         0 Fires  Janeiro  1/1/2001  2001  Acre\n",
       "4         0 Fires  Janeiro  1/1/2002  2002  Acre"
      ]
     },
     "execution_count": 19,
     "metadata": {},
     "output_type": "execute_result"
    }
   ],
   "source": [
    "new_order = [4,1,0,2,3]\n",
    "\n",
    "df = df[df.columns[new_order]]\n",
    "df.head()"
   ]
  },
  {
   "cell_type": "markdown",
   "metadata": {},
   "source": [
    "# Determing if a column contains numeric data"
   ]
  },
  {
   "cell_type": "code",
   "execution_count": 61,
   "metadata": {},
   "outputs": [
    {
     "data": {
      "text/plain": [
       "0       False\n",
       "1       False\n",
       "2       False\n",
       "3       False\n",
       "4       False\n",
       "        ...  \n",
       "6449     True\n",
       "6450     True\n",
       "6451     True\n",
       "6452     True\n",
       "6453     True\n",
       "Name: number_of_fires, Length: 6454, dtype: object"
      ]
     },
     "execution_count": 61,
     "metadata": {},
     "output_type": "execute_result"
    }
   ],
   "source": [
    "df['number_of_fires'].str.isnumeric()"
   ]
  },
  {
   "cell_type": "code",
   "execution_count": 21,
   "metadata": {},
   "outputs": [
    {
     "ename": "ValueError",
     "evalue": "Cannot mask with non-boolean array containing NA / NaN values",
     "output_type": "error",
     "traceback": [
      "\u001b[1;31m---------------------------------------------------------------------------\u001b[0m",
      "\u001b[1;31mValueError\u001b[0m                                Traceback (most recent call last)",
      "\u001b[1;32m<ipython-input-21-094e7c51a120>\u001b[0m in \u001b[0;36m<module>\u001b[1;34m\u001b[0m\n\u001b[1;32m----> 1\u001b[1;33m \u001b[0mdf\u001b[0m\u001b[1;33m[\u001b[0m\u001b[0mdf\u001b[0m\u001b[1;33m[\u001b[0m\u001b[1;34m'number_of_fires'\u001b[0m\u001b[1;33m]\u001b[0m\u001b[1;33m.\u001b[0m\u001b[0mstr\u001b[0m\u001b[1;33m.\u001b[0m\u001b[0misnumeric\u001b[0m\u001b[1;33m(\u001b[0m\u001b[1;33m)\u001b[0m\u001b[1;33m]\u001b[0m\u001b[1;33m\u001b[0m\u001b[1;33m\u001b[0m\u001b[0m\n\u001b[0m",
      "\u001b[1;32m~\\anaconda3\\envs\\tf-gpu\\lib\\site-packages\\pandas\\core\\frame.py\u001b[0m in \u001b[0;36m__getitem__\u001b[1;34m(self, key)\u001b[0m\n\u001b[0;32m   2890\u001b[0m \u001b[1;33m\u001b[0m\u001b[0m\n\u001b[0;32m   2891\u001b[0m         \u001b[1;31m# Do we have a (boolean) 1d indexer?\u001b[0m\u001b[1;33m\u001b[0m\u001b[1;33m\u001b[0m\u001b[1;33m\u001b[0m\u001b[0m\n\u001b[1;32m-> 2892\u001b[1;33m         \u001b[1;32mif\u001b[0m \u001b[0mcom\u001b[0m\u001b[1;33m.\u001b[0m\u001b[0mis_bool_indexer\u001b[0m\u001b[1;33m(\u001b[0m\u001b[0mkey\u001b[0m\u001b[1;33m)\u001b[0m\u001b[1;33m:\u001b[0m\u001b[1;33m\u001b[0m\u001b[1;33m\u001b[0m\u001b[0m\n\u001b[0m\u001b[0;32m   2893\u001b[0m             \u001b[1;32mreturn\u001b[0m \u001b[0mself\u001b[0m\u001b[1;33m.\u001b[0m\u001b[0m_getitem_bool_array\u001b[0m\u001b[1;33m(\u001b[0m\u001b[0mkey\u001b[0m\u001b[1;33m)\u001b[0m\u001b[1;33m\u001b[0m\u001b[1;33m\u001b[0m\u001b[0m\n\u001b[0;32m   2894\u001b[0m \u001b[1;33m\u001b[0m\u001b[0m\n",
      "\u001b[1;32m~\\anaconda3\\envs\\tf-gpu\\lib\\site-packages\\pandas\\core\\common.py\u001b[0m in \u001b[0;36mis_bool_indexer\u001b[1;34m(key)\u001b[0m\n\u001b[0;32m    132\u001b[0m                 \u001b[0mna_msg\u001b[0m \u001b[1;33m=\u001b[0m \u001b[1;34m\"Cannot mask with non-boolean array containing NA / NaN values\"\u001b[0m\u001b[1;33m\u001b[0m\u001b[1;33m\u001b[0m\u001b[0m\n\u001b[0;32m    133\u001b[0m                 \u001b[1;32mif\u001b[0m \u001b[0misna\u001b[0m\u001b[1;33m(\u001b[0m\u001b[0mkey\u001b[0m\u001b[1;33m)\u001b[0m\u001b[1;33m.\u001b[0m\u001b[0many\u001b[0m\u001b[1;33m(\u001b[0m\u001b[1;33m)\u001b[0m\u001b[1;33m:\u001b[0m\u001b[1;33m\u001b[0m\u001b[1;33m\u001b[0m\u001b[0m\n\u001b[1;32m--> 134\u001b[1;33m                     \u001b[1;32mraise\u001b[0m \u001b[0mValueError\u001b[0m\u001b[1;33m(\u001b[0m\u001b[0mna_msg\u001b[0m\u001b[1;33m)\u001b[0m\u001b[1;33m\u001b[0m\u001b[1;33m\u001b[0m\u001b[0m\n\u001b[0m\u001b[0;32m    135\u001b[0m                 \u001b[1;32mreturn\u001b[0m \u001b[1;32mFalse\u001b[0m\u001b[1;33m\u001b[0m\u001b[1;33m\u001b[0m\u001b[0m\n\u001b[0;32m    136\u001b[0m             \u001b[1;32mreturn\u001b[0m \u001b[1;32mTrue\u001b[0m\u001b[1;33m\u001b[0m\u001b[1;33m\u001b[0m\u001b[0m\n",
      "\u001b[1;31mValueError\u001b[0m: Cannot mask with non-boolean array containing NA / NaN values"
     ]
    }
   ],
   "source": [
    "df[df['number_of_fires'].str.isnumeric()]"
   ]
  },
  {
   "cell_type": "code",
   "execution_count": 26,
   "metadata": {},
   "outputs": [
    {
     "data": {
      "text/plain": [
       "0       False\n",
       "1000     True\n",
       "2000    False\n",
       "3000     True\n",
       "4000     True\n",
       "5000     True\n",
       "6000     True\n",
       "Name: number_of_fires, dtype: object"
      ]
     },
     "execution_count": 26,
     "metadata": {},
     "output_type": "execute_result"
    }
   ],
   "source": [
    "df['number_of_fires'].str.isnumeric()[0:6453:1000]"
   ]
  },
  {
   "cell_type": "code",
   "execution_count": 63,
   "metadata": {},
   "outputs": [
    {
     "data": {
      "text/plain": [
       "0       False\n",
       "1000     True\n",
       "2000    False\n",
       "3000     True\n",
       "4000     True\n",
       "5000     True\n",
       "6000     True\n",
       "Name: number_of_fires, dtype: object"
      ]
     },
     "execution_count": 63,
     "metadata": {},
     "output_type": "execute_result"
    }
   ],
   "source": [
    "df['number_of_fires'].str.isdigit()[0:6453:1000]"
   ]
  },
  {
   "cell_type": "code",
   "execution_count": 33,
   "metadata": {},
   "outputs": [
    {
     "data": {
      "text/plain": [
       "array([False,  True])"
      ]
     },
     "execution_count": 33,
     "metadata": {},
     "output_type": "execute_result"
    }
   ],
   "source": [
    "df['number_of_fires'].isnull().unique()"
   ]
  },
  {
   "cell_type": "code",
   "execution_count": 34,
   "metadata": {},
   "outputs": [
    {
     "data": {
      "text/html": [
       "<div>\n",
       "<style scoped>\n",
       "    .dataframe tbody tr th:only-of-type {\n",
       "        vertical-align: middle;\n",
       "    }\n",
       "\n",
       "    .dataframe tbody tr th {\n",
       "        vertical-align: top;\n",
       "    }\n",
       "\n",
       "    .dataframe thead th {\n",
       "        text-align: right;\n",
       "    }\n",
       "</style>\n",
       "<table border=\"1\" class=\"dataframe\">\n",
       "  <thead>\n",
       "    <tr style=\"text-align: right;\">\n",
       "      <th></th>\n",
       "      <th>number_of_fires</th>\n",
       "      <th>state</th>\n",
       "      <th>date</th>\n",
       "      <th>year</th>\n",
       "      <th>month</th>\n",
       "    </tr>\n",
       "  </thead>\n",
       "  <tbody>\n",
       "    <tr>\n",
       "      <th>239</th>\n",
       "      <td>0</td>\n",
       "      <td>Janeiro</td>\n",
       "      <td>1/1/1998</td>\n",
       "      <td>1998</td>\n",
       "      <td>alagoas</td>\n",
       "    </tr>\n",
       "    <tr>\n",
       "      <th>240</th>\n",
       "      <td>58</td>\n",
       "      <td>Janeiro</td>\n",
       "      <td>1/1/1999</td>\n",
       "      <td>1999</td>\n",
       "      <td>alagoas</td>\n",
       "    </tr>\n",
       "    <tr>\n",
       "      <th>241</th>\n",
       "      <td>11</td>\n",
       "      <td>Janeiro</td>\n",
       "      <td>1/1/2000</td>\n",
       "      <td>2000</td>\n",
       "      <td>alagoas</td>\n",
       "    </tr>\n",
       "    <tr>\n",
       "      <th>242</th>\n",
       "      <td>5</td>\n",
       "      <td>Janeiro</td>\n",
       "      <td>1/1/2001</td>\n",
       "      <td>2001</td>\n",
       "      <td>alagoas</td>\n",
       "    </tr>\n",
       "    <tr>\n",
       "      <th>243</th>\n",
       "      <td>12</td>\n",
       "      <td>Janeiro</td>\n",
       "      <td>1/1/2002</td>\n",
       "      <td>2002</td>\n",
       "      <td>alagoas</td>\n",
       "    </tr>\n",
       "    <tr>\n",
       "      <th>...</th>\n",
       "      <td>...</td>\n",
       "      <td>...</td>\n",
       "      <td>...</td>\n",
       "      <td>...</td>\n",
       "      <td>...</td>\n",
       "    </tr>\n",
       "    <tr>\n",
       "      <th>6449</th>\n",
       "      <td>128</td>\n",
       "      <td>Dezembro</td>\n",
       "      <td>1/1/2012</td>\n",
       "      <td>2012</td>\n",
       "      <td>Tocantins</td>\n",
       "    </tr>\n",
       "    <tr>\n",
       "      <th>6450</th>\n",
       "      <td>85</td>\n",
       "      <td>Dezembro</td>\n",
       "      <td>1/1/2013</td>\n",
       "      <td>2013</td>\n",
       "      <td>Tocantins</td>\n",
       "    </tr>\n",
       "    <tr>\n",
       "      <th>6451</th>\n",
       "      <td>223</td>\n",
       "      <td>Dezembro</td>\n",
       "      <td>1/1/2014</td>\n",
       "      <td>2014</td>\n",
       "      <td>Tocantins</td>\n",
       "    </tr>\n",
       "    <tr>\n",
       "      <th>6452</th>\n",
       "      <td>373</td>\n",
       "      <td>Dezembro</td>\n",
       "      <td>1/1/2015</td>\n",
       "      <td>2015</td>\n",
       "      <td>Tocantins</td>\n",
       "    </tr>\n",
       "    <tr>\n",
       "      <th>6453</th>\n",
       "      <td>119</td>\n",
       "      <td>Dezembro</td>\n",
       "      <td>1/1/2016</td>\n",
       "      <td>2016</td>\n",
       "      <td>Tocantins</td>\n",
       "    </tr>\n",
       "  </tbody>\n",
       "</table>\n",
       "<p>4642 rows × 5 columns</p>\n",
       "</div>"
      ],
      "text/plain": [
       "     number_of_fires     state      date  year      month\n",
       "239                0   Janeiro  1/1/1998  1998    alagoas\n",
       "240               58   Janeiro  1/1/1999  1999    alagoas\n",
       "241               11   Janeiro  1/1/2000  2000    alagoas\n",
       "242                5   Janeiro  1/1/2001  2001    alagoas\n",
       "243               12   Janeiro  1/1/2002  2002    alagoas\n",
       "...              ...       ...       ...   ...        ...\n",
       "6449             128  Dezembro  1/1/2012  2012  Tocantins\n",
       "6450              85  Dezembro  1/1/2013  2013  Tocantins\n",
       "6451             223  Dezembro  1/1/2014  2014  Tocantins\n",
       "6452             373  Dezembro  1/1/2015  2015  Tocantins\n",
       "6453             119  Dezembro  1/1/2016  2016  Tocantins\n",
       "\n",
       "[4642 rows x 5 columns]"
      ]
     },
     "execution_count": 34,
     "metadata": {},
     "output_type": "execute_result"
    }
   ],
   "source": [
    "df[df['number_of_fires'].astype(str).str.isdigit()]"
   ]
  },
  {
   "cell_type": "code",
   "execution_count": 65,
   "metadata": {},
   "outputs": [
    {
     "data": {
      "text/html": [
       "<div>\n",
       "<style scoped>\n",
       "    .dataframe tbody tr th:only-of-type {\n",
       "        vertical-align: middle;\n",
       "    }\n",
       "\n",
       "    .dataframe tbody tr th {\n",
       "        vertical-align: top;\n",
       "    }\n",
       "\n",
       "    .dataframe thead th {\n",
       "        text-align: right;\n",
       "    }\n",
       "</style>\n",
       "<table border=\"1\" class=\"dataframe\">\n",
       "  <thead>\n",
       "    <tr style=\"text-align: right;\">\n",
       "      <th></th>\n",
       "      <th>date</th>\n",
       "      <th>state</th>\n",
       "      <th>year</th>\n",
       "      <th>month</th>\n",
       "      <th>number_of_fires</th>\n",
       "    </tr>\n",
       "  </thead>\n",
       "  <tbody>\n",
       "    <tr>\n",
       "      <th>239</th>\n",
       "      <td>1/1/1998</td>\n",
       "      <td>Janeiro</td>\n",
       "      <td>1998</td>\n",
       "      <td>alagoas</td>\n",
       "      <td>0</td>\n",
       "    </tr>\n",
       "    <tr>\n",
       "      <th>240</th>\n",
       "      <td>1/1/1999</td>\n",
       "      <td>Janeiro</td>\n",
       "      <td>1999</td>\n",
       "      <td>alagoas</td>\n",
       "      <td>58</td>\n",
       "    </tr>\n",
       "    <tr>\n",
       "      <th>241</th>\n",
       "      <td>1/1/2000</td>\n",
       "      <td>Janeiro</td>\n",
       "      <td>2000</td>\n",
       "      <td>alagoas</td>\n",
       "      <td>11</td>\n",
       "    </tr>\n",
       "    <tr>\n",
       "      <th>242</th>\n",
       "      <td>1/1/2001</td>\n",
       "      <td>Janeiro</td>\n",
       "      <td>2001</td>\n",
       "      <td>alagoas</td>\n",
       "      <td>5</td>\n",
       "    </tr>\n",
       "    <tr>\n",
       "      <th>243</th>\n",
       "      <td>1/1/2002</td>\n",
       "      <td>Janeiro</td>\n",
       "      <td>2002</td>\n",
       "      <td>alagoas</td>\n",
       "      <td>12</td>\n",
       "    </tr>\n",
       "    <tr>\n",
       "      <th>...</th>\n",
       "      <td>...</td>\n",
       "      <td>...</td>\n",
       "      <td>...</td>\n",
       "      <td>...</td>\n",
       "      <td>...</td>\n",
       "    </tr>\n",
       "    <tr>\n",
       "      <th>6449</th>\n",
       "      <td>1/1/2012</td>\n",
       "      <td>Dezembro</td>\n",
       "      <td>2012</td>\n",
       "      <td>Tocantins</td>\n",
       "      <td>128</td>\n",
       "    </tr>\n",
       "    <tr>\n",
       "      <th>6450</th>\n",
       "      <td>1/1/2013</td>\n",
       "      <td>Dezembro</td>\n",
       "      <td>2013</td>\n",
       "      <td>Tocantins</td>\n",
       "      <td>85</td>\n",
       "    </tr>\n",
       "    <tr>\n",
       "      <th>6451</th>\n",
       "      <td>1/1/2014</td>\n",
       "      <td>Dezembro</td>\n",
       "      <td>2014</td>\n",
       "      <td>Tocantins</td>\n",
       "      <td>223</td>\n",
       "    </tr>\n",
       "    <tr>\n",
       "      <th>6452</th>\n",
       "      <td>1/1/2015</td>\n",
       "      <td>Dezembro</td>\n",
       "      <td>2015</td>\n",
       "      <td>Tocantins</td>\n",
       "      <td>373</td>\n",
       "    </tr>\n",
       "    <tr>\n",
       "      <th>6453</th>\n",
       "      <td>1/1/2016</td>\n",
       "      <td>Dezembro</td>\n",
       "      <td>2016</td>\n",
       "      <td>Tocantins</td>\n",
       "      <td>119</td>\n",
       "    </tr>\n",
       "  </tbody>\n",
       "</table>\n",
       "<p>4642 rows × 5 columns</p>\n",
       "</div>"
      ],
      "text/plain": [
       "          date     state  year      month number_of_fires\n",
       "239   1/1/1998   Janeiro  1998    alagoas               0\n",
       "240   1/1/1999   Janeiro  1999    alagoas              58\n",
       "241   1/1/2000   Janeiro  2000    alagoas              11\n",
       "242   1/1/2001   Janeiro  2001    alagoas               5\n",
       "243   1/1/2002   Janeiro  2002    alagoas              12\n",
       "...        ...       ...   ...        ...             ...\n",
       "6449  1/1/2012  Dezembro  2012  Tocantins             128\n",
       "6450  1/1/2013  Dezembro  2013  Tocantins              85\n",
       "6451  1/1/2014  Dezembro  2014  Tocantins             223\n",
       "6452  1/1/2015  Dezembro  2015  Tocantins             373\n",
       "6453  1/1/2016  Dezembro  2016  Tocantins             119\n",
       "\n",
       "[4642 rows x 5 columns]"
      ]
     },
     "execution_count": 65,
     "metadata": {},
     "output_type": "execute_result"
    }
   ],
   "source": [
    "df[df['number_of_fires'].astype(str).str.isdigit()]"
   ]
  },
  {
   "cell_type": "markdown",
   "metadata": {},
   "source": [
    "# Removing unnecessary text from columns"
   ]
  },
  {
   "cell_type": "code",
   "execution_count": 35,
   "metadata": {},
   "outputs": [
    {
     "name": "stdout",
     "output_type": "stream",
     "text": [
      "of all fruits banana is my favorite\n"
     ]
    }
   ],
   "source": [
    "txt = \"                   banana \"\n",
    "\n",
    "x = txt.strip()\n",
    "\n",
    "print(\"of all fruits\", x, \"is my favorite\")\n"
   ]
  },
  {
   "cell_type": "code",
   "execution_count": 67,
   "metadata": {},
   "outputs": [
    {
     "data": {
      "text/plain": [
       "0       0 Fires\n",
       "1       0 Fires\n",
       "2       0 Fires\n",
       "3       0 Fires\n",
       "4       0 Fires\n",
       "         ...   \n",
       "6449        128\n",
       "6450         85\n",
       "6451        223\n",
       "6452        373\n",
       "6453        119\n",
       "Name: number_of_fires, Length: 6454, dtype: object"
      ]
     },
     "execution_count": 67,
     "metadata": {},
     "output_type": "execute_result"
    }
   ],
   "source": [
    "df['number_of_fires']"
   ]
  },
  {
   "cell_type": "code",
   "execution_count": 68,
   "metadata": {},
   "outputs": [
    {
     "data": {
      "text/html": [
       "<div>\n",
       "<style scoped>\n",
       "    .dataframe tbody tr th:only-of-type {\n",
       "        vertical-align: middle;\n",
       "    }\n",
       "\n",
       "    .dataframe tbody tr th {\n",
       "        vertical-align: top;\n",
       "    }\n",
       "\n",
       "    .dataframe thead th {\n",
       "        text-align: right;\n",
       "    }\n",
       "</style>\n",
       "<table border=\"1\" class=\"dataframe\">\n",
       "  <thead>\n",
       "    <tr style=\"text-align: right;\">\n",
       "      <th></th>\n",
       "      <th>date</th>\n",
       "      <th>state</th>\n",
       "      <th>year</th>\n",
       "      <th>month</th>\n",
       "      <th>number_of_fires</th>\n",
       "    </tr>\n",
       "  </thead>\n",
       "  <tbody>\n",
       "    <tr>\n",
       "      <th>0</th>\n",
       "      <td>1/1/1998</td>\n",
       "      <td>Janeiro</td>\n",
       "      <td>1998</td>\n",
       "      <td>Acre</td>\n",
       "      <td>0</td>\n",
       "    </tr>\n",
       "    <tr>\n",
       "      <th>1</th>\n",
       "      <td>1/1/1999</td>\n",
       "      <td>Janeiro</td>\n",
       "      <td>1999</td>\n",
       "      <td>Acre</td>\n",
       "      <td>0</td>\n",
       "    </tr>\n",
       "    <tr>\n",
       "      <th>2</th>\n",
       "      <td>1/1/2000</td>\n",
       "      <td>Janeiro</td>\n",
       "      <td>2000</td>\n",
       "      <td>Acre</td>\n",
       "      <td>0</td>\n",
       "    </tr>\n",
       "    <tr>\n",
       "      <th>3</th>\n",
       "      <td>1/1/2001</td>\n",
       "      <td>Janeiro</td>\n",
       "      <td>2001</td>\n",
       "      <td>Acre</td>\n",
       "      <td>0</td>\n",
       "    </tr>\n",
       "    <tr>\n",
       "      <th>4</th>\n",
       "      <td>1/1/2002</td>\n",
       "      <td>Janeiro</td>\n",
       "      <td>2002</td>\n",
       "      <td>Acre</td>\n",
       "      <td>0</td>\n",
       "    </tr>\n",
       "  </tbody>\n",
       "</table>\n",
       "</div>"
      ],
      "text/plain": [
       "       date    state  year month number_of_fires\n",
       "0  1/1/1998  Janeiro  1998  Acre               0\n",
       "1  1/1/1999  Janeiro  1999  Acre               0\n",
       "2  1/1/2000  Janeiro  2000  Acre               0\n",
       "3  1/1/2001  Janeiro  2001  Acre               0\n",
       "4  1/1/2002  Janeiro  2002  Acre               0"
      ]
     },
     "execution_count": 68,
     "metadata": {},
     "output_type": "execute_result"
    }
   ],
   "source": [
    "df['number_of_fires'] = df['number_of_fires'].str.strip(\" Fires\")\n",
    "df.head()"
   ]
  },
  {
   "cell_type": "markdown",
   "metadata": {},
   "source": [
    "# Handling missing data"
   ]
  },
  {
   "cell_type": "code",
   "execution_count": 69,
   "metadata": {},
   "outputs": [
    {
     "data": {
      "text/html": [
       "<div>\n",
       "<style scoped>\n",
       "    .dataframe tbody tr th:only-of-type {\n",
       "        vertical-align: middle;\n",
       "    }\n",
       "\n",
       "    .dataframe tbody tr th {\n",
       "        vertical-align: top;\n",
       "    }\n",
       "\n",
       "    .dataframe thead th {\n",
       "        text-align: right;\n",
       "    }\n",
       "</style>\n",
       "<table border=\"1\" class=\"dataframe\">\n",
       "  <thead>\n",
       "    <tr style=\"text-align: right;\">\n",
       "      <th></th>\n",
       "      <th>year</th>\n",
       "      <th>month</th>\n",
       "      <th>state</th>\n",
       "      <th>number_of_fires</th>\n",
       "      <th>date</th>\n",
       "    </tr>\n",
       "  </thead>\n",
       "  <tbody>\n",
       "    <tr>\n",
       "      <th>0</th>\n",
       "      <td>1998</td>\n",
       "      <td>Janeiro</td>\n",
       "      <td>Acre</td>\n",
       "      <td>0</td>\n",
       "      <td>1/1/1998</td>\n",
       "    </tr>\n",
       "    <tr>\n",
       "      <th>1</th>\n",
       "      <td>1999</td>\n",
       "      <td>Janeiro</td>\n",
       "      <td>Acre</td>\n",
       "      <td>0</td>\n",
       "      <td>1/1/1999</td>\n",
       "    </tr>\n",
       "    <tr>\n",
       "      <th>2</th>\n",
       "      <td>2000</td>\n",
       "      <td>Janeiro</td>\n",
       "      <td>Acre</td>\n",
       "      <td>0</td>\n",
       "      <td>1/1/2000</td>\n",
       "    </tr>\n",
       "    <tr>\n",
       "      <th>3</th>\n",
       "      <td>2001</td>\n",
       "      <td>Janeiro</td>\n",
       "      <td>Acre</td>\n",
       "      <td>0</td>\n",
       "      <td>1/1/2001</td>\n",
       "    </tr>\n",
       "    <tr>\n",
       "      <th>4</th>\n",
       "      <td>2002</td>\n",
       "      <td>Janeiro</td>\n",
       "      <td>Acre</td>\n",
       "      <td>0</td>\n",
       "      <td>1/1/2002</td>\n",
       "    </tr>\n",
       "  </tbody>\n",
       "</table>\n",
       "</div>"
      ],
      "text/plain": [
       "   year    month state number_of_fires      date\n",
       "0  1998  Janeiro  Acre               0  1/1/1998\n",
       "1  1999  Janeiro  Acre               0  1/1/1999\n",
       "2  2000  Janeiro  Acre               0  1/1/2000\n",
       "3  2001  Janeiro  Acre               0  1/1/2001\n",
       "4  2002  Janeiro  Acre               0  1/1/2002"
      ]
     },
     "execution_count": 69,
     "metadata": {},
     "output_type": "execute_result"
    }
   ],
   "source": [
    "file_name = \"https://raw.githubusercontent.com/rajeevratan84/datascienceforbusiness/master/amazon_fires.csv\"\n",
    "df = pd.read_csv(file_name, encoding = \"ISO-8859-1\")\n",
    "new_columns = {'ano' : 'year',\n",
    "               'estado': 'state',\n",
    "               'mes': 'month',\n",
    "               'numero': 'number_of_fires',\n",
    "               'encontro': 'date'}\n",
    "df.rename(columns = new_columns,inplace= True)\n",
    "df['number_of_fires'] = df['number_of_fires'].str.strip(\" Fires\")\n",
    "df_copy = df.copy()\n",
    "df.head()"
   ]
  },
  {
   "cell_type": "code",
   "execution_count": 70,
   "metadata": {},
   "outputs": [
    {
     "data": {
      "text/html": [
       "<div>\n",
       "<style scoped>\n",
       "    .dataframe tbody tr th:only-of-type {\n",
       "        vertical-align: middle;\n",
       "    }\n",
       "\n",
       "    .dataframe tbody tr th {\n",
       "        vertical-align: top;\n",
       "    }\n",
       "\n",
       "    .dataframe thead th {\n",
       "        text-align: right;\n",
       "    }\n",
       "</style>\n",
       "<table border=\"1\" class=\"dataframe\">\n",
       "  <thead>\n",
       "    <tr style=\"text-align: right;\">\n",
       "      <th></th>\n",
       "      <th>year</th>\n",
       "      <th>month</th>\n",
       "      <th>state</th>\n",
       "      <th>number_of_fires</th>\n",
       "      <th>date</th>\n",
       "    </tr>\n",
       "  </thead>\n",
       "  <tbody>\n",
       "    <tr>\n",
       "      <th>0</th>\n",
       "      <td>1998</td>\n",
       "      <td>Janeiro</td>\n",
       "      <td>Acre</td>\n",
       "      <td>0</td>\n",
       "      <td>1/1/1998</td>\n",
       "    </tr>\n",
       "    <tr>\n",
       "      <th>1</th>\n",
       "      <td>1999</td>\n",
       "      <td>Janeiro</td>\n",
       "      <td>Acre</td>\n",
       "      <td>0</td>\n",
       "      <td>1/1/1999</td>\n",
       "    </tr>\n",
       "    <tr>\n",
       "      <th>2</th>\n",
       "      <td>2000</td>\n",
       "      <td>Janeiro</td>\n",
       "      <td>Acre</td>\n",
       "      <td>0</td>\n",
       "      <td>1/1/2000</td>\n",
       "    </tr>\n",
       "    <tr>\n",
       "      <th>3</th>\n",
       "      <td>2001</td>\n",
       "      <td>Janeiro</td>\n",
       "      <td>Acre</td>\n",
       "      <td>0</td>\n",
       "      <td>1/1/2001</td>\n",
       "    </tr>\n",
       "    <tr>\n",
       "      <th>4</th>\n",
       "      <td>2002</td>\n",
       "      <td>Janeiro</td>\n",
       "      <td>Acre</td>\n",
       "      <td>0</td>\n",
       "      <td>1/1/2002</td>\n",
       "    </tr>\n",
       "  </tbody>\n",
       "</table>\n",
       "</div>"
      ],
      "text/plain": [
       "   year    month state number_of_fires      date\n",
       "0  1998  Janeiro  Acre               0  1/1/1998\n",
       "1  1999  Janeiro  Acre               0  1/1/1999\n",
       "2  2000  Janeiro  Acre               0  1/1/2000\n",
       "3  2001  Janeiro  Acre               0  1/1/2001\n",
       "4  2002  Janeiro  Acre               0  1/1/2002"
      ]
     },
     "execution_count": 70,
     "metadata": {},
     "output_type": "execute_result"
    }
   ],
   "source": [
    "df_copy.head()"
   ]
  },
  {
   "cell_type": "code",
   "execution_count": 71,
   "metadata": {},
   "outputs": [
    {
     "data": {
      "text/plain": [
       "year                 0\n",
       "month                0\n",
       "state                0\n",
       "number_of_fires    132\n",
       "date                 0\n",
       "dtype: int64"
      ]
     },
     "execution_count": 71,
     "metadata": {},
     "output_type": "execute_result"
    }
   ],
   "source": [
    "df.isnull().sum()"
   ]
  },
  {
   "cell_type": "code",
   "execution_count": 72,
   "metadata": {},
   "outputs": [
    {
     "data": {
      "text/html": [
       "<div>\n",
       "<style scoped>\n",
       "    .dataframe tbody tr th:only-of-type {\n",
       "        vertical-align: middle;\n",
       "    }\n",
       "\n",
       "    .dataframe tbody tr th {\n",
       "        vertical-align: top;\n",
       "    }\n",
       "\n",
       "    .dataframe thead th {\n",
       "        text-align: right;\n",
       "    }\n",
       "</style>\n",
       "<table border=\"1\" class=\"dataframe\">\n",
       "  <thead>\n",
       "    <tr style=\"text-align: right;\">\n",
       "      <th></th>\n",
       "      <th>year</th>\n",
       "      <th>month</th>\n",
       "      <th>state</th>\n",
       "      <th>number_of_fires</th>\n",
       "      <th>date</th>\n",
       "    </tr>\n",
       "  </thead>\n",
       "  <tbody>\n",
       "    <tr>\n",
       "      <th>0</th>\n",
       "      <td>1998</td>\n",
       "      <td>Janeiro</td>\n",
       "      <td>Acre</td>\n",
       "      <td>0</td>\n",
       "      <td>1/1/1998</td>\n",
       "    </tr>\n",
       "    <tr>\n",
       "      <th>1</th>\n",
       "      <td>1999</td>\n",
       "      <td>Janeiro</td>\n",
       "      <td>Acre</td>\n",
       "      <td>0</td>\n",
       "      <td>1/1/1999</td>\n",
       "    </tr>\n",
       "    <tr>\n",
       "      <th>2</th>\n",
       "      <td>2000</td>\n",
       "      <td>Janeiro</td>\n",
       "      <td>Acre</td>\n",
       "      <td>0</td>\n",
       "      <td>1/1/2000</td>\n",
       "    </tr>\n",
       "    <tr>\n",
       "      <th>3</th>\n",
       "      <td>2001</td>\n",
       "      <td>Janeiro</td>\n",
       "      <td>Acre</td>\n",
       "      <td>0</td>\n",
       "      <td>1/1/2001</td>\n",
       "    </tr>\n",
       "    <tr>\n",
       "      <th>4</th>\n",
       "      <td>2002</td>\n",
       "      <td>Janeiro</td>\n",
       "      <td>Acre</td>\n",
       "      <td>0</td>\n",
       "      <td>1/1/2002</td>\n",
       "    </tr>\n",
       "  </tbody>\n",
       "</table>\n",
       "</div>"
      ],
      "text/plain": [
       "   year    month state number_of_fires      date\n",
       "0  1998  Janeiro  Acre               0  1/1/1998\n",
       "1  1999  Janeiro  Acre               0  1/1/1999\n",
       "2  2000  Janeiro  Acre               0  1/1/2000\n",
       "3  2001  Janeiro  Acre               0  1/1/2001\n",
       "4  2002  Janeiro  Acre               0  1/1/2002"
      ]
     },
     "execution_count": 72,
     "metadata": {},
     "output_type": "execute_result"
    }
   ],
   "source": [
    "df.head()"
   ]
  },
  {
   "cell_type": "code",
   "execution_count": 74,
   "metadata": {},
   "outputs": [
    {
     "data": {
      "text/html": [
       "<div>\n",
       "<style scoped>\n",
       "    .dataframe tbody tr th:only-of-type {\n",
       "        vertical-align: middle;\n",
       "    }\n",
       "\n",
       "    .dataframe tbody tr th {\n",
       "        vertical-align: top;\n",
       "    }\n",
       "\n",
       "    .dataframe thead th {\n",
       "        text-align: right;\n",
       "    }\n",
       "</style>\n",
       "<table border=\"1\" class=\"dataframe\">\n",
       "  <thead>\n",
       "    <tr style=\"text-align: right;\">\n",
       "      <th></th>\n",
       "      <th>index</th>\n",
       "      <th>year</th>\n",
       "      <th>month</th>\n",
       "      <th>state</th>\n",
       "      <th>number_of_fires</th>\n",
       "      <th>date</th>\n",
       "    </tr>\n",
       "  </thead>\n",
       "  <tbody>\n",
       "    <tr>\n",
       "      <th>0</th>\n",
       "      <td>0</td>\n",
       "      <td>1998</td>\n",
       "      <td>Janeiro</td>\n",
       "      <td>Acre</td>\n",
       "      <td>0</td>\n",
       "      <td>1/1/1998</td>\n",
       "    </tr>\n",
       "    <tr>\n",
       "      <th>1</th>\n",
       "      <td>1</td>\n",
       "      <td>1999</td>\n",
       "      <td>Janeiro</td>\n",
       "      <td>Acre</td>\n",
       "      <td>0</td>\n",
       "      <td>1/1/1999</td>\n",
       "    </tr>\n",
       "    <tr>\n",
       "      <th>2</th>\n",
       "      <td>2</td>\n",
       "      <td>2000</td>\n",
       "      <td>Janeiro</td>\n",
       "      <td>Acre</td>\n",
       "      <td>0</td>\n",
       "      <td>1/1/2000</td>\n",
       "    </tr>\n",
       "    <tr>\n",
       "      <th>3</th>\n",
       "      <td>3</td>\n",
       "      <td>2001</td>\n",
       "      <td>Janeiro</td>\n",
       "      <td>Acre</td>\n",
       "      <td>0</td>\n",
       "      <td>1/1/2001</td>\n",
       "    </tr>\n",
       "    <tr>\n",
       "      <th>4</th>\n",
       "      <td>4</td>\n",
       "      <td>2002</td>\n",
       "      <td>Janeiro</td>\n",
       "      <td>Acre</td>\n",
       "      <td>0</td>\n",
       "      <td>1/1/2002</td>\n",
       "    </tr>\n",
       "  </tbody>\n",
       "</table>\n",
       "</div>"
      ],
      "text/plain": [
       "   index  year    month state number_of_fires      date\n",
       "0      0  1998  Janeiro  Acre               0  1/1/1998\n",
       "1      1  1999  Janeiro  Acre               0  1/1/1999\n",
       "2      2  2000  Janeiro  Acre               0  1/1/2000\n",
       "3      3  2001  Janeiro  Acre               0  1/1/2001\n",
       "4      4  2002  Janeiro  Acre               0  1/1/2002"
      ]
     },
     "execution_count": 74,
     "metadata": {},
     "output_type": "execute_result"
    }
   ],
   "source": [
    "df = df.dropna()\n",
    "df = df.reset_index()\n",
    "df.head()"
   ]
  },
  {
   "cell_type": "code",
   "execution_count": 75,
   "metadata": {},
   "outputs": [
    {
     "data": {
      "text/plain": [
       "index              0\n",
       "year               0\n",
       "month              0\n",
       "state              0\n",
       "number_of_fires    0\n",
       "date               0\n",
       "dtype: int64"
      ]
     },
     "execution_count": 75,
     "metadata": {},
     "output_type": "execute_result"
    }
   ],
   "source": [
    "df.isnull().sum()"
   ]
  },
  {
   "cell_type": "code",
   "execution_count": 36,
   "metadata": {},
   "outputs": [
    {
     "data": {
      "text/html": [
       "<div>\n",
       "<style scoped>\n",
       "    .dataframe tbody tr th:only-of-type {\n",
       "        vertical-align: middle;\n",
       "    }\n",
       "\n",
       "    .dataframe tbody tr th {\n",
       "        vertical-align: top;\n",
       "    }\n",
       "\n",
       "    .dataframe thead th {\n",
       "        text-align: right;\n",
       "    }\n",
       "</style>\n",
       "<table border=\"1\" class=\"dataframe\">\n",
       "  <thead>\n",
       "    <tr style=\"text-align: right;\">\n",
       "      <th></th>\n",
       "      <th>year</th>\n",
       "      <th>month</th>\n",
       "      <th>state</th>\n",
       "      <th>number_of_fires</th>\n",
       "      <th>date</th>\n",
       "    </tr>\n",
       "  </thead>\n",
       "  <tbody>\n",
       "    <tr>\n",
       "      <th>0</th>\n",
       "      <td>1998</td>\n",
       "      <td>Janeiro</td>\n",
       "      <td>Acre</td>\n",
       "      <td>0</td>\n",
       "      <td>1/1/1998</td>\n",
       "    </tr>\n",
       "    <tr>\n",
       "      <th>1</th>\n",
       "      <td>1999</td>\n",
       "      <td>Janeiro</td>\n",
       "      <td>Acre</td>\n",
       "      <td>0</td>\n",
       "      <td>1/1/1999</td>\n",
       "    </tr>\n",
       "    <tr>\n",
       "      <th>2</th>\n",
       "      <td>2000</td>\n",
       "      <td>Janeiro</td>\n",
       "      <td>Acre</td>\n",
       "      <td>0</td>\n",
       "      <td>1/1/2000</td>\n",
       "    </tr>\n",
       "    <tr>\n",
       "      <th>3</th>\n",
       "      <td>2001</td>\n",
       "      <td>Janeiro</td>\n",
       "      <td>Acre</td>\n",
       "      <td>0</td>\n",
       "      <td>1/1/2001</td>\n",
       "    </tr>\n",
       "    <tr>\n",
       "      <th>4</th>\n",
       "      <td>2002</td>\n",
       "      <td>Janeiro</td>\n",
       "      <td>Acre</td>\n",
       "      <td>0</td>\n",
       "      <td>1/1/2002</td>\n",
       "    </tr>\n",
       "  </tbody>\n",
       "</table>\n",
       "</div>"
      ],
      "text/plain": [
       "   year    month state number_of_fires      date\n",
       "0  1998  Janeiro  Acre               0  1/1/1998\n",
       "1  1999  Janeiro  Acre               0  1/1/1999\n",
       "2  2000  Janeiro  Acre               0  1/1/2000\n",
       "3  2001  Janeiro  Acre               0  1/1/2001\n",
       "4  2002  Janeiro  Acre               0  1/1/2002"
      ]
     },
     "execution_count": 36,
     "metadata": {},
     "output_type": "execute_result"
    }
   ],
   "source": [
    "# Alright so it worked, now let's reload the data and look at a few other methods of dealing with NaN or Null values\n",
    "\n",
    "# Let's reload our dataframe\n",
    "file_name = \"https://raw.githubusercontent.com/rajeevratan84/datascienceforbusiness/master/amazon_fires.csv\"\n",
    "df = pd.read_csv(file_name, encoding = \"ISO-8859-1\")\n",
    "new_columns = {'ano' : 'year',\n",
    "               'estado': 'state',\n",
    "               'mes': 'month',\n",
    "               'numero': 'number_of_fires',\n",
    "               'encontro': 'date'}\n",
    "df.rename(columns = new_columns, inplace=True)\n",
    "df['number_of_fires'] = df['number_of_fires'].str.strip(\" Fires\")\n",
    "df_copy = df.copy()\n",
    "df.head()"
   ]
  },
  {
   "cell_type": "code",
   "execution_count": 37,
   "metadata": {},
   "outputs": [
    {
     "name": "stdout",
     "output_type": "stream",
     "text": [
      "0       False\n",
      "1       False\n",
      "2       False\n",
      "3       False\n",
      "4       False\n",
      "        ...  \n",
      "6449    False\n",
      "6450    False\n",
      "6451    False\n",
      "6452    False\n",
      "6453    False\n",
      "Name: number_of_fires, Length: 6454, dtype: bool\n"
     ]
    }
   ],
   "source": [
    "print(df['number_of_fires'].isnull())"
   ]
  },
  {
   "cell_type": "code",
   "execution_count": 38,
   "metadata": {},
   "outputs": [
    {
     "data": {
      "text/html": [
       "<div>\n",
       "<style scoped>\n",
       "    .dataframe tbody tr th:only-of-type {\n",
       "        vertical-align: middle;\n",
       "    }\n",
       "\n",
       "    .dataframe tbody tr th {\n",
       "        vertical-align: top;\n",
       "    }\n",
       "\n",
       "    .dataframe thead th {\n",
       "        text-align: right;\n",
       "    }\n",
       "</style>\n",
       "<table border=\"1\" class=\"dataframe\">\n",
       "  <thead>\n",
       "    <tr style=\"text-align: right;\">\n",
       "      <th></th>\n",
       "      <th>year</th>\n",
       "      <th>month</th>\n",
       "      <th>state</th>\n",
       "      <th>number_of_fires</th>\n",
       "      <th>date</th>\n",
       "    </tr>\n",
       "  </thead>\n",
       "  <tbody>\n",
       "    <tr>\n",
       "      <th>68</th>\n",
       "      <td>2006</td>\n",
       "      <td>Abril</td>\n",
       "      <td>Acre</td>\n",
       "      <td>NaN</td>\n",
       "      <td>1/1/2006</td>\n",
       "    </tr>\n",
       "    <tr>\n",
       "      <th>110</th>\n",
       "      <td>2008</td>\n",
       "      <td>Junho</td>\n",
       "      <td>Acre</td>\n",
       "      <td>NaN</td>\n",
       "      <td>1/1/2008</td>\n",
       "    </tr>\n",
       "    <tr>\n",
       "      <th>127</th>\n",
       "      <td>2005</td>\n",
       "      <td>Julho</td>\n",
       "      <td>Acre</td>\n",
       "      <td>NaN</td>\n",
       "      <td>1/1/2005</td>\n",
       "    </tr>\n",
       "    <tr>\n",
       "      <th>206</th>\n",
       "      <td>2004</td>\n",
       "      <td>Novembro</td>\n",
       "      <td>Acre</td>\n",
       "      <td>NaN</td>\n",
       "      <td>1/1/2004</td>\n",
       "    </tr>\n",
       "    <tr>\n",
       "      <th>217</th>\n",
       "      <td>2015</td>\n",
       "      <td>Novembro</td>\n",
       "      <td>Acre</td>\n",
       "      <td>NaN</td>\n",
       "      <td>1/1/2015</td>\n",
       "    </tr>\n",
       "  </tbody>\n",
       "</table>\n",
       "</div>"
      ],
      "text/plain": [
       "     year     month state number_of_fires      date\n",
       "68   2006     Abril  Acre             NaN  1/1/2006\n",
       "110  2008     Junho  Acre             NaN  1/1/2008\n",
       "127  2005     Julho  Acre             NaN  1/1/2005\n",
       "206  2004  Novembro  Acre             NaN  1/1/2004\n",
       "217  2015  Novembro  Acre             NaN  1/1/2015"
      ]
     },
     "execution_count": 38,
     "metadata": {},
     "output_type": "execute_result"
    }
   ],
   "source": [
    "df[df['number_of_fires'].isnull()].head()"
   ]
  },
  {
   "cell_type": "code",
   "execution_count": 39,
   "metadata": {},
   "outputs": [
    {
     "data": {
      "text/plain": [
       "nan"
      ]
     },
     "execution_count": 39,
     "metadata": {},
     "output_type": "execute_result"
    }
   ],
   "source": [
    "df['number_of_fires'][68]"
   ]
  },
  {
   "cell_type": "code",
   "execution_count": 40,
   "metadata": {},
   "outputs": [
    {
     "data": {
      "text/plain": [
       "0         0\n",
       "1         0\n",
       "2         0\n",
       "3         0\n",
       "4         0\n",
       "       ... \n",
       "6449    128\n",
       "6450     85\n",
       "6451    223\n",
       "6452    373\n",
       "6453    119\n",
       "Name: number_of_fires, Length: 6454, dtype: object"
      ]
     },
     "execution_count": 40,
     "metadata": {},
     "output_type": "execute_result"
    }
   ],
   "source": [
    "df['number_of_fires'].fillna(0)"
   ]
  },
  {
   "cell_type": "code",
   "execution_count": 103,
   "metadata": {},
   "outputs": [],
   "source": [
    "df_copy = df.copy()"
   ]
  },
  {
   "cell_type": "code",
   "execution_count": 104,
   "metadata": {},
   "outputs": [
    {
     "data": {
      "text/plain": [
       "nan"
      ]
     },
     "execution_count": 104,
     "metadata": {},
     "output_type": "execute_result"
    }
   ],
   "source": [
    "df_copy['number_of_fires'][68]"
   ]
  },
  {
   "cell_type": "code",
   "execution_count": 105,
   "metadata": {},
   "outputs": [],
   "source": [
    "df_copy = df_copy.fillna(0)"
   ]
  },
  {
   "cell_type": "code",
   "execution_count": 106,
   "metadata": {},
   "outputs": [
    {
     "data": {
      "text/plain": [
       "0"
      ]
     },
     "execution_count": 106,
     "metadata": {},
     "output_type": "execute_result"
    }
   ],
   "source": [
    "df_copy['number_of_fires'][68]"
   ]
  },
  {
   "cell_type": "code",
   "execution_count": 110,
   "metadata": {},
   "outputs": [
    {
     "data": {
      "text/plain": [
       "year                   2006\n",
       "month                 Abril\n",
       "state                  Acre\n",
       "number_of_fires         NaN\n",
       "date               1/1/2006\n",
       "Name: 68, dtype: object"
      ]
     },
     "execution_count": 110,
     "metadata": {},
     "output_type": "execute_result"
    }
   ],
   "source": [
    "df.iloc[68]"
   ]
  },
  {
   "cell_type": "code",
   "execution_count": 118,
   "metadata": {},
   "outputs": [],
   "source": [
    "df[\"number_of_fires\"] = df[\"number_of_fires\"].replace('','0').astype(float)"
   ]
  },
  {
   "cell_type": "code",
   "execution_count": 119,
   "metadata": {},
   "outputs": [
    {
     "data": {
      "text/html": [
       "<div>\n",
       "<style scoped>\n",
       "    .dataframe tbody tr th:only-of-type {\n",
       "        vertical-align: middle;\n",
       "    }\n",
       "\n",
       "    .dataframe tbody tr th {\n",
       "        vertical-align: top;\n",
       "    }\n",
       "\n",
       "    .dataframe thead th {\n",
       "        text-align: right;\n",
       "    }\n",
       "</style>\n",
       "<table border=\"1\" class=\"dataframe\">\n",
       "  <thead>\n",
       "    <tr style=\"text-align: right;\">\n",
       "      <th></th>\n",
       "      <th>year</th>\n",
       "      <th>month</th>\n",
       "      <th>state</th>\n",
       "      <th>number_of_fires</th>\n",
       "      <th>date</th>\n",
       "    </tr>\n",
       "  </thead>\n",
       "  <tbody>\n",
       "    <tr>\n",
       "      <th>0</th>\n",
       "      <td>1998</td>\n",
       "      <td>Janeiro</td>\n",
       "      <td>Acre</td>\n",
       "      <td>0.0</td>\n",
       "      <td>1/1/1998</td>\n",
       "    </tr>\n",
       "    <tr>\n",
       "      <th>1</th>\n",
       "      <td>1999</td>\n",
       "      <td>Janeiro</td>\n",
       "      <td>Acre</td>\n",
       "      <td>0.0</td>\n",
       "      <td>1/1/1999</td>\n",
       "    </tr>\n",
       "    <tr>\n",
       "      <th>2</th>\n",
       "      <td>2000</td>\n",
       "      <td>Janeiro</td>\n",
       "      <td>Acre</td>\n",
       "      <td>0.0</td>\n",
       "      <td>1/1/2000</td>\n",
       "    </tr>\n",
       "    <tr>\n",
       "      <th>3</th>\n",
       "      <td>2001</td>\n",
       "      <td>Janeiro</td>\n",
       "      <td>Acre</td>\n",
       "      <td>0.0</td>\n",
       "      <td>1/1/2001</td>\n",
       "    </tr>\n",
       "    <tr>\n",
       "      <th>4</th>\n",
       "      <td>2002</td>\n",
       "      <td>Janeiro</td>\n",
       "      <td>Acre</td>\n",
       "      <td>0.0</td>\n",
       "      <td>1/1/2002</td>\n",
       "    </tr>\n",
       "  </tbody>\n",
       "</table>\n",
       "</div>"
      ],
      "text/plain": [
       "   year    month state  number_of_fires      date\n",
       "0  1998  Janeiro  Acre              0.0  1/1/1998\n",
       "1  1999  Janeiro  Acre              0.0  1/1/1999\n",
       "2  2000  Janeiro  Acre              0.0  1/1/2000\n",
       "3  2001  Janeiro  Acre              0.0  1/1/2001\n",
       "4  2002  Janeiro  Acre              0.0  1/1/2002"
      ]
     },
     "execution_count": 119,
     "metadata": {},
     "output_type": "execute_result"
    }
   ],
   "source": [
    "df.head()"
   ]
  },
  {
   "cell_type": "code",
   "execution_count": 121,
   "metadata": {},
   "outputs": [],
   "source": [
    "df[\"number_of_fires\"] = df[\"number_of_fires\"].fillna(0)"
   ]
  },
  {
   "cell_type": "code",
   "execution_count": 122,
   "metadata": {},
   "outputs": [
    {
     "data": {
      "text/plain": [
       "year               0\n",
       "month              0\n",
       "state              0\n",
       "number_of_fires    0\n",
       "date               0\n",
       "dtype: int64"
      ]
     },
     "execution_count": 122,
     "metadata": {},
     "output_type": "execute_result"
    }
   ],
   "source": [
    "df.isnull().sum()"
   ]
  },
  {
   "cell_type": "code",
   "execution_count": 137,
   "metadata": {},
   "outputs": [
    {
     "data": {
      "text/plain": [
       "array([nan], dtype=object)"
      ]
     },
     "execution_count": 137,
     "metadata": {},
     "output_type": "execute_result"
    }
   ],
   "source": [
    "df['month'].unique()"
   ]
  },
  {
   "cell_type": "code",
   "execution_count": 150,
   "metadata": {},
   "outputs": [
    {
     "data": {
      "text/html": [
       "<div>\n",
       "<style scoped>\n",
       "    .dataframe tbody tr th:only-of-type {\n",
       "        vertical-align: middle;\n",
       "    }\n",
       "\n",
       "    .dataframe tbody tr th {\n",
       "        vertical-align: top;\n",
       "    }\n",
       "\n",
       "    .dataframe thead th {\n",
       "        text-align: right;\n",
       "    }\n",
       "</style>\n",
       "<table border=\"1\" class=\"dataframe\">\n",
       "  <thead>\n",
       "    <tr style=\"text-align: right;\">\n",
       "      <th></th>\n",
       "      <th>ano</th>\n",
       "      <th>mes</th>\n",
       "      <th>estado</th>\n",
       "      <th>numero</th>\n",
       "      <th>encontro</th>\n",
       "    </tr>\n",
       "  </thead>\n",
       "  <tbody>\n",
       "    <tr>\n",
       "      <th>6449</th>\n",
       "      <td>2012</td>\n",
       "      <td>Dezembro</td>\n",
       "      <td>Tocantins</td>\n",
       "      <td>128</td>\n",
       "      <td>1/1/2012</td>\n",
       "    </tr>\n",
       "    <tr>\n",
       "      <th>6450</th>\n",
       "      <td>2013</td>\n",
       "      <td>Dezembro</td>\n",
       "      <td>Tocantins</td>\n",
       "      <td>85</td>\n",
       "      <td>1/1/2013</td>\n",
       "    </tr>\n",
       "    <tr>\n",
       "      <th>6451</th>\n",
       "      <td>2014</td>\n",
       "      <td>Dezembro</td>\n",
       "      <td>Tocantins</td>\n",
       "      <td>223</td>\n",
       "      <td>1/1/2014</td>\n",
       "    </tr>\n",
       "    <tr>\n",
       "      <th>6452</th>\n",
       "      <td>2015</td>\n",
       "      <td>Dezembro</td>\n",
       "      <td>Tocantins</td>\n",
       "      <td>373</td>\n",
       "      <td>1/1/2015</td>\n",
       "    </tr>\n",
       "    <tr>\n",
       "      <th>6453</th>\n",
       "      <td>2016</td>\n",
       "      <td>Dezembro</td>\n",
       "      <td>Tocantins</td>\n",
       "      <td>119</td>\n",
       "      <td>1/1/2016</td>\n",
       "    </tr>\n",
       "  </tbody>\n",
       "</table>\n",
       "</div>"
      ],
      "text/plain": [
       "       ano       mes     estado numero  encontro\n",
       "6449  2012  Dezembro  Tocantins    128  1/1/2012\n",
       "6450  2013  Dezembro  Tocantins     85  1/1/2013\n",
       "6451  2014  Dezembro  Tocantins    223  1/1/2014\n",
       "6452  2015  Dezembro  Tocantins    373  1/1/2015\n",
       "6453  2016  Dezembro  Tocantins    119  1/1/2016"
      ]
     },
     "execution_count": 150,
     "metadata": {},
     "output_type": "execute_result"
    }
   ],
   "source": [
    "# Let's load a new dataset on the number of fires in the Amazon rainforest \n",
    "\n",
    "import pandas as pd\n",
    "\n",
    "file_name = \"https://raw.githubusercontent.com/rajeevratan84/datascienceforbusiness/master/amazon_fires.csv\"\n",
    "df = pd.read_csv(file_name, encoding = \"ISO-8859-1\")\n",
    "\n",
    "df.tail()"
   ]
  },
  {
   "cell_type": "code",
   "execution_count": 152,
   "metadata": {},
   "outputs": [],
   "source": [
    "new_columns = {'ano' : 'year',\n",
    "               'estado': 'state',\n",
    "               'mes': 'month',\n",
    "               'numero': 'number_of_fires',\n",
    "               'encontro': 'date'}\n",
    "\n",
    "df.rename(columns = new_columns, inplace=True)"
   ]
  },
  {
   "cell_type": "code",
   "execution_count": 153,
   "metadata": {},
   "outputs": [
    {
     "data": {
      "text/plain": [
       "0    January\n",
       "1    January\n",
       "2    January\n",
       "3    January\n",
       "4    January\n",
       "Name: month, dtype: object"
      ]
     },
     "execution_count": 153,
     "metadata": {},
     "output_type": "execute_result"
    }
   ],
   "source": [
    "month_translations = {'Janeiro': 'January',\n",
    "'Fevereiro': 'February',\n",
    "'Março': 'March',\n",
    "'Abril': 'April',\n",
    "'Maio': 'May',\n",
    "'Junho': 'June',\n",
    "'Julho': 'July',\n",
    "'Agosto': 'August',\n",
    "'Setembro': 'September',\n",
    "'Outubro': 'October',\n",
    "'Novembro': 'November',\n",
    "'Dezembro': 'December'}\n",
    "\n",
    "df[\"month\"] = df[\"month\"].map(month_translations)\n",
    "df[\"month\"].head()"
   ]
  },
  {
   "cell_type": "code",
   "execution_count": 154,
   "metadata": {},
   "outputs": [
    {
     "data": {
      "text/plain": [
       "year                 0\n",
       "month                0\n",
       "state                0\n",
       "number_of_fires    132\n",
       "date                 0\n",
       "dtype: int64"
      ]
     },
     "execution_count": 154,
     "metadata": {},
     "output_type": "execute_result"
    }
   ],
   "source": [
    "df.isnull().sum()"
   ]
  },
  {
   "cell_type": "code",
   "execution_count": 155,
   "metadata": {},
   "outputs": [
    {
     "data": {
      "text/plain": [
       "array(['Acre', 'alagoas', 'Amapa', 'Amazonas', 'Bahia', 'Ceara',\n",
       "       'Distrito Federal', 'Espirito Santo', 'Goias', 'Maranhao',\n",
       "       'Mato Grosso', 'Minas Gerais', 'pará', 'Paraiba', 'Pernambuco',\n",
       "       'Piau', 'Rio', 'rondonia', 'Roraima', 'Santa Catarina',\n",
       "       'Sao Paulo', 'Sergipe', 'Tocantins'], dtype=object)"
      ]
     },
     "execution_count": 155,
     "metadata": {},
     "output_type": "execute_result"
    }
   ],
   "source": [
    "df['state'].unique()"
   ]
  },
  {
   "cell_type": "code",
   "execution_count": 156,
   "metadata": {},
   "outputs": [
    {
     "data": {
      "text/html": [
       "<div>\n",
       "<style scoped>\n",
       "    .dataframe tbody tr th:only-of-type {\n",
       "        vertical-align: middle;\n",
       "    }\n",
       "\n",
       "    .dataframe tbody tr th {\n",
       "        vertical-align: top;\n",
       "    }\n",
       "\n",
       "    .dataframe thead th {\n",
       "        text-align: right;\n",
       "    }\n",
       "</style>\n",
       "<table border=\"1\" class=\"dataframe\">\n",
       "  <thead>\n",
       "    <tr style=\"text-align: right;\">\n",
       "      <th></th>\n",
       "      <th>year</th>\n",
       "      <th>month</th>\n",
       "      <th>state</th>\n",
       "      <th>number_of_fires</th>\n",
       "      <th>date</th>\n",
       "    </tr>\n",
       "  </thead>\n",
       "  <tbody>\n",
       "    <tr>\n",
       "      <th>0</th>\n",
       "      <td>1998</td>\n",
       "      <td>January</td>\n",
       "      <td>Acre</td>\n",
       "      <td>0 Fires</td>\n",
       "      <td>1/1/1998</td>\n",
       "    </tr>\n",
       "    <tr>\n",
       "      <th>1</th>\n",
       "      <td>1999</td>\n",
       "      <td>January</td>\n",
       "      <td>Acre</td>\n",
       "      <td>0 Fires</td>\n",
       "      <td>1/1/1999</td>\n",
       "    </tr>\n",
       "    <tr>\n",
       "      <th>2</th>\n",
       "      <td>2000</td>\n",
       "      <td>January</td>\n",
       "      <td>Acre</td>\n",
       "      <td>0 Fires</td>\n",
       "      <td>1/1/2000</td>\n",
       "    </tr>\n",
       "    <tr>\n",
       "      <th>3</th>\n",
       "      <td>2001</td>\n",
       "      <td>January</td>\n",
       "      <td>Acre</td>\n",
       "      <td>0 Fires</td>\n",
       "      <td>1/1/2001</td>\n",
       "    </tr>\n",
       "    <tr>\n",
       "      <th>4</th>\n",
       "      <td>2002</td>\n",
       "      <td>January</td>\n",
       "      <td>Acre</td>\n",
       "      <td>0 Fires</td>\n",
       "      <td>1/1/2002</td>\n",
       "    </tr>\n",
       "  </tbody>\n",
       "</table>\n",
       "</div>"
      ],
      "text/plain": [
       "   year    month state number_of_fires      date\n",
       "0  1998  January  Acre         0 Fires  1/1/1998\n",
       "1  1999  January  Acre         0 Fires  1/1/1999\n",
       "2  2000  January  Acre         0 Fires  1/1/2000\n",
       "3  2001  January  Acre         0 Fires  1/1/2001\n",
       "4  2002  January  Acre         0 Fires  1/1/2002"
      ]
     },
     "execution_count": 156,
     "metadata": {},
     "output_type": "execute_result"
    }
   ],
   "source": [
    "df.head()"
   ]
  },
  {
   "cell_type": "code",
   "execution_count": 157,
   "metadata": {},
   "outputs": [
    {
     "data": {
      "text/html": [
       "<div>\n",
       "<style scoped>\n",
       "    .dataframe tbody tr th:only-of-type {\n",
       "        vertical-align: middle;\n",
       "    }\n",
       "\n",
       "    .dataframe tbody tr th {\n",
       "        vertical-align: top;\n",
       "    }\n",
       "\n",
       "    .dataframe thead th {\n",
       "        text-align: right;\n",
       "    }\n",
       "</style>\n",
       "<table border=\"1\" class=\"dataframe\">\n",
       "  <thead>\n",
       "    <tr style=\"text-align: right;\">\n",
       "      <th></th>\n",
       "      <th>year</th>\n",
       "      <th>month</th>\n",
       "      <th>state</th>\n",
       "      <th>number_of_fires</th>\n",
       "    </tr>\n",
       "  </thead>\n",
       "  <tbody>\n",
       "    <tr>\n",
       "      <th>0</th>\n",
       "      <td>1998</td>\n",
       "      <td>January</td>\n",
       "      <td>Acre</td>\n",
       "      <td>0 Fires</td>\n",
       "    </tr>\n",
       "    <tr>\n",
       "      <th>1</th>\n",
       "      <td>1999</td>\n",
       "      <td>January</td>\n",
       "      <td>Acre</td>\n",
       "      <td>0 Fires</td>\n",
       "    </tr>\n",
       "    <tr>\n",
       "      <th>2</th>\n",
       "      <td>2000</td>\n",
       "      <td>January</td>\n",
       "      <td>Acre</td>\n",
       "      <td>0 Fires</td>\n",
       "    </tr>\n",
       "    <tr>\n",
       "      <th>3</th>\n",
       "      <td>2001</td>\n",
       "      <td>January</td>\n",
       "      <td>Acre</td>\n",
       "      <td>0 Fires</td>\n",
       "    </tr>\n",
       "    <tr>\n",
       "      <th>4</th>\n",
       "      <td>2002</td>\n",
       "      <td>January</td>\n",
       "      <td>Acre</td>\n",
       "      <td>0 Fires</td>\n",
       "    </tr>\n",
       "    <tr>\n",
       "      <th>...</th>\n",
       "      <td>...</td>\n",
       "      <td>...</td>\n",
       "      <td>...</td>\n",
       "      <td>...</td>\n",
       "    </tr>\n",
       "    <tr>\n",
       "      <th>6449</th>\n",
       "      <td>2012</td>\n",
       "      <td>December</td>\n",
       "      <td>Tocantins</td>\n",
       "      <td>128</td>\n",
       "    </tr>\n",
       "    <tr>\n",
       "      <th>6450</th>\n",
       "      <td>2013</td>\n",
       "      <td>December</td>\n",
       "      <td>Tocantins</td>\n",
       "      <td>85</td>\n",
       "    </tr>\n",
       "    <tr>\n",
       "      <th>6451</th>\n",
       "      <td>2014</td>\n",
       "      <td>December</td>\n",
       "      <td>Tocantins</td>\n",
       "      <td>223</td>\n",
       "    </tr>\n",
       "    <tr>\n",
       "      <th>6452</th>\n",
       "      <td>2015</td>\n",
       "      <td>December</td>\n",
       "      <td>Tocantins</td>\n",
       "      <td>373</td>\n",
       "    </tr>\n",
       "    <tr>\n",
       "      <th>6453</th>\n",
       "      <td>2016</td>\n",
       "      <td>December</td>\n",
       "      <td>Tocantins</td>\n",
       "      <td>119</td>\n",
       "    </tr>\n",
       "  </tbody>\n",
       "</table>\n",
       "<p>6454 rows × 4 columns</p>\n",
       "</div>"
      ],
      "text/plain": [
       "      year     month      state number_of_fires\n",
       "0     1998   January       Acre         0 Fires\n",
       "1     1999   January       Acre         0 Fires\n",
       "2     2000   January       Acre         0 Fires\n",
       "3     2001   January       Acre         0 Fires\n",
       "4     2002   January       Acre         0 Fires\n",
       "...    ...       ...        ...             ...\n",
       "6449  2012  December  Tocantins             128\n",
       "6450  2013  December  Tocantins              85\n",
       "6451  2014  December  Tocantins             223\n",
       "6452  2015  December  Tocantins             373\n",
       "6453  2016  December  Tocantins             119\n",
       "\n",
       "[6454 rows x 4 columns]"
      ]
     },
     "execution_count": 157,
     "metadata": {},
     "output_type": "execute_result"
    }
   ],
   "source": [
    "df.drop('date', axis = 1)"
   ]
  },
  {
   "cell_type": "code",
   "execution_count": 158,
   "metadata": {},
   "outputs": [
    {
     "data": {
      "text/html": [
       "<div>\n",
       "<style scoped>\n",
       "    .dataframe tbody tr th:only-of-type {\n",
       "        vertical-align: middle;\n",
       "    }\n",
       "\n",
       "    .dataframe tbody tr th {\n",
       "        vertical-align: top;\n",
       "    }\n",
       "\n",
       "    .dataframe thead th {\n",
       "        text-align: right;\n",
       "    }\n",
       "</style>\n",
       "<table border=\"1\" class=\"dataframe\">\n",
       "  <thead>\n",
       "    <tr style=\"text-align: right;\">\n",
       "      <th></th>\n",
       "      <th>year</th>\n",
       "      <th>month</th>\n",
       "      <th>state</th>\n",
       "      <th>number_of_fires</th>\n",
       "      <th>date</th>\n",
       "    </tr>\n",
       "  </thead>\n",
       "  <tbody>\n",
       "    <tr>\n",
       "      <th>0</th>\n",
       "      <td>1998</td>\n",
       "      <td>January</td>\n",
       "      <td>Acre</td>\n",
       "      <td>0 Fires</td>\n",
       "      <td>1/1/1998</td>\n",
       "    </tr>\n",
       "    <tr>\n",
       "      <th>1</th>\n",
       "      <td>1999</td>\n",
       "      <td>January</td>\n",
       "      <td>Acre</td>\n",
       "      <td>0 Fires</td>\n",
       "      <td>1/1/1999</td>\n",
       "    </tr>\n",
       "    <tr>\n",
       "      <th>2</th>\n",
       "      <td>2000</td>\n",
       "      <td>January</td>\n",
       "      <td>Acre</td>\n",
       "      <td>0 Fires</td>\n",
       "      <td>1/1/2000</td>\n",
       "    </tr>\n",
       "    <tr>\n",
       "      <th>3</th>\n",
       "      <td>2001</td>\n",
       "      <td>January</td>\n",
       "      <td>Acre</td>\n",
       "      <td>0 Fires</td>\n",
       "      <td>1/1/2001</td>\n",
       "    </tr>\n",
       "    <tr>\n",
       "      <th>4</th>\n",
       "      <td>2002</td>\n",
       "      <td>January</td>\n",
       "      <td>Acre</td>\n",
       "      <td>0 Fires</td>\n",
       "      <td>1/1/2002</td>\n",
       "    </tr>\n",
       "  </tbody>\n",
       "</table>\n",
       "</div>"
      ],
      "text/plain": [
       "   year    month state number_of_fires      date\n",
       "0  1998  January  Acre         0 Fires  1/1/1998\n",
       "1  1999  January  Acre         0 Fires  1/1/1999\n",
       "2  2000  January  Acre         0 Fires  1/1/2000\n",
       "3  2001  January  Acre         0 Fires  1/1/2001\n",
       "4  2002  January  Acre         0 Fires  1/1/2002"
      ]
     },
     "execution_count": 158,
     "metadata": {},
     "output_type": "execute_result"
    }
   ],
   "source": [
    "df.head()"
   ]
  },
  {
   "cell_type": "code",
   "execution_count": 159,
   "metadata": {},
   "outputs": [
    {
     "data": {
      "text/html": [
       "<div>\n",
       "<style scoped>\n",
       "    .dataframe tbody tr th:only-of-type {\n",
       "        vertical-align: middle;\n",
       "    }\n",
       "\n",
       "    .dataframe tbody tr th {\n",
       "        vertical-align: top;\n",
       "    }\n",
       "\n",
       "    .dataframe thead th {\n",
       "        text-align: right;\n",
       "    }\n",
       "</style>\n",
       "<table border=\"1\" class=\"dataframe\">\n",
       "  <thead>\n",
       "    <tr style=\"text-align: right;\">\n",
       "      <th></th>\n",
       "      <th>year</th>\n",
       "      <th>month</th>\n",
       "      <th>state</th>\n",
       "      <th>number_of_fires</th>\n",
       "      <th>date</th>\n",
       "    </tr>\n",
       "  </thead>\n",
       "  <tbody>\n",
       "    <tr>\n",
       "      <th>0</th>\n",
       "      <td>1998</td>\n",
       "      <td>Janeiro</td>\n",
       "      <td>Acre</td>\n",
       "      <td>0</td>\n",
       "      <td>1/1/1998</td>\n",
       "    </tr>\n",
       "    <tr>\n",
       "      <th>1</th>\n",
       "      <td>1999</td>\n",
       "      <td>Janeiro</td>\n",
       "      <td>Acre</td>\n",
       "      <td>0</td>\n",
       "      <td>1/1/1999</td>\n",
       "    </tr>\n",
       "    <tr>\n",
       "      <th>2</th>\n",
       "      <td>2000</td>\n",
       "      <td>Janeiro</td>\n",
       "      <td>Acre</td>\n",
       "      <td>0</td>\n",
       "      <td>1/1/2000</td>\n",
       "    </tr>\n",
       "    <tr>\n",
       "      <th>3</th>\n",
       "      <td>2001</td>\n",
       "      <td>Janeiro</td>\n",
       "      <td>Acre</td>\n",
       "      <td>0</td>\n",
       "      <td>1/1/2001</td>\n",
       "    </tr>\n",
       "    <tr>\n",
       "      <th>4</th>\n",
       "      <td>2002</td>\n",
       "      <td>Janeiro</td>\n",
       "      <td>Acre</td>\n",
       "      <td>0</td>\n",
       "      <td>1/1/2002</td>\n",
       "    </tr>\n",
       "  </tbody>\n",
       "</table>\n",
       "</div>"
      ],
      "text/plain": [
       "   year    month state number_of_fires      date\n",
       "0  1998  Janeiro  Acre               0  1/1/1998\n",
       "1  1999  Janeiro  Acre               0  1/1/1999\n",
       "2  2000  Janeiro  Acre               0  1/1/2000\n",
       "3  2001  Janeiro  Acre               0  1/1/2001\n",
       "4  2002  Janeiro  Acre               0  1/1/2002"
      ]
     },
     "execution_count": 159,
     "metadata": {},
     "output_type": "execute_result"
    }
   ],
   "source": [
    "# Let's reload the data\n",
    "\n",
    "# Let's reload our dataframe\n",
    "file_name = \"https://raw.githubusercontent.com/rajeevratan84/datascienceforbusiness/master/amazon_fires.csv\"\n",
    "df = pd.read_csv(file_name, encoding = \"ISO-8859-1\")\n",
    "new_columns = {'ano' : 'year',\n",
    "               'estado': 'state',\n",
    "               'mes': 'month',\n",
    "               'numero': 'number_of_fires',\n",
    "               'encontro': 'date'}\n",
    "df.rename(columns = new_columns, inplace=True)\n",
    "df['number_of_fires'] = df['number_of_fires'].str.strip(\" Fires\")\n",
    "df_copy = df.copy()\n",
    "df.head()"
   ]
  },
  {
   "cell_type": "code",
   "execution_count": 162,
   "metadata": {},
   "outputs": [
    {
     "data": {
      "text/html": [
       "<div>\n",
       "<style scoped>\n",
       "    .dataframe tbody tr th:only-of-type {\n",
       "        vertical-align: middle;\n",
       "    }\n",
       "\n",
       "    .dataframe tbody tr th {\n",
       "        vertical-align: top;\n",
       "    }\n",
       "\n",
       "    .dataframe thead th {\n",
       "        text-align: right;\n",
       "    }\n",
       "</style>\n",
       "<table border=\"1\" class=\"dataframe\">\n",
       "  <thead>\n",
       "    <tr style=\"text-align: right;\">\n",
       "      <th></th>\n",
       "      <th>month</th>\n",
       "      <th>state</th>\n",
       "      <th>number_of_fires</th>\n",
       "    </tr>\n",
       "  </thead>\n",
       "  <tbody>\n",
       "    <tr>\n",
       "      <th>0</th>\n",
       "      <td>Janeiro</td>\n",
       "      <td>Acre</td>\n",
       "      <td>0</td>\n",
       "    </tr>\n",
       "    <tr>\n",
       "      <th>1</th>\n",
       "      <td>Janeiro</td>\n",
       "      <td>Acre</td>\n",
       "      <td>0</td>\n",
       "    </tr>\n",
       "    <tr>\n",
       "      <th>2</th>\n",
       "      <td>Janeiro</td>\n",
       "      <td>Acre</td>\n",
       "      <td>0</td>\n",
       "    </tr>\n",
       "    <tr>\n",
       "      <th>3</th>\n",
       "      <td>Janeiro</td>\n",
       "      <td>Acre</td>\n",
       "      <td>0</td>\n",
       "    </tr>\n",
       "    <tr>\n",
       "      <th>4</th>\n",
       "      <td>Janeiro</td>\n",
       "      <td>Acre</td>\n",
       "      <td>0</td>\n",
       "    </tr>\n",
       "  </tbody>\n",
       "</table>\n",
       "</div>"
      ],
      "text/plain": [
       "     month state number_of_fires\n",
       "0  Janeiro  Acre               0\n",
       "1  Janeiro  Acre               0\n",
       "2  Janeiro  Acre               0\n",
       "3  Janeiro  Acre               0\n",
       "4  Janeiro  Acre               0"
      ]
     },
     "execution_count": 162,
     "metadata": {},
     "output_type": "execute_result"
    }
   ],
   "source": [
    "df = df.drop(['year','date'],axis = 1)\n",
    "df.head()"
   ]
  },
  {
   "cell_type": "code",
   "execution_count": 164,
   "metadata": {},
   "outputs": [
    {
     "data": {
      "text/html": [
       "<div>\n",
       "<style scoped>\n",
       "    .dataframe tbody tr th:only-of-type {\n",
       "        vertical-align: middle;\n",
       "    }\n",
       "\n",
       "    .dataframe tbody tr th {\n",
       "        vertical-align: top;\n",
       "    }\n",
       "\n",
       "    .dataframe thead th {\n",
       "        text-align: right;\n",
       "    }\n",
       "</style>\n",
       "<table border=\"1\" class=\"dataframe\">\n",
       "  <thead>\n",
       "    <tr style=\"text-align: right;\">\n",
       "      <th></th>\n",
       "      <th>month</th>\n",
       "      <th>state</th>\n",
       "      <th>number_of_fires</th>\n",
       "    </tr>\n",
       "  </thead>\n",
       "  <tbody>\n",
       "    <tr>\n",
       "      <th>1</th>\n",
       "      <td>Janeiro</td>\n",
       "      <td>Acre</td>\n",
       "      <td>0</td>\n",
       "    </tr>\n",
       "    <tr>\n",
       "      <th>2</th>\n",
       "      <td>Janeiro</td>\n",
       "      <td>Acre</td>\n",
       "      <td>0</td>\n",
       "    </tr>\n",
       "    <tr>\n",
       "      <th>3</th>\n",
       "      <td>Janeiro</td>\n",
       "      <td>Acre</td>\n",
       "      <td>0</td>\n",
       "    </tr>\n",
       "    <tr>\n",
       "      <th>4</th>\n",
       "      <td>Janeiro</td>\n",
       "      <td>Acre</td>\n",
       "      <td>0</td>\n",
       "    </tr>\n",
       "    <tr>\n",
       "      <th>5</th>\n",
       "      <td>Janeiro</td>\n",
       "      <td>Acre</td>\n",
       "      <td>10</td>\n",
       "    </tr>\n",
       "  </tbody>\n",
       "</table>\n",
       "</div>"
      ],
      "text/plain": [
       "     month state number_of_fires\n",
       "1  Janeiro  Acre               0\n",
       "2  Janeiro  Acre               0\n",
       "3  Janeiro  Acre               0\n",
       "4  Janeiro  Acre               0\n",
       "5  Janeiro  Acre              10"
      ]
     },
     "execution_count": 164,
     "metadata": {},
     "output_type": "execute_result"
    }
   ],
   "source": [
    "df = df.drop(df.index[0])\n",
    "df.head()"
   ]
  },
  {
   "cell_type": "code",
   "execution_count": 165,
   "metadata": {},
   "outputs": [
    {
     "data": {
      "text/html": [
       "<div>\n",
       "<style scoped>\n",
       "    .dataframe tbody tr th:only-of-type {\n",
       "        vertical-align: middle;\n",
       "    }\n",
       "\n",
       "    .dataframe tbody tr th {\n",
       "        vertical-align: top;\n",
       "    }\n",
       "\n",
       "    .dataframe thead th {\n",
       "        text-align: right;\n",
       "    }\n",
       "</style>\n",
       "<table border=\"1\" class=\"dataframe\">\n",
       "  <thead>\n",
       "    <tr style=\"text-align: right;\">\n",
       "      <th></th>\n",
       "      <th>index</th>\n",
       "      <th>month</th>\n",
       "      <th>state</th>\n",
       "      <th>number_of_fires</th>\n",
       "    </tr>\n",
       "  </thead>\n",
       "  <tbody>\n",
       "    <tr>\n",
       "      <th>0</th>\n",
       "      <td>1</td>\n",
       "      <td>Janeiro</td>\n",
       "      <td>Acre</td>\n",
       "      <td>0</td>\n",
       "    </tr>\n",
       "    <tr>\n",
       "      <th>1</th>\n",
       "      <td>2</td>\n",
       "      <td>Janeiro</td>\n",
       "      <td>Acre</td>\n",
       "      <td>0</td>\n",
       "    </tr>\n",
       "    <tr>\n",
       "      <th>2</th>\n",
       "      <td>3</td>\n",
       "      <td>Janeiro</td>\n",
       "      <td>Acre</td>\n",
       "      <td>0</td>\n",
       "    </tr>\n",
       "    <tr>\n",
       "      <th>3</th>\n",
       "      <td>4</td>\n",
       "      <td>Janeiro</td>\n",
       "      <td>Acre</td>\n",
       "      <td>0</td>\n",
       "    </tr>\n",
       "    <tr>\n",
       "      <th>4</th>\n",
       "      <td>5</td>\n",
       "      <td>Janeiro</td>\n",
       "      <td>Acre</td>\n",
       "      <td>10</td>\n",
       "    </tr>\n",
       "  </tbody>\n",
       "</table>\n",
       "</div>"
      ],
      "text/plain": [
       "   index    month state number_of_fires\n",
       "0      1  Janeiro  Acre               0\n",
       "1      2  Janeiro  Acre               0\n",
       "2      3  Janeiro  Acre               0\n",
       "3      4  Janeiro  Acre               0\n",
       "4      5  Janeiro  Acre              10"
      ]
     },
     "execution_count": 165,
     "metadata": {},
     "output_type": "execute_result"
    }
   ],
   "source": [
    "df = df.reset_index()\n",
    "df.head()"
   ]
  },
  {
   "cell_type": "code",
   "execution_count": 166,
   "metadata": {},
   "outputs": [
    {
     "data": {
      "text/html": [
       "<div>\n",
       "<style scoped>\n",
       "    .dataframe tbody tr th:only-of-type {\n",
       "        vertical-align: middle;\n",
       "    }\n",
       "\n",
       "    .dataframe tbody tr th {\n",
       "        vertical-align: top;\n",
       "    }\n",
       "\n",
       "    .dataframe thead th {\n",
       "        text-align: right;\n",
       "    }\n",
       "</style>\n",
       "<table border=\"1\" class=\"dataframe\">\n",
       "  <thead>\n",
       "    <tr style=\"text-align: right;\">\n",
       "      <th></th>\n",
       "      <th>index</th>\n",
       "      <th>month</th>\n",
       "      <th>state</th>\n",
       "      <th>number_of_fires</th>\n",
       "    </tr>\n",
       "  </thead>\n",
       "  <tbody>\n",
       "    <tr>\n",
       "      <th>0</th>\n",
       "      <td>1</td>\n",
       "      <td>Janeiro</td>\n",
       "      <td>Acre</td>\n",
       "      <td>0</td>\n",
       "    </tr>\n",
       "    <tr>\n",
       "      <th>4</th>\n",
       "      <td>5</td>\n",
       "      <td>Janeiro</td>\n",
       "      <td>Acre</td>\n",
       "      <td>10</td>\n",
       "    </tr>\n",
       "    <tr>\n",
       "      <th>5</th>\n",
       "      <td>6</td>\n",
       "      <td>Janeiro</td>\n",
       "      <td>Acre</td>\n",
       "      <td>0</td>\n",
       "    </tr>\n",
       "    <tr>\n",
       "      <th>6</th>\n",
       "      <td>7</td>\n",
       "      <td>Janeiro</td>\n",
       "      <td>Acre</td>\n",
       "      <td>12</td>\n",
       "    </tr>\n",
       "    <tr>\n",
       "      <th>7</th>\n",
       "      <td>8</td>\n",
       "      <td>Janeiro</td>\n",
       "      <td>Acre</td>\n",
       "      <td>4</td>\n",
       "    </tr>\n",
       "  </tbody>\n",
       "</table>\n",
       "</div>"
      ],
      "text/plain": [
       "   index    month state number_of_fires\n",
       "0      1  Janeiro  Acre               0\n",
       "4      5  Janeiro  Acre              10\n",
       "5      6  Janeiro  Acre               0\n",
       "6      7  Janeiro  Acre              12\n",
       "7      8  Janeiro  Acre               4"
      ]
     },
     "execution_count": 166,
     "metadata": {},
     "output_type": "execute_result"
    }
   ],
   "source": [
    "df = df.drop(df.index[1:4])\n",
    "df.head()"
   ]
  },
  {
   "cell_type": "code",
   "execution_count": 4,
   "metadata": {},
   "outputs": [
    {
     "data": {
      "text/html": [
       "<div>\n",
       "<style scoped>\n",
       "    .dataframe tbody tr th:only-of-type {\n",
       "        vertical-align: middle;\n",
       "    }\n",
       "\n",
       "    .dataframe tbody tr th {\n",
       "        vertical-align: top;\n",
       "    }\n",
       "\n",
       "    .dataframe thead th {\n",
       "        text-align: right;\n",
       "    }\n",
       "</style>\n",
       "<table border=\"1\" class=\"dataframe\">\n",
       "  <thead>\n",
       "    <tr style=\"text-align: right;\">\n",
       "      <th></th>\n",
       "      <th>year</th>\n",
       "      <th>month</th>\n",
       "      <th>state</th>\n",
       "      <th>number_of_fires</th>\n",
       "      <th>date</th>\n",
       "    </tr>\n",
       "  </thead>\n",
       "  <tbody>\n",
       "    <tr>\n",
       "      <th>0</th>\n",
       "      <td>1998</td>\n",
       "      <td>January</td>\n",
       "      <td>Acre</td>\n",
       "      <td>0</td>\n",
       "      <td>1/1/1998</td>\n",
       "    </tr>\n",
       "    <tr>\n",
       "      <th>1</th>\n",
       "      <td>1999</td>\n",
       "      <td>January</td>\n",
       "      <td>Acre</td>\n",
       "      <td>0</td>\n",
       "      <td>1/1/1999</td>\n",
       "    </tr>\n",
       "    <tr>\n",
       "      <th>2</th>\n",
       "      <td>2000</td>\n",
       "      <td>January</td>\n",
       "      <td>Acre</td>\n",
       "      <td>0</td>\n",
       "      <td>1/1/2000</td>\n",
       "    </tr>\n",
       "    <tr>\n",
       "      <th>3</th>\n",
       "      <td>2001</td>\n",
       "      <td>January</td>\n",
       "      <td>Acre</td>\n",
       "      <td>0</td>\n",
       "      <td>1/1/2001</td>\n",
       "    </tr>\n",
       "    <tr>\n",
       "      <th>4</th>\n",
       "      <td>2002</td>\n",
       "      <td>January</td>\n",
       "      <td>Acre</td>\n",
       "      <td>0</td>\n",
       "      <td>1/1/2002</td>\n",
       "    </tr>\n",
       "  </tbody>\n",
       "</table>\n",
       "</div>"
      ],
      "text/plain": [
       "   year    month state number_of_fires      date\n",
       "0  1998  January  Acre               0  1/1/1998\n",
       "1  1999  January  Acre               0  1/1/1999\n",
       "2  2000  January  Acre               0  1/1/2000\n",
       "3  2001  January  Acre               0  1/1/2001\n",
       "4  2002  January  Acre               0  1/1/2002"
      ]
     },
     "execution_count": 4,
     "metadata": {},
     "output_type": "execute_result"
    }
   ],
   "source": [
    "# Let's convert our Portuguese month names to English\n",
    "\n",
    "month_translations = {'Janeiro': 'January',\n",
    "'Fevereiro': 'February',\n",
    "'Março': 'March',\n",
    "'Abril': 'April',\n",
    "'Maio': 'May',\n",
    "'Junho': 'June',\n",
    "'Julho': 'July',\n",
    "'Agosto': 'August',\n",
    "'Setembro': 'September',\n",
    "'Outubro': 'October',\n",
    "'Novembro': 'November',\n",
    "'Dezembro': 'December'}\n",
    "\n",
    "df['month'] = df['month'].map(month_translations)\n",
    "df.head(5)"
   ]
  },
  {
   "cell_type": "code",
   "execution_count": 5,
   "metadata": {},
   "outputs": [
    {
     "data": {
      "text/plain": [
       "array(['January', 'February', 'March', 'April', 'May', 'June', 'July',\n",
       "       'August', 'September', 'October', 'November', 'December'],\n",
       "      dtype=object)"
      ]
     },
     "execution_count": 5,
     "metadata": {},
     "output_type": "execute_result"
    }
   ],
   "source": [
    "df['month'].unique()"
   ]
  },
  {
   "cell_type": "code",
   "execution_count": 7,
   "metadata": {},
   "outputs": [
    {
     "data": {
      "text/plain": [
       "array(['Acre', 'alagoas', 'Amapa', 'Amazonas', 'Bahia', 'Ceara',\n",
       "       'Distrito Federal', 'Espirito Santo', 'Goias', 'Maranhao',\n",
       "       'Mato Grosso', 'Minas Gerais', 'pará', 'Paraiba', 'Pernambuco',\n",
       "       'Piau', 'Rio', 'rondonia', 'Roraima', 'Santa Catarina',\n",
       "       'Sao Paulo', 'Sergipe', 'Tocantins'], dtype=object)"
      ]
     },
     "execution_count": 7,
     "metadata": {},
     "output_type": "execute_result"
    }
   ],
   "source": [
    "df['state'].unique()"
   ]
  },
  {
   "cell_type": "code",
   "execution_count": 8,
   "metadata": {},
   "outputs": [
    {
     "data": {
      "text/plain": [
       "array(['Acre', 'Alagoas', 'Amapa', 'Amazonas', 'Bahia', 'Ceara',\n",
       "       'Distrito Federal', 'Espirito Santo', 'Goias', 'Maranhao',\n",
       "       'Mato Grosso', 'Minas Gerais', 'Pará', 'Paraiba', 'Pernambuco',\n",
       "       'Piau', 'Rio', 'Rondonia', 'Roraima', 'Santa Catarina',\n",
       "       'Sao Paulo', 'Sergipe', 'Tocantins'], dtype=object)"
      ]
     },
     "execution_count": 8,
     "metadata": {},
     "output_type": "execute_result"
    }
   ],
   "source": [
    "df['state'] = df['state'].str.title()\n",
    "df['state'].unique()"
   ]
  },
  {
   "cell_type": "code",
   "execution_count": 9,
   "metadata": {},
   "outputs": [
    {
     "name": "stdout",
     "output_type": "stream",
     "text": [
      "1w\n"
     ]
    }
   ],
   "source": [
    "print(\"1w\")"
   ]
  },
  {
   "cell_type": "code",
   "execution_count": 10,
   "metadata": {},
   "outputs": [
    {
     "data": {
      "text/html": [
       "<div>\n",
       "<style scoped>\n",
       "    .dataframe tbody tr th:only-of-type {\n",
       "        vertical-align: middle;\n",
       "    }\n",
       "\n",
       "    .dataframe tbody tr th {\n",
       "        vertical-align: top;\n",
       "    }\n",
       "\n",
       "    .dataframe thead th {\n",
       "        text-align: right;\n",
       "    }\n",
       "</style>\n",
       "<table border=\"1\" class=\"dataframe\">\n",
       "  <thead>\n",
       "    <tr style=\"text-align: right;\">\n",
       "      <th></th>\n",
       "      <th>year</th>\n",
       "      <th>month</th>\n",
       "      <th>state</th>\n",
       "      <th>number_of_fires</th>\n",
       "      <th>date</th>\n",
       "    </tr>\n",
       "  </thead>\n",
       "  <tbody>\n",
       "    <tr>\n",
       "      <th>0</th>\n",
       "      <td>1998</td>\n",
       "      <td>Janeiro</td>\n",
       "      <td>Acre</td>\n",
       "      <td>0</td>\n",
       "      <td>1/1/1998</td>\n",
       "    </tr>\n",
       "    <tr>\n",
       "      <th>1</th>\n",
       "      <td>1999</td>\n",
       "      <td>Janeiro</td>\n",
       "      <td>Acre</td>\n",
       "      <td>0</td>\n",
       "      <td>1/1/1999</td>\n",
       "    </tr>\n",
       "    <tr>\n",
       "      <th>2</th>\n",
       "      <td>2000</td>\n",
       "      <td>Janeiro</td>\n",
       "      <td>Acre</td>\n",
       "      <td>0</td>\n",
       "      <td>1/1/2000</td>\n",
       "    </tr>\n",
       "    <tr>\n",
       "      <th>3</th>\n",
       "      <td>2001</td>\n",
       "      <td>Janeiro</td>\n",
       "      <td>Acre</td>\n",
       "      <td>0</td>\n",
       "      <td>1/1/2001</td>\n",
       "    </tr>\n",
       "    <tr>\n",
       "      <th>4</th>\n",
       "      <td>2002</td>\n",
       "      <td>Janeiro</td>\n",
       "      <td>Acre</td>\n",
       "      <td>0</td>\n",
       "      <td>1/1/2002</td>\n",
       "    </tr>\n",
       "  </tbody>\n",
       "</table>\n",
       "</div>"
      ],
      "text/plain": [
       "   year    month state number_of_fires      date\n",
       "0  1998  Janeiro  Acre               0  1/1/1998\n",
       "1  1999  Janeiro  Acre               0  1/1/1999\n",
       "2  2000  Janeiro  Acre               0  1/1/2000\n",
       "3  2001  Janeiro  Acre               0  1/1/2001\n",
       "4  2002  Janeiro  Acre               0  1/1/2002"
      ]
     },
     "execution_count": 10,
     "metadata": {},
     "output_type": "execute_result"
    }
   ],
   "source": [
    "# Let's reload the data\n",
    "\n",
    "# Let's reload our dataframe\n",
    "file_name = \"https://raw.githubusercontent.com/rajeevratan84/datascienceforbusiness/master/amazon_fires.csv\"\n",
    "df = pd.read_csv(file_name, encoding = \"ISO-8859-1\")\n",
    "new_columns = {'ano' : 'year',\n",
    "               'estado': 'state',\n",
    "               'mes': 'month',\n",
    "               'numero': 'number_of_fires',\n",
    "               'encontro': 'date'}\n",
    "df.rename(columns = new_columns, inplace=True)\n",
    "df['number_of_fires'] = df['number_of_fires'].str.strip(\" Fires\")\n",
    "df_copy = df.copy()\n",
    "df.head()\n"
   ]
  },
  {
   "cell_type": "code",
   "execution_count": 11,
   "metadata": {},
   "outputs": [
    {
     "data": {
      "text/html": [
       "<div>\n",
       "<style scoped>\n",
       "    .dataframe tbody tr th:only-of-type {\n",
       "        vertical-align: middle;\n",
       "    }\n",
       "\n",
       "    .dataframe tbody tr th {\n",
       "        vertical-align: top;\n",
       "    }\n",
       "\n",
       "    .dataframe thead th {\n",
       "        text-align: right;\n",
       "    }\n",
       "</style>\n",
       "<table border=\"1\" class=\"dataframe\">\n",
       "  <thead>\n",
       "    <tr style=\"text-align: right;\">\n",
       "      <th></th>\n",
       "      <th>month</th>\n",
       "      <th>state</th>\n",
       "      <th>number_of_fires</th>\n",
       "    </tr>\n",
       "  </thead>\n",
       "  <tbody>\n",
       "    <tr>\n",
       "      <th>0</th>\n",
       "      <td>Janeiro</td>\n",
       "      <td>Acre</td>\n",
       "      <td>0</td>\n",
       "    </tr>\n",
       "    <tr>\n",
       "      <th>1</th>\n",
       "      <td>Janeiro</td>\n",
       "      <td>Acre</td>\n",
       "      <td>0</td>\n",
       "    </tr>\n",
       "    <tr>\n",
       "      <th>2</th>\n",
       "      <td>Janeiro</td>\n",
       "      <td>Acre</td>\n",
       "      <td>0</td>\n",
       "    </tr>\n",
       "    <tr>\n",
       "      <th>3</th>\n",
       "      <td>Janeiro</td>\n",
       "      <td>Acre</td>\n",
       "      <td>0</td>\n",
       "    </tr>\n",
       "    <tr>\n",
       "      <th>4</th>\n",
       "      <td>Janeiro</td>\n",
       "      <td>Acre</td>\n",
       "      <td>0</td>\n",
       "    </tr>\n",
       "  </tbody>\n",
       "</table>\n",
       "</div>"
      ],
      "text/plain": [
       "     month state number_of_fires\n",
       "0  Janeiro  Acre               0\n",
       "1  Janeiro  Acre               0\n",
       "2  Janeiro  Acre               0\n",
       "3  Janeiro  Acre               0\n",
       "4  Janeiro  Acre               0"
      ]
     },
     "execution_count": 11,
     "metadata": {},
     "output_type": "execute_result"
    }
   ],
   "source": [
    "# Drop multiple columns \n",
    "df = df.drop([\"year\", \"date\"], axis=1)\n",
    "df.head()"
   ]
  },
  {
   "cell_type": "code",
   "execution_count": 16,
   "metadata": {},
   "outputs": [
    {
     "data": {
      "text/html": [
       "<div>\n",
       "<style scoped>\n",
       "    .dataframe tbody tr th:only-of-type {\n",
       "        vertical-align: middle;\n",
       "    }\n",
       "\n",
       "    .dataframe tbody tr th {\n",
       "        vertical-align: top;\n",
       "    }\n",
       "\n",
       "    .dataframe thead th {\n",
       "        text-align: right;\n",
       "    }\n",
       "</style>\n",
       "<table border=\"1\" class=\"dataframe\">\n",
       "  <thead>\n",
       "    <tr style=\"text-align: right;\">\n",
       "      <th></th>\n",
       "      <th>index</th>\n",
       "      <th>month</th>\n",
       "      <th>state</th>\n",
       "      <th>number_of_fires</th>\n",
       "    </tr>\n",
       "  </thead>\n",
       "  <tbody>\n",
       "    <tr>\n",
       "      <th>0</th>\n",
       "      <td>1</td>\n",
       "      <td>Janeiro</td>\n",
       "      <td>Acre</td>\n",
       "      <td>0</td>\n",
       "    </tr>\n",
       "    <tr>\n",
       "      <th>1</th>\n",
       "      <td>2</td>\n",
       "      <td>Janeiro</td>\n",
       "      <td>Acre</td>\n",
       "      <td>0</td>\n",
       "    </tr>\n",
       "    <tr>\n",
       "      <th>2</th>\n",
       "      <td>3</td>\n",
       "      <td>Janeiro</td>\n",
       "      <td>Acre</td>\n",
       "      <td>0</td>\n",
       "    </tr>\n",
       "    <tr>\n",
       "      <th>3</th>\n",
       "      <td>4</td>\n",
       "      <td>Janeiro</td>\n",
       "      <td>Acre</td>\n",
       "      <td>0</td>\n",
       "    </tr>\n",
       "    <tr>\n",
       "      <th>4</th>\n",
       "      <td>5</td>\n",
       "      <td>Janeiro</td>\n",
       "      <td>Acre</td>\n",
       "      <td>10</td>\n",
       "    </tr>\n",
       "  </tbody>\n",
       "</table>\n",
       "</div>"
      ],
      "text/plain": [
       "   index    month state number_of_fires\n",
       "0      1  Janeiro  Acre               0\n",
       "1      2  Janeiro  Acre               0\n",
       "2      3  Janeiro  Acre               0\n",
       "3      4  Janeiro  Acre               0\n",
       "4      5  Janeiro  Acre              10"
      ]
     },
     "execution_count": 16,
     "metadata": {},
     "output_type": "execute_result"
    }
   ],
   "source": [
    "# Let's drop the first row \n",
    "df = df.drop(df.index[0])\n",
    "df = df.reset_index()\n",
    "df.head()"
   ]
  },
  {
   "cell_type": "code",
   "execution_count": 21,
   "metadata": {},
   "outputs": [
    {
     "data": {
      "text/html": [
       "<div>\n",
       "<style scoped>\n",
       "    .dataframe tbody tr th:only-of-type {\n",
       "        vertical-align: middle;\n",
       "    }\n",
       "\n",
       "    .dataframe tbody tr th {\n",
       "        vertical-align: top;\n",
       "    }\n",
       "\n",
       "    .dataframe thead th {\n",
       "        text-align: right;\n",
       "    }\n",
       "</style>\n",
       "<table border=\"1\" class=\"dataframe\">\n",
       "  <thead>\n",
       "    <tr style=\"text-align: right;\">\n",
       "      <th></th>\n",
       "      <th>level_0</th>\n",
       "      <th>index</th>\n",
       "      <th>month</th>\n",
       "      <th>state</th>\n",
       "      <th>number_of_fires</th>\n",
       "    </tr>\n",
       "  </thead>\n",
       "  <tbody>\n",
       "    <tr>\n",
       "      <th>0</th>\n",
       "      <td>0</td>\n",
       "      <td>1</td>\n",
       "      <td>Janeiro</td>\n",
       "      <td>Acre</td>\n",
       "      <td>0</td>\n",
       "    </tr>\n",
       "    <tr>\n",
       "      <th>1</th>\n",
       "      <td>1</td>\n",
       "      <td>2</td>\n",
       "      <td>Janeiro</td>\n",
       "      <td>Acre</td>\n",
       "      <td>0</td>\n",
       "    </tr>\n",
       "    <tr>\n",
       "      <th>2</th>\n",
       "      <td>8</td>\n",
       "      <td>9</td>\n",
       "      <td>Janeiro</td>\n",
       "      <td>Acre</td>\n",
       "      <td>0</td>\n",
       "    </tr>\n",
       "    <tr>\n",
       "      <th>3</th>\n",
       "      <td>9</td>\n",
       "      <td>10</td>\n",
       "      <td>Janeiro</td>\n",
       "      <td>Acre</td>\n",
       "      <td>0</td>\n",
       "    </tr>\n",
       "    <tr>\n",
       "      <th>4</th>\n",
       "      <td>10</td>\n",
       "      <td>11</td>\n",
       "      <td>Janeiro</td>\n",
       "      <td>Acre</td>\n",
       "      <td>0</td>\n",
       "    </tr>\n",
       "  </tbody>\n",
       "</table>\n",
       "</div>"
      ],
      "text/plain": [
       "   level_0  index    month state number_of_fires\n",
       "0        0      1  Janeiro  Acre               0\n",
       "1        1      2  Janeiro  Acre               0\n",
       "2        8      9  Janeiro  Acre               0\n",
       "3        9     10  Janeiro  Acre               0\n",
       "4       10     11  Janeiro  Acre               0"
      ]
     },
     "execution_count": 21,
     "metadata": {},
     "output_type": "execute_result"
    }
   ],
   "source": [
    "# Drop multiple rows\n",
    "\n",
    "df = df.drop(df.index[[2,3]])\n",
    "df = df.reset_index()\n",
    "df.head()"
   ]
  },
  {
   "cell_type": "code",
   "execution_count": null,
   "metadata": {},
   "outputs": [],
   "source": []
  }
 ],
 "metadata": {
  "kernelspec": {
   "display_name": "Python 3",
   "language": "python",
   "name": "python3"
  },
  "language_info": {
   "codemirror_mode": {
    "name": "ipython",
    "version": 3
   },
   "file_extension": ".py",
   "mimetype": "text/x-python",
   "name": "python",
   "nbconvert_exporter": "python",
   "pygments_lexer": "ipython3",
   "version": "3.7.7"
  }
 },
 "nbformat": 4,
 "nbformat_minor": 4
}
