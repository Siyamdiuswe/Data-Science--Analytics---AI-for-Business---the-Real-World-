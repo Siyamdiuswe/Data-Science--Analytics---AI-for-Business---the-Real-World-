{
 "cells": [
  {
   "cell_type": "code",
   "execution_count": 4,
   "metadata": {},
   "outputs": [],
   "source": [
    "numbers = [5, 2, 7, 3, 4, 6, 8, 1]\n",
    "\n",
    "# Let's make a function that caculates squares\n",
    "def square_number(x): \n",
    "    return x**2"
   ]
  },
  {
   "cell_type": "code",
   "execution_count": 6,
   "metadata": {},
   "outputs": [
    {
     "name": "stdout",
     "output_type": "stream",
     "text": [
      "Non-Pythonic Approach:  [25, 4, 49, 9, 16, 36, 64, 1]\n"
     ]
    }
   ],
   "source": [
    "# A non-pythonic approach is using a for loop to iterate over each element in our list and append the result to our squares list\n",
    "squares = []\n",
    "for num in numbers:\n",
    "    squares.append(square_number(num))\n",
    "print('Non-Pythonic Approach: ', squares)"
   ]
  },
  {
   "cell_type": "code",
   "execution_count": 8,
   "metadata": {},
   "outputs": [
    {
     "name": "stdout",
     "output_type": "stream",
     "text": [
      "Pythonic approch:  [25, 4, 49, 9, 16, 36, 64, 1]\n"
     ]
    }
   ],
   "source": [
    "# A pythonic approach would be to use Map. It takes the function and the list as its input arguments.\n",
    "x = map(square_number, numbers)\n",
    "print('Pythonic approch: ',list(x))"
   ]
  },
  {
   "cell_type": "code",
   "execution_count": 9,
   "metadata": {},
   "outputs": [
    {
     "name": "stdout",
     "output_type": "stream",
     "text": [
      "5 3\n",
      "2 8\n",
      "7 6\n",
      "3 8\n",
      "4 1\n"
     ]
    }
   ],
   "source": [
    "a = [5, 2, 7, 3, 4]\n",
    "b = [3, 8, 6, 8, 1]\n",
    "\n",
    "# Iterate over two or more lists simultaneously\n",
    "for x,y in zip(a,b):\n",
    "    print(x,y)"
   ]
  },
  {
   "cell_type": "markdown",
   "metadata": {},
   "source": [
    "# Now let's look at filter().\n",
    "Filter takes a function and a sequence (list or dictionarty) as its input and works similarly to **map** however, filter only stores the elements that were evaluated to be **True**"
   ]
  },
  {
   "cell_type": "code",
   "execution_count": 10,
   "metadata": {},
   "outputs": [],
   "source": [
    "numbers = [5, 2, 7, 3, 4, 6, 8, 1, 9, 0, 10]\n",
    "\n",
    "# Will return true if input number is even\n",
    "def isEven(x):\n",
    "    return x % 2 == 0"
   ]
  },
  {
   "cell_type": "code",
   "execution_count": 11,
   "metadata": {},
   "outputs": [
    {
     "name": "stdout",
     "output_type": "stream",
     "text": [
      "Non-Pythonic Approach:  [2, 4, 6, 8, 0, 10]\n"
     ]
    }
   ],
   "source": [
    "# A non-pythonic approach would be to use a for loop with an if statement inside\n",
    "even_numbers = []\n",
    "for num in numbers:\n",
    "    if isEven(num):\n",
    "        even_numbers.append(num)\n",
    "print('Non-Pythonic Approach: ', even_numbers)"
   ]
  },
  {
   "cell_type": "code",
   "execution_count": 13,
   "metadata": {},
   "outputs": [
    {
     "name": "stdout",
     "output_type": "stream",
     "text": [
      "Pythonic approch:  [2, 4, 6, 8, 0, 10]\n"
     ]
    }
   ],
   "source": [
    "# A pythonic approach would be to use Map. It takes the function and the list as its input arguments.\n",
    "x = map(isEven, numbers)\n",
    "print('Pythonic approch: ',list(even_numbers))"
   ]
  },
  {
   "cell_type": "code",
   "execution_count": 15,
   "metadata": {},
   "outputs": [
    {
     "name": "stdout",
     "output_type": "stream",
     "text": [
      "Pythonic Approch:  [2, 4, 6, 8, 0, 10]\n"
     ]
    }
   ],
   "source": [
    "even_numbers = filter(isEven, numbers)\n",
    "print('Pythonic Approch: ',list(even_numbers))"
   ]
  },
  {
   "cell_type": "code",
   "execution_count": null,
   "metadata": {},
   "outputs": [],
   "source": []
  }
 ],
 "metadata": {
  "kernelspec": {
   "display_name": "Python 3",
   "language": "python",
   "name": "python3"
  },
  "language_info": {
   "codemirror_mode": {
    "name": "ipython",
    "version": 3
   },
   "file_extension": ".py",
   "mimetype": "text/x-python",
   "name": "python",
   "nbconvert_exporter": "python",
   "pygments_lexer": "ipython3",
   "version": "3.7.7"
  }
 },
 "nbformat": 4,
 "nbformat_minor": 4
}
