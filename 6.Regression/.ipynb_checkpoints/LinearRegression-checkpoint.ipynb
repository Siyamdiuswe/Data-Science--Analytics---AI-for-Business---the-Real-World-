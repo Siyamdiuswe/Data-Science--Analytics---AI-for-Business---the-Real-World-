{
 "cells": [
  {
   "cell_type": "code",
   "execution_count": 1,
   "metadata": {},
   "outputs": [],
   "source": [
    "# Our cost function\n",
    "def cost_function(m, b, x, y):\n",
    "    totalError = 0\n",
    "    for i in range(0, len(x)):\n",
    "        totalError += (y[i]-(m*x[i]+b))**2\n",
    "    return totalError/float(len(x))"
   ]
  },
  {
   "cell_type": "code",
   "execution_count": 2,
   "metadata": {},
   "outputs": [],
   "source": [
    "# Implementation of the gradient descent algorithm\n",
    "def gradient_descent(b, m, x, y, learning_rate, num_iterations):\n",
    "    N = float(len(x))\n",
    "    # repeat for num_iterations\n",
    "    for j in range(num_iterations): \n",
    "        b_gradient = 0\n",
    "        m_gradient = 0\n",
    "        for i in range(0, len(x)):\n",
    "            b_gradient += -(2/N) * (y[i] - ((m * x[i]) + b))\n",
    "            m_gradient += -(2/N) * x[i] * (y[i] - ((m * x[i]) + b))\n",
    "        b -= (learning_rate * b_gradient)\n",
    "        m -= (learning_rate * m_gradient)\n",
    "        # Every 100  iterations we print our error \n",
    "        if j%100==0:\n",
    "            print(\"MSE after \" + str(j) + \" iterations: \" + str(cost_function(m, b, x, y)))\n",
    "    return [b, m]"
   ]
  },
  {
   "cell_type": "code",
   "execution_count": 3,
   "metadata": {},
   "outputs": [
    {
     "data": {
      "text/plain": [
       "<matplotlib.collections.PathCollection at 0x237ec584488>"
      ]
     },
     "execution_count": 3,
     "metadata": {},
     "output_type": "execute_result"
    },
    {
     "data": {
      "image/png": "[encoded data removed]",
      "text/plain": [
       "<Figure size 432x288 with 1 Axes>"
      ]
     },
     "metadata": {
      "needs_background": "light"
     },
     "output_type": "display_data"
    }
   ],
   "source": [
    "import numpy as np\n",
    "import matplotlib.pyplot as plt\n",
    "\n",
    "# Let's create a some randon data using linspace\n",
    "x = np.linspace(0, 100, 50) # creates a range of 50 numbers evenly spaced between 0 and 100\n",
    "delta = np.random.uniform(-10, 10, x.size)\n",
    "y = 0.5*x + 3 + delta\n",
    "\n",
    "plt.scatter(x, y)"
   ]
  },
  {
   "cell_type": "code",
   "execution_count": 4,
   "metadata": {},
   "outputs": [
    {
     "name": "stdout",
     "output_type": "stream",
     "text": [
      "Initial MSE: 995.9374847993895\n",
      "MSE after 0 iterations: 135.41863020251282\n",
      "MSE after 100 iterations: 32.809530461481515\n",
      "MSE after 200 iterations: 32.7966437052791\n",
      "MSE after 300 iterations: 32.78388901449338\n",
      "MSE after 400 iterations: 32.771265035698065\n",
      "MSE after 500 iterations: 32.758770429336984\n",
      "MSE after 600 iterations: 32.746403869582025\n",
      "MSE after 700 iterations: 32.73416404419227\n",
      "MSE after 800 iterations: 32.72204965437487\n",
      "MSE after 900 iterations: 32.710059414647205\n",
      "b: 0.11943864284065224\n",
      "m: 0.5330309402671386\n",
      "MSE: 32.6983101222205\n"
     ]
    }
   ],
   "source": [
    "# Defining our learning rate\n",
    "learning_rate = 0.0001\n",
    "\n",
    "# defining our initial values of b and m\n",
    "initial_b = 0\n",
    "initial_m = 0\n",
    "\n",
    "# Setting how many iterations we wish to run\n",
    "num_iterations= 1000\n",
    "\n",
    "print('Initial MSE:', cost_function(initial_m, initial_b, x, y))\n",
    "[b, m] = gradient_descent(initial_b, initial_m, x, y, learning_rate, num_iterations)\n",
    "print('b:', b)\n",
    "print('m:', m)\n",
    "print('MSE:', cost_function(m, b, x, y))"
   ]
  },
  {
   "cell_type": "code",
   "execution_count": 5,
   "metadata": {},
   "outputs": [
    {
     "data": {
      "text/plain": [
       "[<matplotlib.lines.Line2D at 0x237ed702b08>]"
      ]
     },
     "execution_count": 5,
     "metadata": {},
     "output_type": "execute_result"
    },
    {
     "data": {
      "image/png": "[encoded data removed]",
      "text/plain": [
       "<Figure size 432x288 with 1 Axes>"
      ]
     },
     "metadata": {
      "needs_background": "light"
     },
     "output_type": "display_data"
    }
   ],
   "source": [
    "predictions = [(m * x[i]) + b for i in range(len(x))]\n",
    "plt.scatter(x, y)\n",
    "plt.plot(x, predictions, color='r')"
   ]
  },
  {
   "cell_type": "code",
   "execution_count": null,
   "metadata": {},
   "outputs": [],
   "source": []
  }
 ],
 "metadata": {
  "kernelspec": {
   "display_name": "Python 3",
   "language": "python",
   "name": "python3"
  },
  "language_info": {
   "codemirror_mode": {
    "name": "ipython",
    "version": 3
   },
   "file_extension": ".py",
   "mimetype": "text/x-python",
   "name": "python",
   "nbconvert_exporter": "python",
   "pygments_lexer": "ipython3",
   "version": "3.7.7"
  }
 },
 "nbformat": 4,
 "nbformat_minor": 4
}
